{
 "cells": [
  {
   "cell_type": "markdown",
   "id": "79d2fedd-ec22-4365-9e61-3ce3db715031",
   "metadata": {},
   "source": [
    "[![img/pythonista.png](img/pythonista.png)](https://www.pythonista.io)"
   ]
  },
  {
   "cell_type": "markdown",
   "id": "0af4d32d-3cf4-46cd-ab87-9908b104fa35",
   "metadata": {},
   "source": [
    "# Colecciones."
   ]
  },
  {
   "cell_type": "markdown",
   "id": "c0f7b7f3-9186-42f4-a696-ab0f8077bb2e",
   "metadata": {},
   "source": [
    "Scala ofrece una biblioteca de colecciones rica y potente que es fundamental para la manipulación de datos y la implementación de algoritmos. Las colecciones en Scala están diseñadas para ser fáciles de usar, versátiles y eficientes, lo que las convierte en una herramienta indispensable para los desarrolladores.\n",
    "\n",
    "https://docs.scala-lang.org/overviews/collections-2.13/overview.html"
   ]
  },
  {
   "cell_type": "markdown",
   "id": "c33d1f93-7e24-429d-b795-7719f4a6e1f9",
   "metadata": {},
   "source": [
    "## Características Fundamentales"
   ]
  },
  {
   "cell_type": "markdown",
   "id": "0d876abf-2e3c-4aed-a6ca-461b069161f0",
   "metadata": {},
   "source": [
    "La biblioteca de colecciones de Scala se distingue por su diseño uniforme y principios consistentes. Una característica clave es la distinción clara entre colecciones mutables e inmutables, lo que permite a los desarrolladores elegir la más adecuada según las necesidades de su aplicación, fomentando patrones de programación seguros y funcionales. Las colecciones inmutables, por defecto, promueven la inmutabilidad de datos, lo que facilita el razonamiento sobre el código y ayuda a evitar efectos secundarios no deseados. Por otro lado, las colecciones mutables están disponibles para casos de uso donde se requieren modificaciones frecuentes de los datos."
   ]
  },
  {
   "cell_type": "markdown",
   "id": "6366693f-042e-4229-96f4-ed797f619d3a",
   "metadata": {},
   "source": [
    "## Tipos de Colecciones"
   ]
  },
  {
   "cell_type": "markdown",
   "id": "07384dd3-a235-4f01-a3c5-786c5307be0e",
   "metadata": {},
   "source": [
    "Scala organiza sus colecciones en varias categorías principales, incluyendo secuencias (`Seq`), conjuntos (`Set`) y mapas (`Map`), cada uno con variantes mutables e inmutables. Dentro de estas categorías, existen múltiples implementaciones específicas optimizadas para diferentes casos de uso:\n",
    "\n",
    "- **Listas**: Son secuencias inmutables que representan una lista enlazada de elementos. Son ideales para colecciones donde el acceso secuencial es común, pero pueden ser menos eficientes para el acceso aleatorio debido a su naturaleza enlazada.\n",
    "- **Vectores**: Ofrecen un compromiso entre la eficiencia del acceso aleatorio y la inserción/eliminación de elementos. Son una excelente opción para colecciones grandes donde se necesita un acceso rápido a cualquier elemento.\n",
    "- **Buffers**: Son colecciones mutables que permiten añadir, actualizar y eliminar elementos de manera eficiente. `ArrayBuffer`, por ejemplo, es útil cuando se necesita una colección indexada con cambios de tamaño dinámico.\n",
    "- **Conjuntos y Mapas**: Scala proporciona varias implementaciones de conjuntos y mapas, cada uno optimizado para diferentes casos de uso, como `HashSet` para búsquedas rápidas o `TreeMap` para mantener un orden específico."
   ]
  },
  {
   "cell_type": "markdown",
   "id": "620f9699-0f6d-4313-8e7e-e5ee4970fb2e",
   "metadata": {},
   "source": [
    "| Tipo de Colección | Mutabilidad        | Descripción | Ejemplos de Uso |\r\n",
    "|-------------------|--------------------|-------------|-----------------|\r\n",
    "| **List**          | Inmutable          | Una secuencia de elementos ordenados que pueden contener duplicados. Acceso eficiente al primer elemento, pero el acceso a elementos arbitrarios puede ser lento. | Utilizada para mantener una secuencia de elementos cuando el orden importa y las modificaciones son principalmente adiciones o eliminaciones al principio. |\r\n",
    "| **Vector**        | Inmutable          | Una secuencia indexada que proporciona acceso eficiente tanto al principio como al final. Buena para colecciones de gran tamaño donde se requiere acceso aleatorio frecuente. | Ideal para almacenar grandes colecciones de datos donde se necesitan operaciones de acceso aleatorio y actualizaciones. |\r\n",
    "| **ArrayBuffer**   | Mutable            | Un búfer de tamaño ajustable que almacena elementos en un array. Proporciona un acceso rápido a los elementos y es eficiente para agregar elementos al final. | Adecuado para situaciones donde el tamaño de la colección varía dinámicamente y se requiere acceso rápido a los elementos por índice. |\r\n",
    "| **ListBuffer**    | Mutable            | Similar a `ArrayBuffer`, pero optimizado para agregar elementos al principio. | Útil cuando se necesita construir una lista de manera eficiente mediante la adición frecuente de elementos al principio. |\r\n",
    "| **Set**           | Inmutable/Mutable  | Una colección de elementos únicos sin un orden específico. Proporciona operaciones eficientes de búsqueda, adición y eliminación. | Utilizada para mantener un conjunto de elementos únicos, como un conjunto de identificadores únicos o valores sin duplicados. |\r\n",
    "| **Map**           | Inmutable/Mutable  | Una colección de pares clave-valor. Las claves son únicas, y cada clave se mapea a exactamente un valor. | Adecuada para representar asociaciones clave-valor, como diccionarios, cachés o tablas de búsqueda. |\r\n",
    "| **Seq**           | Inmutable/Mutable  | Una base trait para secuencias que especifica una secuencia ordenada de elementos. `List`, `Vector`, y `ArrayBuffer` son implementaciones concretas de `Seq`. | Se usa como un tipo genérico cuando se quiere trabajar con secuencias sin especificar una implementación concreta. |\r\n",
    "| **Queue**         | Inmutable/Mutable  | Una colección de elementos que sigue el principio de primero en entrar, primero en salir (FIFO). | Útil en situaciones de procesamiento de tareas, simulaciones, y algoritmos que requieren una estructura de datos de cola. |\r\n",
    "| **Stack**         | Mutable            | Una colección que sigue el principio de último en entrar, primero en salir (LIFO). | Utilizada en algoritmos que necesitan una estructura de datos de pila, como navegadores de historial, evaluación de expresiones y algoritmos de backtracking. |\r\n",
    "| **Iterable**      | Inmutable/Mutable  | Un trait base para todas las colecciones Scala que pueden ser iteradas. | Se utiliza cuando se desea acceder a los elementos de una colección uno por uno, sin importar el tipo específico de colección. |\r\n"
   ]
  },
  {
   "cell_type": "markdown",
   "id": "45c27983-25ad-4590-8576-cd4c9aa81dbb",
   "metadata": {},
   "source": [
    "## Colecciones `List`."
   ]
  },
  {
   "cell_type": "markdown",
   "id": "058bff89-dcc7-459c-b3ae-7427ad1657cf",
   "metadata": {},
   "source": [
    "Las colecciones `List` son una de las estructuras de datos más fundamentales en la programación funcional y corresponden a una colección ordenada de elementos del mismo tipo.\n",
    "\n",
    "Las colecciones `List`, ofrecen una amplia gama de funcionalidades que facilitan el manejo de colecciones de datos de manera eficiente y expresiva. Una `List` en Scala es inmutable, lo que significa que una vez creada, no puede ser modificada. Esta característica promueve un estilo de programación funcional y ayuda a evitar errores comunes relacionados con el estado mutable."
   ]
  },
  {
   "cell_type": "markdown",
   "id": "35d2b715-4eca-41f1-929e-d0b28cbec347",
   "metadata": {},
   "source": [
    "### Creación y Manipulación Básica\n",
    "\n",
    "La creación de listas es directa y se puede realizar de varias maneras. La forma más común es utilizando paréntesis.\n",
    "\n",
    "```\n",
    "List(<elemento 1>, <elemento 2>, ..., <elemento n>)\n",
    "```\n",
    "\n",
    "Para listas vacías, se puede usar `Nil`."
   ]
  },
  {
   "cell_type": "markdown",
   "id": "f8b1c66e-a808-41c1-b7c1-82e4836b6fbd",
   "metadata": {},
   "source": [
    "**Ejemplo:**"
   ]
  },
  {
   "cell_type": "code",
   "execution_count": 1,
   "id": "f02cc79a-fb4d-42c5-82b3-fa1a6bc78974",
   "metadata": {},
   "outputs": [
    {
     "data": {
      "text/plain": [
       "\u001b[36mnumeros\u001b[39m: \u001b[32mList\u001b[39m[\u001b[32mInt\u001b[39m] = \u001b[33mList\u001b[39m(\u001b[32m1\u001b[39m, \u001b[32m2\u001b[39m, \u001b[32m3\u001b[39m, \u001b[32m4\u001b[39m, \u001b[32m5\u001b[39m)"
      ]
     },
     "execution_count": 1,
     "metadata": {},
     "output_type": "execute_result"
    }
   ],
   "source": [
    "val numeros = List(1, 2, 3, 4, 5)"
   ]
  },
  {
   "cell_type": "code",
   "execution_count": 2,
   "id": "b031282c-c042-4d4f-83f2-904322e9c726",
   "metadata": {},
   "outputs": [
    {
     "data": {
      "text/plain": [
       "\u001b[36mcadenas\u001b[39m: \u001b[32mList\u001b[39m[\u001b[32mString\u001b[39m] = \u001b[33mList\u001b[39m(\u001b[32m\"hola\"\u001b[39m)"
      ]
     },
     "execution_count": 2,
     "metadata": {},
     "output_type": "execute_result"
    }
   ],
   "source": [
    "val cadenas: List[String] = List(\"hola\")"
   ]
  },
  {
   "cell_type": "code",
   "execution_count": 2,
   "id": "0af6d1b5-63ba-426f-a08c-fa95ffa700ac",
   "metadata": {
    "scrolled": true
   },
   "outputs": [
    {
     "name": "stderr",
     "output_type": "stream",
     "text": [
      "cell3.sc:1: type mismatch;\n",
      " found   : Boolean(true)\n",
      " required: String\n",
      "val cadenas: List[String] = List(true)\n",
      "                                 ^\n",
      "Compilation Failed"
     ]
    }
   ],
   "source": [
    "val cadenas: List[String] = List(true)"
   ]
  },
  {
   "cell_type": "code",
   "execution_count": 3,
   "id": "b76fb750-d17d-4971-af87-6a12404cbc4d",
   "metadata": {},
   "outputs": [
    {
     "data": {
      "text/plain": [
       "\u001b[36mlista_variada\u001b[39m: \u001b[32mList\u001b[39m[\u001b[32mAny\u001b[39m] = \u001b[33mList\u001b[39m(\u001b[32m1\u001b[39m, \u001b[32mtrue\u001b[39m, \u001b[32m\"Hola\"\u001b[39m)"
      ]
     },
     "execution_count": 3,
     "metadata": {},
     "output_type": "execute_result"
    }
   ],
   "source": [
    "val lista_variada = List(1, true, \"Hola\")"
   ]
  },
  {
   "cell_type": "code",
   "execution_count": 4,
   "id": "e879ddf4-e63c-40e9-972e-f0f658ce37dc",
   "metadata": {},
   "outputs": [
    {
     "data": {
      "text/plain": [
       "\u001b[36mlistaVacia\u001b[39m: \u001b[32mNil\u001b[39m.type = \u001b[33mList\u001b[39m()"
      ]
     },
     "execution_count": 4,
     "metadata": {},
     "output_type": "execute_result"
    }
   ],
   "source": [
    "val listaVacia = Nil"
   ]
  },
  {
   "cell_type": "markdown",
   "id": "41f2ee21-1587-449e-8e43-33581cf210c7",
   "metadata": {},
   "source": [
    "### Acceso a los  elementos de las colecciones `List`.\n",
    "Para acceder a los elementos de una lista en Scala, se pueden utilizar varios métodos, dependiendo de tus necesidades específicas. A continuación, se describen algunas de las formas más comunes de acceder a elementos en una lista en Scala:"
   ]
  },
  {
   "cell_type": "markdown",
   "id": "d9a31e40-dbc5-4157-888e-6895c01de707",
   "metadata": {},
   "source": [
    "### Acceso Directo\n",
    "\n",
    "Para acceder a un elemento específico por su índice, puedes utilizar el método `apply()` directamente o simplemente los paréntesis. **Nota:** los índices en Scala comienzan desde 0."
   ]
  },
  {
   "cell_type": "markdown",
   "id": "061271f1-ef65-4c34-9c7a-3e03afe29c87",
   "metadata": {},
   "source": [
    "**Ejemplo:**"
   ]
  },
  {
   "cell_type": "code",
   "execution_count": 5,
   "id": "ec842a03-efed-42b9-8262-b371e89a13d9",
   "metadata": {},
   "outputs": [
    {
     "data": {
      "text/plain": [
       "\u001b[36mnumeros\u001b[39m: \u001b[32mList\u001b[39m[\u001b[32mInt\u001b[39m] = \u001b[33mList\u001b[39m(\u001b[32m1\u001b[39m, \u001b[32m2\u001b[39m, \u001b[32m3\u001b[39m, \u001b[32m4\u001b[39m, \u001b[32m5\u001b[39m)"
      ]
     },
     "execution_count": 5,
     "metadata": {},
     "output_type": "execute_result"
    }
   ],
   "source": [
    "val numeros = List(1, 2, 3, 4, 5)"
   ]
  },
  {
   "cell_type": "markdown",
   "id": "4ce4e435-5d3c-43c8-9f0e-6fa1e839ac27",
   "metadata": {},
   "source": [
    "* Acceder al primer elemento (índice 0)"
   ]
  },
  {
   "cell_type": "code",
   "execution_count": 6,
   "id": "5c184716-fa3f-40e7-8200-c66e2ba364ca",
   "metadata": {},
   "outputs": [
    {
     "data": {
      "text/plain": [
       "\u001b[36mres6\u001b[39m: \u001b[32mInt\u001b[39m = \u001b[32m1\u001b[39m"
      ]
     },
     "execution_count": 6,
     "metadata": {},
     "output_type": "execute_result"
    }
   ],
   "source": [
    "numeros(0)"
   ]
  },
  {
   "cell_type": "markdown",
   "id": "cc6e0e12-da29-45d7-a1e8-24d43adc5f80",
   "metadata": {},
   "source": [
    "* Acceder al tercer elemento (índice 2)"
   ]
  },
  {
   "cell_type": "code",
   "execution_count": 7,
   "id": "fc80d288-1e84-4085-b55d-a41de5a496ef",
   "metadata": {},
   "outputs": [
    {
     "data": {
      "text/plain": [
       "\u001b[36mres7\u001b[39m: \u001b[32mInt\u001b[39m = \u001b[32m3\u001b[39m"
      ]
     },
     "execution_count": 7,
     "metadata": {},
     "output_type": "execute_result"
    }
   ],
   "source": [
    "numeros.apply(2)"
   ]
  },
  {
   "cell_type": "markdown",
   "id": "50396f50-9fa7-4677-a6b2-807030f18532",
   "metadata": {},
   "source": [
    "### Métodos `head`, `tail`, `last`, `init`\n",
    "\n",
    "- `head` devuelve el primer elemento de la lista.\n",
    "- `tail` devuelve una lista con todos los elementos excepto el primero.\n",
    "- `last` devuelve el último elemento de la lista.\n",
    "- `init` devuelve una lista con todos los elementos excepto el último."
   ]
  },
  {
   "cell_type": "markdown",
   "id": "55e9df2f-c6e0-4a8c-ba52-91644f3d4e43",
   "metadata": {},
   "source": [
    "**Ejemplos:**"
   ]
  },
  {
   "cell_type": "code",
   "execution_count": 10,
   "id": "48c5acf6-6069-4288-bb03-91ee5bac1d3c",
   "metadata": {},
   "outputs": [
    {
     "data": {
      "text/plain": [
       "\u001b[36melementos\u001b[39m: \u001b[32mList\u001b[39m[\u001b[32mChar\u001b[39m] = \u001b[33mList\u001b[39m(\u001b[32m'a'\u001b[39m, \u001b[32m'b'\u001b[39m, \u001b[32m'c'\u001b[39m, \u001b[32m'd'\u001b[39m)"
      ]
     },
     "execution_count": 10,
     "metadata": {},
     "output_type": "execute_result"
    }
   ],
   "source": [
    "val elementos = List('a', 'b', 'c', 'd')"
   ]
  },
  {
   "cell_type": "markdown",
   "id": "d92af71c-a7be-4072-9842-e3edbeaca3d2",
   "metadata": {},
   "source": [
    "* La siguiente celda regresa el primer elemento de `elementos`."
   ]
  },
  {
   "cell_type": "code",
   "execution_count": 11,
   "id": "bbe6fbb8-5610-4aeb-9bc1-c8d85d6ba5df",
   "metadata": {},
   "outputs": [
    {
     "data": {
      "text/plain": [
       "\u001b[36mres11\u001b[39m: \u001b[32mChar\u001b[39m = \u001b[32m'a'\u001b[39m"
      ]
     },
     "execution_count": 11,
     "metadata": {},
     "output_type": "execute_result"
    }
   ],
   "source": [
    "elementos.head"
   ]
  },
  {
   "cell_type": "markdown",
   "id": "0f9b972f-6ad0-4606-bedf-41bd7dd65bab",
   "metadata": {},
   "source": [
    "* La siguiente celda regresa el último elemento de `elementos`."
   ]
  },
  {
   "cell_type": "code",
   "execution_count": 12,
   "id": "85e9f99d-6054-4c3a-82e3-faae69355807",
   "metadata": {},
   "outputs": [
    {
     "data": {
      "text/plain": [
       "\u001b[36mres12\u001b[39m: \u001b[32mChar\u001b[39m = \u001b[32m'd'\u001b[39m"
      ]
     },
     "execution_count": 12,
     "metadata": {},
     "output_type": "execute_result"
    }
   ],
   "source": [
    "elementos.last"
   ]
  },
  {
   "cell_type": "code",
   "execution_count": null,
   "id": "0f944da0-a84a-4b44-92b7-6504dba146f4",
   "metadata": {},
   "outputs": [],
   "source": [
    "* La siguiente celda regresa todos, excepto el primer elemento de `elementos`."
   ]
  },
  {
   "cell_type": "code",
   "execution_count": 13,
   "id": "c0460f30-e431-4eda-870c-beade373c5bf",
   "metadata": {},
   "outputs": [
    {
     "data": {
      "text/plain": [
       "\u001b[36mres13\u001b[39m: \u001b[32mList\u001b[39m[\u001b[32mChar\u001b[39m] = \u001b[33mList\u001b[39m(\u001b[32m'b'\u001b[39m, \u001b[32m'c'\u001b[39m, \u001b[32m'd'\u001b[39m)"
      ]
     },
     "execution_count": 13,
     "metadata": {},
     "output_type": "execute_result"
    }
   ],
   "source": [
    "elementos.tail"
   ]
  },
  {
   "cell_type": "markdown",
   "id": "580b0ca4-5af1-427b-9c73-40c1a3b871d2",
   "metadata": {},
   "source": [
    "* La siguiente celda regresa todos, excepto el último elemento de `elementos`."
   ]
  },
  {
   "cell_type": "code",
   "execution_count": 14,
   "id": "824fe730-98f5-4687-8a6d-07aaf063cf8e",
   "metadata": {
    "scrolled": true
   },
   "outputs": [
    {
     "data": {
      "text/plain": [
       "\u001b[36mres14\u001b[39m: \u001b[32mList\u001b[39m[\u001b[32mChar\u001b[39m] = \u001b[33mList\u001b[39m(\u001b[32m'a'\u001b[39m, \u001b[32m'b'\u001b[39m, \u001b[32m'c'\u001b[39m)"
      ]
     },
     "execution_count": 14,
     "metadata": {},
     "output_type": "execute_result"
    }
   ],
   "source": [
    "elementos.init"
   ]
  },
  {
   "cell_type": "code",
   "execution_count": 15,
   "id": "75631254-4f2d-4122-a231-321d6b3d811a",
   "metadata": {},
   "outputs": [
    {
     "data": {
      "text/plain": [
       "\u001b[36mres15\u001b[39m: \u001b[32mList\u001b[39m[\u001b[32mChar\u001b[39m] = \u001b[33mList\u001b[39m(\u001b[32m'a'\u001b[39m, \u001b[32m'b'\u001b[39m, \u001b[32m'c'\u001b[39m, \u001b[32m'd'\u001b[39m)"
      ]
     },
     "execution_count": 15,
     "metadata": {},
     "output_type": "execute_result"
    }
   ],
   "source": [
    "elementos"
   ]
  },
  {
   "cell_type": "markdown",
   "id": "79c92572-28f3-4dc2-8430-55148368f77d",
   "metadata": {},
   "source": [
    "### Uso de `slice`\n",
    "\n",
    "El método `slice` permite obtener una sublista especificando los índices inicial y final.\n",
    "\n",
    "```\n",
    "slice(<n>, <m>)\n",
    "```\n",
    "\n",
    "Donde:\n",
    "\n",
    "* `<n>` es el índice inicial del rango.\n",
    "* `<m>` es   el índice previo al final del rango."
   ]
  },
  {
   "cell_type": "markdown",
   "id": "836f3865-34a7-4566-92ec-973259a93cd4",
   "metadata": {},
   "source": [
    "**Ejemplo:**"
   ]
  },
  {
   "cell_type": "code",
   "execution_count": 16,
   "id": "54b75118-ce5b-4dce-af0c-f40e4bd5c6e8",
   "metadata": {},
   "outputs": [
    {
     "data": {
      "text/plain": [
       "\u001b[36mnumeros\u001b[39m: \u001b[32mList\u001b[39m[\u001b[32mInt\u001b[39m] = \u001b[33mList\u001b[39m(\u001b[32m1\u001b[39m, \u001b[32m2\u001b[39m, \u001b[32m3\u001b[39m, \u001b[32m4\u001b[39m, \u001b[32m5\u001b[39m)"
      ]
     },
     "execution_count": 16,
     "metadata": {},
     "output_type": "execute_result"
    }
   ],
   "source": [
    "val numeros = List(1, 2, 3, 4, 5)"
   ]
  },
  {
   "cell_type": "markdown",
   "id": "47dec32c-db13-445c-875e-f3c9065ea49f",
   "metadata": {},
   "source": [
    "* La siguiente celda regresa una sublista desde el índice 1 al 3 (el índice final no se incluye)."
   ]
  },
  {
   "cell_type": "code",
   "execution_count": 17,
   "id": "8e05e0b2-e71a-4310-a78a-f2c49cdc457c",
   "metadata": {},
   "outputs": [
    {
     "data": {
      "text/plain": [
       "\u001b[36mres17\u001b[39m: \u001b[32mList\u001b[39m[\u001b[32mInt\u001b[39m] = \u001b[33mList\u001b[39m(\u001b[32m2\u001b[39m, \u001b[32m3\u001b[39m, \u001b[32m4\u001b[39m)"
      ]
     },
     "execution_count": 17,
     "metadata": {},
     "output_type": "execute_result"
    }
   ],
   "source": [
    "numeros.slice(1, 4)"
   ]
  },
  {
   "cell_type": "code",
   "execution_count": 19,
   "id": "bceba81f-e452-4a67-9470-663129004fc4",
   "metadata": {},
   "outputs": [
    {
     "data": {
      "text/plain": [
       "\u001b[36mres19\u001b[39m: \u001b[32mList\u001b[39m[\u001b[32mInt\u001b[39m] = \u001b[33mList\u001b[39m(\u001b[32m2\u001b[39m, \u001b[32m3\u001b[39m, \u001b[32m4\u001b[39m, \u001b[32m5\u001b[39m)"
      ]
     },
     "execution_count": 19,
     "metadata": {},
     "output_type": "execute_result"
    }
   ],
   "source": [
    "numeros.slice(1, 9)"
   ]
  },
  {
   "cell_type": "code",
   "execution_count": 20,
   "id": "6a972257-b626-452c-93e5-67582de5d287",
   "metadata": {},
   "outputs": [
    {
     "data": {
      "text/plain": [
       "\u001b[36mres20\u001b[39m: \u001b[32mList\u001b[39m[\u001b[32mInt\u001b[39m] = \u001b[33mList\u001b[39m()"
      ]
     },
     "execution_count": 20,
     "metadata": {},
     "output_type": "execute_result"
    }
   ],
   "source": [
    "numeros.slice(11, 4)"
   ]
  },
  {
   "cell_type": "code",
   "execution_count": 21,
   "id": "022d2a5b-1108-42df-a065-b37732e49f13",
   "metadata": {},
   "outputs": [
    {
     "data": {
      "text/plain": [
       "\u001b[36mres21\u001b[39m: \u001b[32mList\u001b[39m[\u001b[32mInt\u001b[39m] = \u001b[33mList\u001b[39m()"
      ]
     },
     "execution_count": 21,
     "metadata": {},
     "output_type": "execute_result"
    }
   ],
   "source": [
    "numeros.slice(3, 2)"
   ]
  },
  {
   "cell_type": "markdown",
   "id": "447757f6-8960-4988-b19b-6e7ef703c1b4",
   "metadata": {},
   "source": [
    "### Iteración y Búsqueda\n",
    "\n",
    "Para acceder a elementos específicos basados en ciertas condiciones, puedes utilizar métodos de alto orden como `filter`, `find`, o iterar sobre la lista con `foreach`, `for` o métodos similares."
   ]
  },
  {
   "cell_type": "markdown",
   "id": "83b74548-a9b8-4139-88ed-f1608514368a",
   "metadata": {},
   "source": [
    "**Ejemplos:**"
   ]
  },
  {
   "cell_type": "markdown",
   "id": "4d2c22a8-9acb-4f8c-96d1-e3d9b98accfc",
   "metadata": {},
   "source": [
    "* La siguiente celda regresará el primer número par."
   ]
  },
  {
   "cell_type": "code",
   "execution_count": 22,
   "id": "7e35ad52-3e6a-4a26-9aa4-90e100d05246",
   "metadata": {
    "scrolled": true
   },
   "outputs": [
    {
     "data": {
      "text/plain": [
       "\u001b[36mres22\u001b[39m: \u001b[32mOption\u001b[39m[\u001b[32mInt\u001b[39m] = \u001b[33mSome\u001b[39m(value = \u001b[32m2\u001b[39m)"
      ]
     },
     "execution_count": 22,
     "metadata": {},
     "output_type": "execute_result"
    }
   ],
   "source": [
    "numeros.find(_ % 2 == 0)"
   ]
  },
  {
   "cell_type": "markdown",
   "id": "74295e46-e55a-4b91-81ec-d9889a64bc23",
   "metadata": {},
   "source": [
    "* La siguiente celda regresará una lista de todos los números pares."
   ]
  },
  {
   "cell_type": "code",
   "execution_count": 23,
   "id": "29757345-81c5-49a6-b54f-cff32f4698e4",
   "metadata": {},
   "outputs": [
    {
     "data": {
      "text/plain": [
       "\u001b[36mres23\u001b[39m: \u001b[32mList\u001b[39m[\u001b[32mInt\u001b[39m] = \u001b[33mList\u001b[39m(\u001b[32m2\u001b[39m, \u001b[32m4\u001b[39m)"
      ]
     },
     "execution_count": 23,
     "metadata": {},
     "output_type": "execute_result"
    }
   ],
   "source": [
    "numeros.filter(_ % 2 == 0)"
   ]
  },
  {
   "cell_type": "code",
   "execution_count": 24,
   "id": "5c96a9b4-4c13-4f46-83ee-ca12b3c4be5f",
   "metadata": {},
   "outputs": [
    {
     "name": "stdout",
     "output_type": "stream",
     "text": [
      "1\n",
      "2\n",
      "3\n",
      "4\n",
      "5\n"
     ]
    }
   ],
   "source": [
    "for (numero <- numeros){\n",
    "println(numero)\n",
    "}"
   ]
  },
  {
   "cell_type": "code",
   "execution_count": 25,
   "id": "28556123-a766-4963-a25b-2b33a129ee9c",
   "metadata": {
    "scrolled": true
   },
   "outputs": [
    {
     "name": "stdout",
     "output_type": "stream",
     "text": [
      "2\n",
      "4\n",
      "6\n",
      "8\n",
      "10\n"
     ]
    }
   ],
   "source": [
    "numeros.foreach(numero => println(numero * 2))"
   ]
  },
  {
   "cell_type": "code",
   "execution_count": 26,
   "id": "861a8154-18d5-46c6-9f7e-4fd060b7d809",
   "metadata": {},
   "outputs": [],
   "source": [
    "numeros.foreach(numero => numero * 2)"
   ]
  },
  {
   "cell_type": "code",
   "execution_count": 29,
   "id": "d932bbfd-2594-4acf-938a-03db077276dc",
   "metadata": {},
   "outputs": [
    {
     "data": {
      "text/plain": [
       "\u001b[36mres29\u001b[39m: \u001b[32mList\u001b[39m[\u001b[32mInt\u001b[39m] = \u001b[33mList\u001b[39m(\u001b[32m1\u001b[39m, \u001b[32m2\u001b[39m, \u001b[32m3\u001b[39m, \u001b[32m4\u001b[39m, \u001b[32m5\u001b[39m, \u001b[32m5\u001b[39m)"
      ]
     },
     "execution_count": 29,
     "metadata": {},
     "output_type": "execute_result"
    }
   ],
   "source": [
    "numeros ++ List(5)"
   ]
  },
  {
   "cell_type": "code",
   "execution_count": 30,
   "id": "308f97dc-fdf9-497d-a726-8e3a04931ff6",
   "metadata": {},
   "outputs": [
    {
     "data": {
      "text/plain": [
       "\u001b[36mres30\u001b[39m: \u001b[32mList\u001b[39m[\u001b[32mInt\u001b[39m] = \u001b[33mList\u001b[39m(\u001b[32m1\u001b[39m, \u001b[32m2\u001b[39m, \u001b[32m3\u001b[39m, \u001b[32m4\u001b[39m, \u001b[32m5\u001b[39m)"
      ]
     },
     "execution_count": 30,
     "metadata": {},
     "output_type": "execute_result"
    }
   ],
   "source": [
    "numeros"
   ]
  },
  {
   "cell_type": "code",
   "execution_count": 31,
   "id": "5a781f6c-62be-4fed-a2c1-4d4ffde13685",
   "metadata": {},
   "outputs": [
    {
     "data": {
      "text/plain": [
       "\u001b[36mnuevos_numeros\u001b[39m: \u001b[32mList\u001b[39m[\u001b[32mInt\u001b[39m] = \u001b[33mList\u001b[39m(\u001b[32m1\u001b[39m, \u001b[32m2\u001b[39m, \u001b[32m3\u001b[39m, \u001b[32m4\u001b[39m, \u001b[32m5\u001b[39m, \u001b[32m5\u001b[39m)"
      ]
     },
     "execution_count": 31,
     "metadata": {},
     "output_type": "execute_result"
    }
   ],
   "source": [
    "val nuevos_numeros = numeros ++ List(5)"
   ]
  },
  {
   "cell_type": "markdown",
   "id": "3a153790-f768-4b42-9ec7-1fc867a22650",
   "metadata": {
    "jp-MarkdownHeadingCollapsed": true
   },
   "source": [
    "### Consideraciones de Rendimiento\n",
    "\n",
    "Es importante tener en cuenta que el acceso a elementos por índice en una lista (`List(índice)`) no es tan eficiente como en estructuras de datos basadas en arrays, como `ArrayBuffer` o `Vector`, ya que las listas en Scala son implementadas como listas enlazadas. Acceder a un elemento por su índice implica recorrer la lista desde el comienzo hasta llegar al índice deseado, lo que puede llevar a un rendimiento O(n) en el peor caso. Para colecciones donde se requiere un acceso frecuente y eficiente a elementos por índice, considera utilizar `Vector` u otras estructuras de datos más adecuadas."
   ]
  },
  {
   "cell_type": "markdown",
   "id": "86e35699-7458-4915-bdd5-0757d6380943",
   "metadata": {},
   "source": [
    "## Colecciones `Map`."
   ]
  },
  {
   "cell_type": "markdown",
   "id": "c5eae65c-bc61-46e7-a46b-227eca5af01e",
   "metadata": {},
   "source": [
    "Las colecciones `Map` en Scala representan una estructura de datos que asocia claves únicas con valores. A diferencia de las listas, que son colecciones de elementos individuales, un `Map` mantiene pares clave-valor, donde cada clave se asocia a lo más con un valor. Los `Map` en Scala son tanto inmutables como mutables, proporcionando flexibilidad en su uso según los requerimientos específicos del programa."
   ]
  },
  {
   "cell_type": "markdown",
   "id": "5840e198-3d63-4ea9-bbf1-49d8ac678414",
   "metadata": {},
   "source": [
    "### Creación de un Map\n",
    "\n",
    "Para crear un `Map` inmutable, simplemente puedes usar `Map` con pares clave-valor:\n",
    "\n",
    "```\n",
    "Map(<clave 1>  -> <valor 1>, <clave 2>  -> <valor 2>, ... <clave n>  -> <valor n>) \n",
    "```"
   ]
  },
  {
   "cell_type": "markdown",
   "id": "95ee3d45-54ce-4cee-a3f6-17a2f4bade73",
   "metadata": {},
   "source": [
    "**Ejemplo:**"
   ]
  },
  {
   "cell_type": "code",
   "execution_count": 32,
   "id": "dacd9ea1-1021-44dc-a02c-19c3a42da4d3",
   "metadata": {},
   "outputs": [
    {
     "data": {
      "text/plain": [
       "\u001b[36mcapitales\u001b[39m: \u001b[32mMap\u001b[39m[\u001b[32mString\u001b[39m, \u001b[32mString\u001b[39m] = \u001b[33mMap\u001b[39m(\n",
       "  \u001b[32m\"Francia\"\u001b[39m -> \u001b[32m\"París\"\u001b[39m,\n",
       "  \u001b[32m\"España\"\u001b[39m -> \u001b[32m\"Madrid\"\u001b[39m,\n",
       "  \u001b[32m\"Japón\"\u001b[39m -> \u001b[32m\"Tokio\"\u001b[39m\n",
       ")"
      ]
     },
     "execution_count": 32,
     "metadata": {},
     "output_type": "execute_result"
    }
   ],
   "source": [
    "val capitales = Map(\"Francia\" -> \"París\", \"España\" -> \"Madrid\", \"Japón\" -> \"Tokio\")"
   ]
  },
  {
   "cell_type": "markdown",
   "id": "698e16de-9844-4157-aaac-dda5d9be4ab8",
   "metadata": {
    "scrolled": true
   },
   "source": [
    "### Acceso a valores.\n",
    "Para acceder al valor asociado a una clave específica se usan los parántesis.\n",
    "\n",
    "```\n",
    "<mapa>(<clave>)\n",
    "```"
   ]
  },
  {
   "cell_type": "markdown",
   "id": "26016d57-fbbf-46e2-9ed2-3390412f8f08",
   "metadata": {},
   "source": [
    "**Ejemplo:**"
   ]
  },
  {
   "cell_type": "code",
   "execution_count": 33,
   "id": "c14c41d3-3c03-4792-ab35-6369d41223ca",
   "metadata": {},
   "outputs": [
    {
     "data": {
      "text/plain": [
       "\u001b[36mres33\u001b[39m: \u001b[32mString\u001b[39m = \u001b[32m\"París\"\u001b[39m"
      ]
     },
     "execution_count": 33,
     "metadata": {},
     "output_type": "execute_result"
    }
   ],
   "source": [
    "capitales(\"Francia\")"
   ]
  },
  {
   "cell_type": "markdown",
   "id": "59a2572d-1c26-4f97-ba29-b5dc3ff1676f",
   "metadata": {},
   "source": [
    "## Mapas mutables.\n",
    "Los mapas mutables permiten realizar operaciones que modifican a la colección.\n",
    "\n",
    " En un `Map` mutable, se pueden añadir elementos usando `+=` o eliminar elementos usando `-=`."
   ]
  },
  {
   "cell_type": "code",
   "execution_count": 34,
   "id": "451578a0-74bc-4eaf-8f0a-489dbe3b7563",
   "metadata": {
    "scrolled": true
   },
   "outputs": [
    {
     "data": {
      "text/plain": [
       "\u001b[32mimport \u001b[39m\u001b[36mcollection.mutable.Map\u001b[39m"
      ]
     },
     "execution_count": 34,
     "metadata": {},
     "output_type": "execute_result"
    }
   ],
   "source": [
    "import collection.mutable.Map"
   ]
  },
  {
   "cell_type": "code",
   "execution_count": 35,
   "id": "785f77ef-becf-44e3-929d-0e03342abb08",
   "metadata": {},
   "outputs": [
    {
     "data": {
      "text/plain": [
       "\u001b[36mnumeros\u001b[39m: \u001b[32mMap\u001b[39m[\u001b[32mInt\u001b[39m, \u001b[32mString\u001b[39m] = \u001b[33mHashMap\u001b[39m(\u001b[32m1\u001b[39m -> \u001b[32m\"Uno\"\u001b[39m, \u001b[32m2\u001b[39m -> \u001b[32m\"Dos\"\u001b[39m)"
      ]
     },
     "execution_count": 35,
     "metadata": {},
     "output_type": "execute_result"
    }
   ],
   "source": [
    "val numeros = Map(1 ->\"Uno\", 2 -> \"Dos\")"
   ]
  },
  {
   "cell_type": "code",
   "execution_count": 36,
   "id": "6731abaa-bdaf-43b8-a3e9-558e6bac5827",
   "metadata": {},
   "outputs": [
    {
     "data": {
      "text/plain": [
       "\u001b[36mres36\u001b[39m: \u001b[32mMap\u001b[39m[\u001b[32mInt\u001b[39m, \u001b[32mString\u001b[39m] = \u001b[33mHashMap\u001b[39m(\u001b[32m1\u001b[39m -> \u001b[32m\"Uno\"\u001b[39m, \u001b[32m2\u001b[39m -> \u001b[32m\"Dos\"\u001b[39m, \u001b[32m4\u001b[39m -> \u001b[32m\"Cuatro\"\u001b[39m)"
      ]
     },
     "execution_count": 36,
     "metadata": {},
     "output_type": "execute_result"
    }
   ],
   "source": [
    "numeros += (4 -> \"Cuatro\")"
   ]
  },
  {
   "cell_type": "code",
   "execution_count": 37,
   "id": "a3fbab9e-2517-4511-8c69-7283cc9acb7f",
   "metadata": {},
   "outputs": [
    {
     "data": {
      "text/plain": [
       "\u001b[36mres37\u001b[39m: \u001b[32mMap\u001b[39m[\u001b[32mInt\u001b[39m, \u001b[32mString\u001b[39m] = \u001b[33mHashMap\u001b[39m(\u001b[32m1\u001b[39m -> \u001b[32m\"Uno\"\u001b[39m, \u001b[32m4\u001b[39m -> \u001b[32m\"Cuatro\"\u001b[39m)"
      ]
     },
     "execution_count": 37,
     "metadata": {},
     "output_type": "execute_result"
    }
   ],
   "source": [
    "numeros -= 2"
   ]
  },
  {
   "cell_type": "code",
   "execution_count": 39,
   "id": "60bc7eeb-ded2-4a0d-9315-a32ed2759ebb",
   "metadata": {},
   "outputs": [
    {
     "name": "stdout",
     "output_type": "stream",
     "text": [
      "(1,Uno)\n",
      "(4,Cuatro)\n"
     ]
    }
   ],
   "source": [
    "for (par <- numeros){\n",
    "    println(par)\n",
    "}"
   ]
  },
  {
   "cell_type": "markdown",
   "id": "248592b7-79d7-4890-bb7b-37149470c04d",
   "metadata": {},
   "source": [
    "## Las colecciones `Set`."
   ]
  },
  {
   "cell_type": "markdown",
   "id": "86b7f717-c85a-4cd6-8cdb-3d75a5fd1086",
   "metadata": {},
   "source": [
    "Una colección Set es una estructura de datos que representa una colección de elementos únicos y no ordenados. Esto significa que, a diferencia de las listas o arrays, un elemento puede aparecer como máximo una vez en un conjunto. Esta característica hace que los conjuntos sean ideales para tareas en las que se requiera garantizar que no haya duplicados en los datos.\n",
    "\n",
    "Para crear un conjunto en Scala, podemos utilizar la palabra clave `Set` seguida de valores entre paréntesis o corchetes.\n",
    "\n",
    "```\n",
    "Set(<elemento 1>, <elemento 2>, ..., <elemento n>) \n",
    "```\n",
    "\n",
    "También se puede utilizar la función `Set.empty` para crear un conjunto vacío.\n",
    "\n",
    "```\n",
    "Set.empty[<tipo>]\n",
    "```"
   ]
  },
  {
   "cell_type": "markdown",
   "id": "4214de9e-ed52-4c35-bc37-8ff760ba567c",
   "metadata": {},
   "source": [
    "**Ejemplo:**"
   ]
  },
  {
   "cell_type": "code",
   "execution_count": 40,
   "id": "40a7da36-7f23-4703-8e4f-9c0382b8c1ed",
   "metadata": {},
   "outputs": [
    {
     "data": {
      "text/plain": [
       "\u001b[36mconjuntoNumeros\u001b[39m: \u001b[32mSet\u001b[39m[\u001b[32mInt\u001b[39m] = \u001b[33mHashSet\u001b[39m(\u001b[32m5\u001b[39m, \u001b[32m1\u001b[39m, \u001b[32m2\u001b[39m, \u001b[32m3\u001b[39m, \u001b[32m4\u001b[39m)"
      ]
     },
     "execution_count": 40,
     "metadata": {},
     "output_type": "execute_result"
    }
   ],
   "source": [
    "val conjuntoNumeros = Set(1, 2, 3, 4, 5, 5, 5)"
   ]
  },
  {
   "cell_type": "markdown",
   "id": "81b3bc28-b637-43c9-9400-e3a532003e25",
   "metadata": {},
   "source": [
    "### Agregar Elementos.\n",
    "\n",
    "Para agregar elementos a un conjunto existente, podemos usar el método `+` o `++`. Estos métodos generan un nuevo conjunto con los elementos agregados."
   ]
  },
  {
   "cell_type": "code",
   "execution_count": 41,
   "id": "32ed58ef-8579-4955-aa9c-f560fafbd257",
   "metadata": {},
   "outputs": [
    {
     "data": {
      "text/plain": [
       "\u001b[36mres41\u001b[39m: \u001b[32mSet\u001b[39m[\u001b[32mInt\u001b[39m] = \u001b[33mHashSet\u001b[39m(\u001b[32m5\u001b[39m, \u001b[32m1\u001b[39m, \u001b[32m2\u001b[39m, \u001b[32m3\u001b[39m, \u001b[32m11\u001b[39m, \u001b[32m4\u001b[39m)"
      ]
     },
     "execution_count": 41,
     "metadata": {},
     "output_type": "execute_result"
    }
   ],
   "source": [
    "conjuntoNumeros + 11"
   ]
  },
  {
   "cell_type": "markdown",
   "id": "946f46ab-911a-4a39-a365-40c672232bba",
   "metadata": {},
   "source": [
    "### Eliminar Elementos\n",
    "\n",
    "Para eliminar elementos de un conjunto, utilizamos el método `-`. Esto también genera un nuevo conjunto sin los elementos eliminados."
   ]
  },
  {
   "cell_type": "code",
   "execution_count": 43,
   "id": "fad1b7eb-2baf-4fa8-ba64-de13a802b872",
   "metadata": {
    "scrolled": true
   },
   "outputs": [
    {
     "data": {
      "text/plain": [
       "\u001b[36mres43\u001b[39m: \u001b[32mSet\u001b[39m[\u001b[32mInt\u001b[39m] = \u001b[33mHashSet\u001b[39m(\u001b[32m5\u001b[39m, \u001b[32m1\u001b[39m, \u001b[32m2\u001b[39m, \u001b[32m4\u001b[39m)"
      ]
     },
     "execution_count": 43,
     "metadata": {},
     "output_type": "execute_result"
    }
   ],
   "source": [
    "conjuntoNumeros - 3"
   ]
  },
  {
   "cell_type": "markdown",
   "id": "6f2adeb1-fdd2-431c-9e06-d6ecf70e67b9",
   "metadata": {},
   "source": [
    "### Comprobación de Pertenencia\n",
    "\n",
    "Podemos verificar si un elemento está presente en un conjunto utilizando el método `contains`."
   ]
  },
  {
   "cell_type": "markdown",
   "id": "09f623ad-77af-416e-ba42-6d2ddbd0cc54",
   "metadata": {},
   "source": [
    "**Ejemplos:**"
   ]
  },
  {
   "cell_type": "code",
   "execution_count": 46,
   "id": "cc586313-9e9f-4558-8603-af1a982178c6",
   "metadata": {},
   "outputs": [
    {
     "data": {
      "text/plain": [
       "\u001b[36mres46\u001b[39m: \u001b[32mBoolean\u001b[39m = \u001b[32mtrue\u001b[39m"
      ]
     },
     "execution_count": 46,
     "metadata": {},
     "output_type": "execute_result"
    }
   ],
   "source": [
    "conjuntoNumeros.contains(2)"
   ]
  },
  {
   "cell_type": "code",
   "execution_count": 47,
   "id": "5693522a-87d4-4dab-9e69-4e39f3cf4f99",
   "metadata": {},
   "outputs": [
    {
     "data": {
      "text/plain": [
       "\u001b[36mres47\u001b[39m: \u001b[32mBoolean\u001b[39m = \u001b[32mfalse\u001b[39m"
      ]
     },
     "execution_count": 47,
     "metadata": {},
     "output_type": "execute_result"
    }
   ],
   "source": [
    "conjuntoNumeros.contains(25)"
   ]
  },
  {
   "cell_type": "markdown",
   "id": "3e4772ee-cfa8-40db-88a9-7b5ed760938c",
   "metadata": {},
   "source": [
    "### Operaciones de Conjuntos\n",
    "\n",
    "Las colecciones Set también admiten operaciones de conjuntos como unión, intersección y diferencia. Estas operaciones son útiles para combinar o comparar conjuntos."
   ]
  },
  {
   "cell_type": "markdown",
   "id": "76dfb69f-545d-4abb-80e8-8ce68fcb5b73",
   "metadata": {},
   "source": [
    "**Ejemplos:**"
   ]
  },
  {
   "cell_type": "code",
   "execution_count": 48,
   "id": "0169c815-a80e-4a2f-9084-1e9cd408e660",
   "metadata": {},
   "outputs": [
    {
     "data": {
      "text/plain": [
       "\u001b[36mconjuntoA\u001b[39m: \u001b[32mSet\u001b[39m[\u001b[32mInt\u001b[39m] = \u001b[33mSet\u001b[39m(\u001b[32m1\u001b[39m, \u001b[32m2\u001b[39m, \u001b[32m3\u001b[39m)\n",
       "\u001b[36mconjuntoB\u001b[39m: \u001b[32mSet\u001b[39m[\u001b[32mInt\u001b[39m] = \u001b[33mSet\u001b[39m(\u001b[32m3\u001b[39m, \u001b[32m4\u001b[39m, \u001b[32m5\u001b[39m)"
      ]
     },
     "execution_count": 48,
     "metadata": {},
     "output_type": "execute_result"
    }
   ],
   "source": [
    "val conjuntoA = Set(1, 2, 3)\n",
    "val conjuntoB = Set(3, 4, 5)"
   ]
  },
  {
   "cell_type": "code",
   "execution_count": 49,
   "id": "59e784e7-f17d-48b5-9eb6-aab600191c41",
   "metadata": {},
   "outputs": [
    {
     "data": {
      "text/plain": [
       "\u001b[36mres49\u001b[39m: \u001b[32mSet\u001b[39m[\u001b[32mInt\u001b[39m] = \u001b[33mHashSet\u001b[39m(\u001b[32m5\u001b[39m, \u001b[32m1\u001b[39m, \u001b[32m2\u001b[39m, \u001b[32m3\u001b[39m, \u001b[32m4\u001b[39m)"
      ]
     },
     "execution_count": 49,
     "metadata": {},
     "output_type": "execute_result"
    }
   ],
   "source": [
    "conjuntoA.union(conjuntoB) // Unión de conjuntos"
   ]
  },
  {
   "cell_type": "code",
   "execution_count": 50,
   "id": "c2c3a54d-992e-41ef-b1fa-2406fba9a3c2",
   "metadata": {},
   "outputs": [
    {
     "data": {
      "text/plain": [
       "\u001b[36mres50\u001b[39m: \u001b[32mSet\u001b[39m[\u001b[32mInt\u001b[39m] = \u001b[33mHashSet\u001b[39m(\u001b[32m5\u001b[39m, \u001b[32m1\u001b[39m, \u001b[32m2\u001b[39m, \u001b[32m3\u001b[39m, \u001b[32m4\u001b[39m)"
      ]
     },
     "execution_count": 50,
     "metadata": {},
     "output_type": "execute_result"
    }
   ],
   "source": [
    "conjuntoA | conjuntoB"
   ]
  },
  {
   "cell_type": "code",
   "execution_count": 51,
   "id": "af305107-9921-4a60-b2b5-9d8141b1895d",
   "metadata": {},
   "outputs": [
    {
     "data": {
      "text/plain": [
       "\u001b[36mres51\u001b[39m: \u001b[32mSet\u001b[39m[\u001b[32mInt\u001b[39m] = \u001b[33mSet\u001b[39m(\u001b[32m3\u001b[39m)"
      ]
     },
     "execution_count": 51,
     "metadata": {},
     "output_type": "execute_result"
    }
   ],
   "source": [
    "conjuntoA.intersect(conjuntoB) // Intersección de conjuntos"
   ]
  },
  {
   "cell_type": "code",
   "execution_count": 52,
   "id": "1083e304-9448-4b24-9d15-e4aadb12a317",
   "metadata": {},
   "outputs": [
    {
     "data": {
      "text/plain": [
       "\u001b[36mres52\u001b[39m: \u001b[32mSet\u001b[39m[\u001b[32mInt\u001b[39m] = \u001b[33mSet\u001b[39m(\u001b[32m1\u001b[39m, \u001b[32m2\u001b[39m)"
      ]
     },
     "execution_count": 52,
     "metadata": {},
     "output_type": "execute_result"
    }
   ],
   "source": [
    "conjuntoA.diff(conjuntoB) // Diferencia de conjuntos"
   ]
  },
  {
   "cell_type": "code",
   "execution_count": 53,
   "id": "2337c295-e667-4dd9-948b-1956440d2677",
   "metadata": {},
   "outputs": [
    {
     "data": {
      "text/plain": [
       "\u001b[36mres53\u001b[39m: \u001b[32mBoolean\u001b[39m = \u001b[32mfalse\u001b[39m"
      ]
     },
     "execution_count": 53,
     "metadata": {},
     "output_type": "execute_result"
    }
   ],
   "source": [
    "conjuntoA.subsetOf(conjuntoB) //  Valida si es subconjunto"
   ]
  },
  {
   "cell_type": "markdown",
   "id": "7d1faf0f-eaa9-43e7-b910-e36f32c825db",
   "metadata": {},
   "source": [
    "## Inmutabilidad."
   ]
  },
  {
   "cell_type": "markdown",
   "id": "7c99af18-a2df-4b5e-b861-6c95f6c872b1",
   "metadata": {},
   "source": [
    "La inmutabilidad, un concepto fundamental en la programación funcional, se refiere a la característica de los objetos que no pueden ser modificados una vez creados. Este principio, lejos de ser una restricción, se erige como un pilar fundamental en el diseño y la implementación de sistemas de procesamiento de big data en memoria, especialmente en entornos como Apache Spark."
   ]
  },
  {
   "cell_type": "markdown",
   "id": "6b7e7308-9ed7-4517-b5e5-48f0c45c433d",
   "metadata": {},
   "source": [
    "### Inmutabilidad en Apache Spark\n",
    "\n",
    "La inmutabilidad, un concepto fundamental en la programación funcional, se refiere a la característica de los objetos que no pueden ser modificados una vez creados. Este principio, lejos de ser una restricción, se erige como un pilar fundamental en el diseño y la implementación de sistemas de procesamiento de big data en memoria, especialmente en entornos como Apache Spark. Este ensayo explora la importancia de la inmutabilidad en el contexto del procesamiento de big data, destacando su impacto en la eficiencia, la confiabilidad, la facilidad de uso y la concurrencia."
   ]
  },
  {
   "cell_type": "markdown",
   "id": "c704666c-f645-4251-bf28-68dcd1ea7c98",
   "metadata": {},
   "source": [
    "#### Eficiencia en el Manejo de Datos\n",
    "En sistemas diseñados para manejar grandes volúmenes de datos, como Apache Spark, la inmutabilidad juega un rol crucial en la optimización del uso de recursos y el rendimiento. Al evitar la modificación de los objetos de datos, se reduce la necesidad de copiar y guardar estados, lo que a su vez minimiza el uso de la memoria y el tiempo de procesamiento.to. Spark utiliza el concepto de RDD (Resilient Distributed Dataset), un conjunto de datos inmutable y distribuido, para realizar operaciones de procesamiento en paralelo de manera eficiente. La inmutabilidad asegura que cada transformación en un RDD genere un nuevo RDD, manteniendo el original sin cambios, lo cual facilita la ejecución de operaciones complejas en grandes conjuntos de datos con menor sobrecarga."
   ]
  },
  {
   "cell_type": "markdown",
   "id": "545ca2cb-3a01-4861-8b5b-3d47dcd81933",
   "metadata": {},
   "source": [
    "#### Confiabilidad y Tolerancia a Fallos\n",
    "La inmutabilidad incrementa la confiabilidad de los sistemasstemas de procesamiento de bi al simplificar la gestión de errores y la recuperación de fallos.allos. En Apache Spark inmutabilidadilidad de los RDD permite reconstruir cualquier parte del dataset en caso de pérdida o fallo, ya que el linaje de cadae cada RDsecuencia de operaciones aplicadas para construirlo) se conserva. Esto significa que, en lugar de replicar los datos para prevenir pérdidas, Spark puede reconstruir los datos faltantes a partir de su origen, lo cual resulta en una estrategia de tolerancia a fallos más eficiente y menos costosa en términos de recursos."
   ]
  },
  {
   "cell_type": "markdown",
   "id": "4b8a46d2-2295-45be-9a82-d6fb13d6afc9",
   "metadata": {},
   "source": [
    "#### Facilidad de Uso y Abstracción\n",
    "La inmutabilidad proporciona una abstracción clara y predecible del estado de los datos, lo que simplifica el desarrollo y el mantenimiento de aplicaciones de big data. Los desarrolladores pueden enfocarse en las transformaciones y operaciones que necesitan realizar, sin preocuparse por los efectos secundarios o el estado mutable de los datos. Esta claridad conceptual reduce la complejidad del código y disminuye la probabilidad de errores, facilitando la implementación de lógicas de procesamiento de datos complejas y mejorando la legibilidad y mantenibilidad del código."
   ]
  },
  {
   "cell_type": "markdown",
   "id": "1a0f1973-1ee7-4795-8637-4885211773fa",
   "metadata": {},
   "source": [
    "#### Concurrencia y Paralelismo\n",
    "Uno de los mayores desafíos en el procesamiento de big data es la gestión de la concurrencia y el paralelismo. La inmutabilidad aborda este desafío al eliminar las condiciones de carrera y los problemas de sincronización asociados con el acceso y la modificación concurrente de datos. En un entorno distribuido como Spark, donde múltiples nodos trabajan en paralelo, la inmutabilidad garantiza que las operaciones en un nodo no afecten los datos en otro, permitiendo un paralelismo masivo sin bloqueos ni conflictos de datos."
   ]
  },
  {
   "cell_type": "markdown",
   "id": "0e4f7d02-d97b-42c7-9140-d49bbc90841b",
   "metadata": {},
   "source": [
    "## Compatibilidad de Scala con las Colecciones de Java: Un Puente hacia la Interoperabilidad\r",
    "dad\r\n",
    "\r\n",
    "La interoperabilidad entre lenguajes es crucial en el desarrollo de software moderno, ya que permite a los equipos de desarrollo aprovechar las bibliotecas y sistemas existentes en otros lenguajes de programación. En este contexto, Scala se destaca por su estrecha integración con Java, uno de los lenguajes más utilizados en el mundo empresarial.\r\n",
    "\r\n",
    "## La Integración de Scala con las Colecciones de Java\r\n",
    "\r\n",
    "Scala logra su interoperabilidad con Java en gran parte gracias a su diseño y su sistema de tipos. Scala está diseñado para ser compatible con la plataforma Java, lo que significa que puede utilizar las bibliotecas y API de Java de manera nativa. Esto incluye la capacidad de trabajar con las colecciones de Java de manera transparente.\r\n",
    "\r\n",
    "Scala ofrece tres tipos de colecciones principales que son compatibles con las colecciones de Java:\r\n",
    "\r\n",
    "### 1. Colecciones Mutables\r\n",
    "Scala proporciona colecciones mutables que son directamente interoperables con las colecciones mutables de Java. Por ejemplo, puedes utilizar `scala.collection.mutable.HashMap` de manera similar a `java.util.HashMap`. Esto permite una fácil migración de código Java a Scala o la colaboración en proyectos que utilizan ambos lenguajes.\r\n",
    "\r\n",
    "```scala\r\n",
    "import scala.collection.mutable\r\n",
    "\r\n",
    "val scalaMap = mutable.HashMap(\"a\" -> 1, \"b\" -> 2)\r\n",
    "val javaMap = new java.util.HashMap[String, Int]()\r\n",
    "javaMap.put(\"c\", 3)\r\n",
    "```\r\n",
    "\r\n",
    "### 2. Colecciones Inmutables\r\n",
    "Las colecciones inmutables en Scala ofrecen una forma segura y funcional de trabajar con datos. Aunque son diferentes de las colecciones mutables de Java, Scala proporciona conversiones y métodos para facilitar la interoperabilidad. Por ejemplo, puedes convertir una lista inmutable de Scala en una lista de Java y viceversa.\r\n",
    "\r\n",
    "```scala\r\n",
    "import scala.collection.JavaConverters._\r\n",
    "\r\n",
    "val scalaList = List(1, 2, 3)\r\n",
    "val javaList = scalaList.asJava\r\n",
    "val scalaListAgain = javaList.asScala\r\n",
    "```\r\n",
    "\r\n",
    "### 3. Colecciones Paralelas\r\n",
    "Scala también ofrece colecciones paralelas que pueden aprovechar la concurrencia de hardware para mejorar el rendimiento. Estas colecciones pueden interoperar con las colecciones concurrentes de Java, lo que permite crear aplicaciones eficientes y concurrentes.\r\n",
    "\r\n",
    "```scala\r\n",
    "import scala.collection.parallel.immutable.ParVector\r\n",
    "\r\n",
    "val scalaParallelVector = ParVector(1, 2, 3)\r\n",
    "val javaConcurrentVector = scalaParallelVector.toVector.asJava\r\n",
    "```\r\n",
    "\r\n",
    "## Beneficios de la Compatibilidad\r\n",
    "\r\n",
    "La compatibilidad de Scala con las colecciones de Java presenta varios beneficios:\r\n",
    "\r\n",
    "1. **Reutilización de Código**: Los desarrolladores pueden aprovechar las bibliotecas de Java existentes sin problemas, lo que ahorra tiempo y recursos.\r\n",
    "\r\n",
    "2. **Transición Gradual**: La migración de código Java a Scala puede ser gradual, permitiendo a los equipos adoptar Scala de manera incremental en proyectos existentes.\r\n",
    "\r\n",
    "3. **Combinación de Habilidades**: Equipos de desarrollo que ya tienen experiencia en Java pueden aplicar sus conocimientos en Scala sin dificultad.\r\n",
    "\r\n",
    "4. **Mejora del Rendimiento**: Scala ofrece colecciones paralelas que pueden mejorar significativamente el reilidad es un activo valioso para la comunidad de desarrollo."
   ]
  },
  {
   "cell_type": "markdown",
   "id": "27a36901-cd6d-4f67-a7db-8e80f33dc694",
   "metadata": {},
   "source": [
    "\n",
    "<p style=\"text-align: center\"><a rel=\"license\" href=\"http://creativecommons.org/licenses/by/4.0/\"><img alt=\"Licencia Creative Commons\" style=\"border-width:0\" src=\"https://i.creativecommons.org/l/by/4.0/80x15.png\" /></a><br />Esta obra está bajo una <a rel=\"license\" href=\"http://creativecommons.org/licenses/by/4.0/\">Licencia Creative Commons Atribución 4.0 Internacional</a>.</p>\n",
    "<p style=\"text-align: center\">&copy; José Luis Chiquete Valdivieso. 2024.</p>"
   ]
  }
 ],
 "metadata": {
  "kernelspec": {
   "display_name": "Scala",
   "language": "scala",
   "name": "scala"
  },
  "language_info": {
   "codemirror_mode": "text/x-scala",
   "file_extension": ".sc",
   "mimetype": "text/x-scala",
   "name": "scala",
   "nbconvert_exporter": "script",
   "version": "2.13.12"
  }
 },
 "nbformat": 4,
 "nbformat_minor": 5
}
