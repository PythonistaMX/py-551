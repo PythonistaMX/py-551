{
 "cells": [
  {
   "cell_type": "markdown",
   "id": "79d2fedd-ec22-4365-9e61-3ce3db715031",
   "metadata": {},
   "source": [
    "[![img/pythonista.png](img/pythonista.png)](https://www.pythonista.io)"
   ]
  },
  {
   "cell_type": "markdown",
   "id": "0af4d32d-3cf4-46cd-ab87-9908b104fa35",
   "metadata": {},
   "source": [
    "# Tipos de datos."
   ]
  },
  {
   "cell_type": "markdown",
   "id": "2972b724-299a-4a8e-bdf7-face54e12172",
   "metadata": {},
   "source": [
    "## Definición de variables."
   ]
  },
  {
   "cell_type": "markdown",
   "id": "a96fb212-85d4-4fd8-b37a-6a0f86af3f67",
   "metadata": {},
   "source": [
    "Scala ofrece varias maneras de definir variables, siendo las más comunes `val` y `var`. Estas dos palabras clave reflejan distintos enfoques y filosofías en la programación y son fundamentales para entender cómo Scala maneja los datos y el estado. En este ensayo, exploraremos las diferencias entre `val` y `var` y cómo su uso adecuado contribuye a la escritura de un código más eficiente, seguro y en línea con las buenas prácticas de programación.\n",
    "\n",
    "#### **1. `val`: Inmutabilidad por Defecto**\n",
    "\n",
    "En Scala, `val` se utiliza para declarar una variable cuyo valor no puede ser modificado una vez asignado. Es decir, `val` se utiliza para crear variables inmutables.\n",
    "\n",
    "**Ejemplo:**"
   ]
  },
  {
   "cell_type": "code",
   "execution_count": null,
   "id": "99f82b17-aeda-4fea-a379-b3ea03528b74",
   "metadata": {},
   "outputs": [],
   "source": [
    "inexistente = 12"
   ]
  },
  {
   "cell_type": "code",
   "execution_count": null,
   "id": "7fb1c3c1-fe68-4fc7-b0a7-057ff9a44dab",
   "metadata": {},
   "outputs": [],
   "source": [
    "val pi = 3.14"
   ]
  },
  {
   "cell_type": "markdown",
   "id": "43a0af46-2e39-4e81-8bc0-7fe9259450fb",
   "metadata": {},
   "source": [
    "Aquí, `pi` es una constante y su valor no puede ser cambiado después de su inicialización."
   ]
  },
  {
   "cell_type": "code",
   "execution_count": null,
   "id": "2f59b8dd-b541-40b7-b669-0f91a9f70214",
   "metadata": {},
   "outputs": [],
   "source": [
    "pi"
   ]
  },
  {
   "cell_type": "code",
   "execution_count": null,
   "id": "30458ab6-24d3-4cd2-8907-c9b8a5d6eb86",
   "metadata": {
    "scrolled": true
   },
   "outputs": [],
   "source": [
    "pi = 2"
   ]
  },
  {
   "cell_type": "markdown",
   "id": "075cdb87-0820-4bf5-9575-2bb864177572",
   "metadata": {},
   "source": [
    "**Ventajas de Usar `val`:**\n",
    "\n",
    "- **Seguridad en Concurrencia:** La inmutabilidad es clave en entornos concurrentes y distribuidos. Al no poder modificar los valores, se evitan condiciones de carrera y otros problemas relacionados con la concurrencia.\n",
    "- **Código Predecible:** Las variables inmutables hacen que el flujo de datos a través del programa sea más predecible y fácil de razonar.\n",
    "- **Fomenta la Programación Funcional:** La inmutabilidad es un pilar de la programación funcional y ayuda a construir programas más robustos y menos propensos a efectos secundarios.\n"
   ]
  },
  {
   "cell_type": "markdown",
   "id": "32f859f8-98c0-4855-a76e-41350441ca9b",
   "metadata": {},
   "source": [
    "#### **2. `var`: Mutabilidad Cuando es Necesario**\n",
    "\n",
    "`var`, por otro lado, declara una variable cuyo valor puede cambiar a lo largo del tiempo. `Var` se utiliza para variables mutables.\n",
    "\n",
    "**Ejemplo:**"
   ]
  },
  {
   "cell_type": "code",
   "execution_count": null,
   "id": "626d49b2-2feb-41aa-8c3d-ad36502ffbc4",
   "metadata": {},
   "outputs": [],
   "source": [
    "var contador = 0;"
   ]
  },
  {
   "cell_type": "code",
   "execution_count": null,
   "id": "7b85fce0-5145-4c7a-b3c9-eafb28d42c6d",
   "metadata": {
    "scrolled": true
   },
   "outputs": [],
   "source": [
    "contador = contador + 1"
   ]
  },
  {
   "cell_type": "code",
   "execution_count": null,
   "id": "2265f6be-9141-4bdf-a1ca-efeda535c2e6",
   "metadata": {},
   "outputs": [],
   "source": [
    "contador = \"Hola\""
   ]
  },
  {
   "cell_type": "markdown",
   "id": "56d81e02-2424-4c52-a610-b1e3339d7899",
   "metadata": {},
   "source": [
    "En este caso, el valor de `counter` puede ser modificado después de su inicialización."
   ]
  },
  {
   "cell_type": "markdown",
   "id": "f5666dd0-bf92-4cd4-ba39-8e31bf16e236",
   "metadata": {},
   "source": [
    "**Cuándo Usar `var`:**\n",
    "\n",
    "Aunque el uso de `var` es generalmente desalentado en Scala, hay situaciones donde su uso es justificado, como:\n",
    "\n",
    "- **Requerimientos de Rendimiento:** En algunos casos, la mutabilidad puede llevar a mejoras en el rendimiento, especialmente en algoritmos intensivos en cálculos y manipulaciones de datos.\n",
    "- **Interacción con APIs Java:** Algunas APIs Java requieren objetos mutables, por lo que usar `var` puede ser necesario para la interoperabilidad.\n",
    "\n",
    "#### **3. Buenas Prácticas en la Definición de Variables**\n",
    "\n",
    "- **Preferir `val` sobre `var`:** Como regla general, se debe preferir el uso de `val` sobre `var`. Esto está en línea con el principio de inmutabilidad y ayuda a construir programas más seguros y fáciles de mantener.\n",
    "- **Claridad y Expresividad:** Independientemente de si se usa `val` o `var`, es importante nombrar las variables de manera clara y descriptiva para que el propósito de la variable sea evidente.\n",
    "- **Limitar el Alcance:** Tanto para `val` como para `var`, el alcance de las variables debe ser lo más restringido posible. Esto ayuda a mantener el código modular y reduce los efectos secundarios."
   ]
  },
  {
   "cell_type": "markdown",
   "id": "8bdf426b-9c61-4841-925f-419957d04b4c",
   "metadata": {
    "scrolled": true
   },
   "source": [
    "**Nota:** Es posible consultar las reglas de estilo de codificación en: https://docs.scala-lang.org/style/"
   ]
  },
  {
   "cell_type": "markdown",
   "id": "ae8c767d-5734-460c-b386-0c6e9899f9a7",
   "metadata": {},
   "source": [
    "## Definición de variables indicando el tipo.\n",
    "\n",
    "En Scala, todos los tipos datos son objetos instanviados de una clase, incluyendo los tipos básicos.\n",
    "\n",
    "```\n",
    "val <nombre>: <clase> = <valor>  \n",
    "```"
   ]
  },
  {
   "cell_type": "code",
   "execution_count": null,
   "id": "8a7ec540-4863-4735-a74a-13e4d8fd906d",
   "metadata": {},
   "outputs": [],
   "source": [
    "val mi_entero: Int = 1"
   ]
  },
  {
   "cell_type": "code",
   "execution_count": null,
   "id": "ce02ab09-fbe4-4fb9-955c-da9fa1eff027",
   "metadata": {},
   "outputs": [],
   "source": [
    "val mi_cadena: String = \"Hola\""
   ]
  },
  {
   "cell_type": "code",
   "execution_count": null,
   "id": "20e05557-a8e0-423f-b063-a833525ff23f",
   "metadata": {},
   "outputs": [],
   "source": [
    "val mala_definicion: Int = Unit"
   ]
  },
  {
   "cell_type": "code",
   "execution_count": null,
   "id": "cebe5e3a-1ce2-4403-a8b8-b5f9c0580f12",
   "metadata": {},
   "outputs": [],
   "source": [
    "val otra_mala_definicion: Int"
   ]
  },
  {
   "cell_type": "markdown",
   "id": "6d1642c0-b2c4-4f9c-bcba-2989ee6895a8",
   "metadata": {},
   "source": [
    "## Tipado estricto e inferencia de tipo"
   ]
  },
  {
   "cell_type": "markdown",
   "id": "4dc0fbac-3ca4-47f8-8a7c-26a21e92a6e0",
   "metadata": {},
   "source": [
    "Scala es conocido por su sistema de tipado estricto y su avanzada capacidad de inferencia de tipos. Estas características son fundamentales para entender cómo Scala facilita la escritura de código robusto, seguro y al mismo tiempo elegante y conciso. En este artículo, exploraremos el tipado estricto y la inferencia de tipos en Scala, destacando cómo estos aspectos contribuyen a la eficacia del lenguaje en el desarrollo de software."
   ]
  },
  {
   "cell_type": "markdown",
   "id": "f270496b-6c01-4980-b304-ad3708c95072",
   "metadata": {},
   "source": [
    "#### **1. Tipado Estricto en Scala**\n",
    "\n",
    "El tipado estricto en Scala significa que el tipo de cada variable, expresión, función, etc., está determinado y comprobado en tiempo de compilación. Esta característica trae consigo varias ventajas:\n",
    "\n",
    "- **Prevención de Errores:** Al comprobar los tipos en tiempo de compilación, se evitan muchos errores comunes en tiempo de ejecución, como los errores de tipo de datos.\n",
    "- **Legibilidad y Mantenibilidad:** El código con tipos explícitos es a menudo más fácil de entender y mantener, ya que los tipos proporcionan documentación implícita.\n",
    "- **Seguridad:** El tipado estricto asegura que las operaciones realizadas en el código sean seguras en términos de tipos, lo que aumenta la seguridad general del programa.\n",
    "\n",
    "#### **2. Inferencia de Tipo en Scala**\n",
    "\n",
    "La inferencia de tipo es una característica poderosa de Scala que permite al compilador deducir automáticamente el tipo de una variable o expresión basándose en su valor o en cómo se utiliza. Esto reduce la necesidad de especificar explícitamente los tipos, llevando a un código más limpio y conciso.\n",
    "\n",
    "**Ejemplo:**"
   ]
  },
  {
   "cell_type": "code",
   "execution_count": null,
   "id": "aa6b4894-d770-460b-b1c9-b31408cb5e41",
   "metadata": {
    "scrolled": true
   },
   "outputs": [],
   "source": [
    "val un_numero = 42 // Scala infiere que number es de tipo Int"
   ]
  },
  {
   "cell_type": "markdown",
   "id": "016341b9-c145-4e1f-8d61-dcc30de926e6",
   "metadata": {},
   "source": [
    "En este caso, no es necesario especificar que `number` es un `Int`, ya que Scala puede inferirlo a partir del valor asignado."
   ]
  },
  {
   "cell_type": "markdown",
   "id": "f8f1fa7d-3ac5-4a5b-b9c7-2497da0cd706",
   "metadata": {},
   "source": [
    "#### **3. Equilibrio entre Tipado Estricto e Inferencia de Tipo**\n",
    "\n",
    "Scala logra un equilibrio entre el tipado estricto y la inferencia de tipo. Mientras que el tipado estricto asegura la seguridad y robustez, la inferencia de tipo mantiene el código conciso y fácil de leer. Este equilibrio es evidente en varias características de Scala:\n",
    "\n",
    "- **Funciones:** Scala infiere tipos de retorno en funciones, pero permite a los desarrolladores especificarlos para mayor claridad.\n",
    "- **Colecciones:** Las colecciones en Scala pueden inferir sus tipos de los elementos que contienen.\n",
    "- **Genericidad:** Scala maneja la inferencia de tipos en contextos genéricos, simplificando el trabajo con tipos abstractos y polimorfismo.\n",
    "\n",
    "#### **4. Casos de Uso y Limitaciones**\n",
    "\n",
    "La inferencia de tipo en Scala es poderosa, pero tiene sus limitaciones. En casos de lógica compleja o cuando se trabaja con APIs que requieren tipos específicos, puede ser beneficioso anotar los tipos explícitamente para evitar ambigüedades y mejorar la legibilidad.\n",
    "\n",
    "#### **5. Inferencia de Tipo y Funciones de Orden Superior**\n",
    "\n",
    "En el contexto de las funciones de orden superior y la programación funcional, la inferencia de tipo de Scala brilla especialmente. Permite a los desarrolladores escribir código funcional de forma concisa sin sacrificar la seguridad de tipo."
   ]
  },
  {
   "cell_type": "markdown",
   "id": "c8256938-9f2c-4db2-98ea-e71fdd39f969",
   "metadata": {},
   "source": [
    "## Tipos de datos en Scala."
   ]
  },
  {
   "cell_type": "markdown",
   "id": "7ccc4d0b-fac0-406d-9185-c1ae888ba99d",
   "metadata": {},
   "source": [
    "### Tabla de Tipos de Datos Primitivos en Scala\n",
    "\n",
    "| Tipo de Dato | Descripción                         | Ejemplo en Scala             |\n",
    "|--------------|-------------------------------------|------------------------------|\n",
    "| Int          | Entero de 32 bits                    | `val num: Int = 123`         |\n",
    "| Long         | Entero de 64 bits                    | `val bigNum: Long = 123L`    |\n",
    "| Short        | Entero de 16 bits                    | `val smallNum: Short = 123`  |\n",
    "| Byte         | Entero de 8 bits                     | `val tinyNum: Byte = 123`    |\n",
    "| Float        | Número de punto flotante de 32 bits  | `val floatNum: Float = 3.14f`|\n",
    "| Double       | Número de punto flotante de 64 bits  | `val doubleNum: Double = 3.14`|\n",
    "| Char         | Carácter Unicode de 16 bits          | `val char: Char = 'A'`       |\n",
    "| Boolean      | Valor booleano (verdadero o falso)   | `val bool: Boolean = true`   |\n",
    "\n",
    "### Tabla de Tipos de Datos No Primitivos en Scala\n",
    "\n",
    "| Tipo de Dato | Descripción                                       | Ejemplo en Scala                              |\n",
    "|--------------|---------------------------------------------------|-----------------------------------------------|\n",
    "| String       | Secuencia de caracteres                           | `val str: String = \"Hello\"`                   |\n",
    "| Array        | Colección de elementos del mismo tipo             | `val arr: Array[Int] = Array(1, 2, 3)`        |\n",
    "| List         | Lista inmutable de elementos                      | `val list: List[Int] = List(1, 2, 3)`         |\n",
    "| Vector       | Colección inmutable con acceso eficiente          | `val vec: Vector[Int] = Vector(1, 2, 3)`      |\n",
    "| Tuple        | Agrupación de elementos de tipos variados         | `val tuple: (String, Int) = (\"Alice\", 25)`    |\n",
    "| Option       | Representación de un valor opcional               | `val opt: Option[Int] = Some(5)`              |\n",
    "| Map          | Colección de pares clave-valor                    | `val map: Map[String, Int] = Map(\"a\" -> 1)`   |\n",
    "| Set          | Conjunto de elementos únicos                      | `val set: Set[Int] = Set(1, 2, 3)`            |\n",
    "| Class/Object | Tipos definidos por el usuario (clases y objetos) | `class Person(name: String); object Singleton`|\n"
   ]
  },
  {
   "cell_type": "markdown",
   "id": "ae23f59d-d8d8-48ad-b5d6-13817e2e1a65",
   "metadata": {},
   "source": [
    "### Tipos Primitivos\n",
    "\n",
    "Los tipos primitivos en Scala son muy similares a los de Java, ya que Scala se ejecuta en la Máquina Virtual de Java (JVM). Estos tipos son:\n",
    "\n",
    "1. **Int**: Un entero de 32 bits.\n",
    "   ```scala\n",
    "   val number: Int = 42\n",
    "   ```\n",
    "\n",
    "2. **Long**: Un entero de 64 bits.\n",
    "   ```scala\n",
    "   val bigNumber: Long = 1234567890L\n",
    "   ```\n",
    "\n",
    "3. **Short**: Un entero de 16 bits.\n",
    "   ```scala\n",
    "   val smallNumber: Short = 32767\n",
    "   ```\n",
    "\n",
    "4. **Byte**: Un entero de 8 bits.\n",
    "   ```scala\n",
    "   val tinyNumber: Byte = 127\n",
    "   ```\n",
    "\n",
    "5. **Float**: Un número de punto flotante de 32 bits.\n",
    "   ```scala\n",
    "   val decimalNumber: Float = 3.14f\n",
    "   ```\n",
    "\n",
    "6. **Double**: Un número de punto flotante de 64 bits.\n",
    "   ```scala\n",
    "   val bigDecimalNumber: Double = 3.14159265359\n",
    "   ```\n",
    "\n",
    "7. **Char**: Un carácter Unicode de 16 bits.\n",
    "   ```scala\n",
    "   val letter: Char = 'A'\n",
    "   ```\n",
    "\n",
    "8. **Boolean**: Un valor verdadero o falso.\n",
    "   ```scala\n",
    "   val isScalaFun: Boolean = true\n",
    "   ```\n",
    "\n",
    "### Tipos No Primitivos\n",
    "\n",
    "Scala, al ser un lenguaje orientado a objetos, permite la definición de tipos complejos. Algunos de los tipos no primitivos más comunes son:\n",
    "\n",
    "1. **String**: Una secuencia de caracteres.\n",
    "   ```scala\n",
    "   val greeting: String = \"Hello, Scala!\"\n",
    "   ```\n",
    "\n",
    "2. **Array**: Una colección de elementos del mismo tipo.\n",
    "   ```scala\n",
    "   val numbers: Array[Int] = Array(1, 2, 3, 4, 5)\n",
    "   ```\n",
    "\n",
    "3. **List**: Una colección inmutable de elementos.\n",
    "   ```scala\n",
    "   val fruits: List[String] = List(\"apple\", \"banana\", \"cherry\")\n",
    "   ```\n",
    "\n",
    "4. **Vector**: Similar a List, pero con acceso y actualizaciones más eficientes en ambos extremos.\n",
    "   ```scala\n",
    "   val vectorExample: Vector[Int] = Vector(1, 2, 3)\n",
    "   ```\n",
    "\n",
    "5. **Tuple**: Una agrupación de elementos de diferentes tipos.\n",
    "   ```scala\n",
    "   val person: (String, Int) = (\"Alice\", 25)\n",
    "   ```\n",
    "\n",
    "6. **Option**: Representa un valor opcional.\n",
    "   ```scala\n",
    "   val optionalNumber: Option[Int] = Some(5)\n",
    "   val noNumber: Option[Int] = None\n",
    "   ```\n",
    "\n",
    "7. **Map**: Una colección de pares clave-valor.\n",
    "   ```scala\n",
    "   val ageMap: Map[String, Int] = Map(\"Alice\" -> 25, \"Bob\" -> 29)\n",
    "   ```\n",
    "\n",
    "8. **Set**: Una colección de elementos únicos.\n",
    "   ```scala\n",
    "   val numberSet: Set[Int] = Set(1, 2, 3, 3, 4)\n",
    "   ```\n",
    "\n",
    "### Clases y Objetos\n",
    "\n",
    "Scala permite la definición de clases y objetos, lo que facilita la creación de tipos de datos personalizados.\n",
    "\n",
    "```scala\n",
    "class Person(val name: String, val age: Int)\n",
    "\n",
    "val bob = new Person(\"Bob\", 29)\n",
    "```\n",
    "\n",
    "### Funciones como Tipos de Datos\n",
    "\n",
    "Scala, siendo un lenguaje de programación funcional, trata las funciones como ciudadanos de primera clase, lo que significa que pueden ser asignadas a variables y pasadas como argumentos.\n",
    "\n",
    "```scala\n",
    "val addOne: Int => Int = _ + 1\n",
    "val result = addOne(5)  // result es 6\n",
    "```"
   ]
  },
  {
   "cell_type": "markdown",
   "id": "b7c73250-7edc-4e2e-8501-4b9c0725bb3f",
   "metadata": {},
   "source": [
    "### **El tipo `Unit`**\n",
    "\n",
    "En Scala, `Unit` es un tipo que indica la ausencia de un valor significativo. Es similar al `void` en lenguajes como C, C++ o Java. Sin embargo, a diferencia de `void`, `Unit` es un tipo real con exactamente un valor, que se escribe `()`. Esto refleja la naturaleza de Scala como un lenguaje de programación funcional, donde cada función se espera que devuelva algo.\n",
    "\n",
    "La utilidad principal de `Unit` en Scala es representar los efectos secundarios. En programación, un efecto secundario es cualquier operación que modifica algún estado fuera de su ámbito local, como escribir en un archivo, modificar una variable global o imprimir algo en la pantalla. Las funciones que realizan estos efectos a menudo no tienen un valor de retorno significativo, por lo que devuelven `Unit`.\n",
    "\n",
    "##### Ejemplo:\n",
    "\n",
    "```scala\n",
    "def printMessage(message: String): Unit = {\n",
    "  println(message)\n",
    "}\n",
    "```\n",
    "\n",
    "En este ejemplo, `printMessage` realiza un efecto secundario (imprimir un mensaje) y no necesita devolver un valor útil, por lo que su tipo de retorno es `Unit`.\n",
    "\n",
    "#### **`Unit` en Contextos Funcionales**\n",
    "\n",
    "Aunque `Unit` se usa comúnmente para efectos secundarios, también puede encontrarse en contextos más funcionales. Por ejemplo, puede ser útil en situaciones donde se requiere una función pero el valor de retorno no es importante, como en los callbacks o listeners.\n",
    "\n",
    "##### Ejemplo:\n",
    "\n",
    "```scala\n",
    "def onEvent(callback: () => Unit): Unit = {\n",
    "  // Simular un evento\n",
    "  callback()\n",
    "}\n",
    "\n",
    "onEvent(() => println(\"Evento ocurrido\"))\n",
    "```\n",
    "\n",
    "Aunque `Unit` es útil, su uso excesivo puede ser un indicio de un estilo de programación imperativo en lugar de funcional. En Scala, se fomenta un estilo más funcional que minimiza los efectos secundarios. Sin embargo, `Unit` es esencial en casos donde los efectos secundarios son inevitables o deseables, como en la interacción con interfaces de usuario o sistemas externos."
   ]
  },
  {
   "cell_type": "markdown",
   "id": "7d69a0c2-7c48-4e0f-8cca-2657834d847b",
   "metadata": {},
   "source": [
    "## Operadores."
   ]
  },
  {
   "cell_type": "markdown",
   "id": "a576cf75-10ea-4fd0-b11b-be764b89df15",
   "metadata": {},
   "source": [
    "| Operador | Descripción | Ejemplo en Scala | Resultado |\n",
    "|----------|-------------|------------------|-----------|\n",
    "| `+`      | Suma        | `10 + 5`         | `15`      |\n",
    "| `-`      | Resta       | `10 - 5`         | `5`       |\n",
    "| `*`      | Multiplicación | `10 * 5`      | `50`      |\n",
    "| `/`      | División    | `10 / 5`         | `2`       |\n",
    "| `%`      | Módulo      | `10 % 5`         | `0`       |\n",
    "| `==`     | Igualdad    | `10 == 5`        | `false`   |\n",
    "| `!=`     | Desigualdad | `10 != 5`        | `true`    |\n",
    "| `<`      | Menor que   | `10 < 5`         | `false`   |\n",
    "| `>`      | Mayor que   | `10 > 5`         | `true`    |\n",
    "| `<=`     | Menor o igual que | `10 <= 5`  | `false`   |\n",
    "| `>=`     | Mayor o igual que | `10 >= 5`  | `true`    |\n",
    "| `&&`     | AND lógico  | `true && false`  | `false`   |\n",
    "| `\\|\\|`   | OR lógico   | `true \\|\\| false`| `true`    |\n",
    "| `!`      | NOT lógico  | `!true`          | `false`   |\n",
    "| `++`     | Concatenación (para Strings o colecciones) | `\"Hello\" ++ \" World\"` | `\"Hello World\"` |\n",
    "| `::`     | Prepend (para Listas) | `5 :: List(1, 2)` | `List(5, 1, 2)` |\n",
    "\n",
    "Esta tabla cubre los operadores básicos de aritmética, comparación y lógicos, así como algunos específicos de Scala como `++` para concatenación y `::` para agregar un elemento al principio de una lista. Scala también permite a los desarrolladores definir sus propios operadores, lo que añade aún más flexibilidad y expresividad al lenguaje."
   ]
  },
  {
   "cell_type": "code",
   "execution_count": null,
   "id": "c628d931-bada-4ff2-94a1-163be472a849",
   "metadata": {},
   "outputs": [],
   "source": [
    "\"Hola, \" ++ \"Mundo\""
   ]
  },
  {
   "cell_type": "code",
   "execution_count": null,
   "id": "281de18c-5fd4-4a59-8f71-ae9db9ac4dae",
   "metadata": {},
   "outputs": [],
   "source": [
    "\"Hola, \" + \"Mundo\""
   ]
  },
  {
   "cell_type": "code",
   "execution_count": null,
   "id": "2b5f057e-176b-4d61-aca1-8d36419c94d6",
   "metadata": {},
   "outputs": [],
   "source": [
    "List(1,2) ++ List(2,3)"
   ]
  },
  {
   "cell_type": "code",
   "execution_count": null,
   "id": "c914661e-1398-4250-92b0-804f33807d01",
   "metadata": {},
   "outputs": [],
   "source": [
    "List(1,2) + List(2,3)"
   ]
  },
  {
   "cell_type": "markdown",
   "id": "0a2676f0-8851-4884-a0ce-0b169476b48c",
   "metadata": {},
   "source": [
    "## Cadenas de caracteres de varias líneas.\n",
    "\n",
    "```\n",
    "\"\"\"\n",
    "<Linea 1>\n",
    "<Linea 2>\n",
    "...\n",
    "...\n",
    "<Linea n>\n",
    "\"\"\"\n",
    "```"
   ]
  },
  {
   "cell_type": "code",
   "execution_count": null,
   "id": "81c61c53-3667-4524-a9dc-fb477be33849",
   "metadata": {},
   "outputs": [],
   "source": [
    "val mensaje = \"\"\"Hola.\n",
    "Este es un mensaje\n",
    "de varias lineas.\"\"\""
   ]
  },
  {
   "cell_type": "code",
   "execution_count": null,
   "id": "2f703cc1-c366-43a2-9ded-7a51c2be69cf",
   "metadata": {},
   "outputs": [],
   "source": [
    "mensaje"
   ]
  },
  {
   "cell_type": "markdown",
   "id": "3bf71d9e-6c5c-4d35-96ca-a35842dd9ed2",
   "metadata": {},
   "source": [
    "## Cadenas de caracteres formateadas."
   ]
  },
  {
   "cell_type": "code",
   "execution_count": null,
   "id": "74c99b34-8f80-4ec3-9267-4c535b4eef30",
   "metadata": {},
   "outputs": [],
   "source": [
    "val nombre  = \"Juan\"\n",
    "val edad = 22"
   ]
  },
  {
   "cell_type": "code",
   "execution_count": null,
   "id": "060dc985-b972-4994-9c77-76a11e9d7a26",
   "metadata": {},
   "outputs": [],
   "source": [
    "s\"Hola $nombre. Tu edad es $edad\""
   ]
  },
  {
   "cell_type": "code",
   "execution_count": null,
   "id": "3e112109-6861-464c-94a0-8afb9bf6b154",
   "metadata": {},
   "outputs": [],
   "source": [
    "println(s\"Hola $nombre. Tu edad es $edad\")"
   ]
  },
  {
   "cell_type": "markdown",
   "id": "d26baaf8-383f-4f3c-9c7b-791cb79a3fff",
   "metadata": {},
   "source": [
    "<p style=\"text-align: center\"><a rel=\"license\" href=\"http://creativecommons.org/licenses/by/4.0/\"><img alt=\"Licencia Creative Commons\" style=\"border-width:0\" src=\"https://i.creativecommons.org/l/by/4.0/80x15.png\" /></a><br />Esta obra está bajo una <a rel=\"license\" href=\"http://creativecommons.org/licenses/by/4.0/\">Licencia Creative Commons Atribución 4.0 Internacional</a>.</p>\n",
    "<p style=\"text-align: center\">&copy; José Luis Chiquete Valdivieso. 2024.</p>"
   ]
  }
 ],
 "metadata": {
  "kernelspec": {
   "display_name": "Scala",
   "language": "scala",
   "name": "scala"
  },
  "language_info": {
   "codemirror_mode": "text/x-scala",
   "file_extension": ".sc",
   "mimetype": "text/x-scala",
   "name": "scala",
   "nbconvert_exporter": "script",
   "version": "2.13.12"
  }
 },
 "nbformat": 4,
 "nbformat_minor": 5
}
