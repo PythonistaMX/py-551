{
 "cells": [
  {
   "cell_type": "markdown",
   "id": "79d2fedd-ec22-4365-9e61-3ce3db715031",
   "metadata": {},
   "source": [
    "[![img/pythonista.png](img/pythonista.png)](https://www.pythonista.io)"
   ]
  },
  {
   "cell_type": "markdown",
   "id": "0af4d32d-3cf4-46cd-ab87-9908b104fa35",
   "metadata": {},
   "source": [
    "# Entornos en Scala"
   ]
  },
  {
   "cell_type": "markdown",
   "id": "3bd76275-2bfd-44d9-8afe-6cd1a52b5c5b",
   "metadata": {},
   "source": [
    "El código de Scala puede ser compilado para generar bytecode que puede correr en la JVM. Sin embargo, es posible ejectrar código interpretado dentro de un entorno REPL.\n",
    "\n",
    "**Nota:** En este curso se utilizan notebooks de Jupyter que se conectan a un REPL proporcionado por Apache Spark."
   ]
  },
  {
   "cell_type": "markdown",
   "id": "28dfa619-c68a-4f8b-98e9-aa4e1d826976",
   "metadata": {},
   "source": [
    "## Compilación de código de Scala."
   ]
  },
  {
   "cell_type": "markdown",
   "id": "7184978d-136e-4e75-898b-4cce1d68f4e2",
   "metadata": {},
   "source": [
    "Compilar un programa en Scala es un proceso relativamente sencillo, pero requiere algunos pasos y herramientas específicas. Vamos a ver un ejemplo básico de cómo se puede compilar un programa Scala desde la línea de comandos.\n",
    "\n",
    "### Paso 1: Instalar Scala\n",
    "\n",
    "Antes de poder compilar un programa Scala, necesitas tener Scala instalado en tu sistema. Esto generalmente incluye el compilador de Scala (`scalac`) y posiblemente un sistema de construcción como sbt (Scala Build Tool) si trabajas en un proyecto más grande. Puedes descargar e instalar Scala desde el sitio web oficial: [Scala Lang](https://www.scala-lang.org/).\n",
    "\n",
    "### Paso 2: Escribir el Código Fuente\n",
    "\n",
    "Crea un archivo simple con código Scala. Por ejemplo, puedes crear un archivo llamado `HelloWorld.scala` con el siguiente contenido:\n",
    "\n",
    "```scala\n",
    "object HolaMundo {\n",
    "  def main(args: Array[String]): Unit = {\n",
    "    println(\"Hola,mundo!\")\n",
    "  }\n",
    "}\n",
    "\n",
    "```\n",
    "\n",
    "Este código define un objeto Scala con un método `main`, el punto de entrada estándar para una aplicación Scala.\n",
    "\n",
    "### Paso 3: Compilar el Código\n",
    "\n",
    "Abre una terminal o línea de comandos y navega hasta el directorio donde guardaste el archivo `HelloWorld.scala`. Luego ejecuta el siguiente comando para compilar el archivo:\n",
    "\n",
    "```bash\n",
    "scalac HelloWorld.scala\n",
    "```\n",
    "\n",
    "El compilador `scalac` procesará el archivo `HelloWorld.scala` y generará archivos de clase bytecode de Java en el mismo directorio. Estos archivos son los que ejecuta la JVM.\n",
    "\n",
    "### Paso 4: Ejecutar el Programa\n",
    "\n",
    "Una vez compilado, puedes ejecutar el programa usando Scala o Java. Para ejecutarlo con Scala, usa el siguiente comando:\n",
    "\n",
    "```bash\n",
    "scala HelloWorld\n",
    "```"
   ]
  },
  {
   "cell_type": "markdown",
   "id": "971e9dc2-4f90-4534-b649-6a68f0a99f05",
   "metadata": {
    "scrolled": true
   },
   "source": [
    "## Ejecución desde la REPL"
   ]
  },
  {
   "cell_type": "code",
   "execution_count": null,
   "id": "d8e869a3-6788-4f2f-886c-431891f1c40e",
   "metadata": {},
   "outputs": [],
   "source": [
    "object HolaMundo {\n",
    "  def main(args: Array[String]): Unit = {\n",
    "    println(\"Hola, Mundo\")\n",
    "  }\n",
    "}"
   ]
  },
  {
   "cell_type": "code",
   "execution_count": null,
   "id": "7b462c6d-0d73-49df-9a3e-8c9e21377daf",
   "metadata": {},
   "outputs": [],
   "source": [
    "HolaMundo"
   ]
  },
  {
   "cell_type": "markdown",
   "id": "8bf60335-969c-4e62-a732-af4f768d3275",
   "metadata": {},
   "source": [
    "* En el caso del REPL, no es necesario definir un objeto que contenga a un método `main`. Simplemente se ingresa el código."
   ]
  },
  {
   "cell_type": "code",
   "execution_count": null,
   "id": "0a0eec8f-711c-4dcc-9b6d-3b9cd8a0e2d5",
   "metadata": {},
   "outputs": [],
   "source": [
    "println(\"Hola, Mundo\")"
   ]
  },
  {
   "cell_type": "markdown",
   "id": "f9c578db-b4e2-4b9c-9b74-e9ac97ae2f26",
   "metadata": {},
   "source": [
    "## Scala Building Tool (SBT)"
   ]
  },
  {
   "cell_type": "markdown",
   "id": "8bebf5a4-3b3f-41a2-ba95-97cc743fe95e",
   "metadata": {},
   "source": [
    "[Scala Build Tool (SBT)](https://www.scala-sbt.org/) es una herramienta de construcción open-source para proyectos Scala y Java, conocida por su simplicidad, flexibilidad y poderosas características. SBT se ha convertido en la herramienta de elección para muchos desarrolladores de Scala debido a su eficiencia en la gestión de dependencias, compilación y despliegue de proyectos. En este ensayo, exploraremos las características clave de SBT y cómo ha revolucionado la forma en que se desarrollan los proyectos en Scala.\n",
    "\n",
    "#### **1. Gestión de Dependencias**\n",
    "\n",
    "SBT maneja las dependencias de proyectos de manera eficiente y sencilla. Permite a los desarrolladores especificar las bibliotecas que el proyecto necesita en un archivo llamado `build.sbt`. SBT se encarga automáticamente de descargar estas dependencias desde repositorios como Maven Central o repositorios personalizados. Esta característica elimina la necesidad de gestionar manualmente las bibliotecas y sus versiones, lo que a su vez reduce significativamente los errores relacionados con las dependencias.\n",
    "\n",
    "#### **2. Compilación Incremental**\n",
    "\n",
    "Una de las características más notables de SBT es su compilación incremental. Esta capacidad permite que SBT compile solo aquellos archivos que han cambiado desde la última compilación, en lugar de recompilar todo el proyecto. Esto ahorra un tiempo considerable, especialmente en proyectos grandes, haciendo el proceso de desarrollo más eficiente.\n",
    "\n",
    "#### **3. Integración con la JVM**\n",
    "\n",
    "Dado que SBT se ejecuta en la JVM, ofrece una integración perfecta con proyectos basados en Scala y Java. Esta integración facilita el uso de herramientas y bibliotecas existentes en el ecosistema de la JVM, lo que es especialmente útil para proyectos que combinan código Scala y Java.\n",
    "\n",
    "#### **4. Plugins y Extensibilidad**\n",
    "\n",
    "SBT es altamente extensible a través del uso de plugins. Hay una amplia gama de plugins disponibles que extienden la funcionalidad de SBT, desde la integración con sistemas de control de versiones hasta herramientas de empaquetado y despliegue. Los desarrolladores también pueden crear sus propios plugins para personalizar y automatizar su flujo de trabajo de desarrollo.\n",
    "\n",
    "#### **5. Integración con IDEs**\n",
    "\n",
    "La mayoría de los entornos de desarrollo integrados (IDEs) populares para Scala, como IntelliJ IDEA y Eclipse, ofrecen soporte para SBT. Esto significa que los desarrolladores pueden importar y gestionar proyectos SBT directamente desde sus IDEs favoritos, aprovechando las características de SBT junto con las capacidades de edición y depuración del IDE.\n",
    "\n",
    "#### **6. Facilidad de Uso y Configuración DSL**\n",
    "\n",
    "SBT utiliza un lenguaje de configuración basado en Scala, lo que lo hace intuitivo para los desarrolladores de Scala. Este DSL (Domain-Specific Language) para la configuración permite escribir construcciones de construcción complejas de una manera concisa y legible.\n",
    "\n",
    "#### **7. Soporte para Pruebas e Integración Continua**\n",
    "\n",
    "SBT facilita la ejecución de tests y es compatible con frameworks de testing como ScalaTest, JUnit y Specs2. Esta compatibilidad es crucial para el desarrollo de software moderno, que a menudo se basa en prácticas de integración continua (CI). SBT se integra sin problemas con herramientas de CI como Jenkins, Travis CI y GitHub Actions, lo que permite automatizar las pruebas y el despliegue."
   ]
  },
  {
   "cell_type": "markdown",
   "id": "d26baaf8-383f-4f3c-9c7b-791cb79a3fff",
   "metadata": {},
   "source": [
    "<p style=\"text-align: center\"><a rel=\"license\" href=\"http://creativecommons.org/licenses/by/4.0/\"><img alt=\"Licencia Creative Commons\" style=\"border-width:0\" src=\"https://i.creativecommons.org/l/by/4.0/80x15.png\" /></a><br />Esta obra está bajo una <a rel=\"license\" href=\"http://creativecommons.org/licenses/by/4.0/\">Licencia Creative Commons Atribución 4.0 Internacional</a>.</p>\n",
    "<p style=\"text-align: center\">&copy; José Luis Chiquete Valdivieso. 2024.</p>"
   ]
  }
 ],
 "metadata": {
  "kernelspec": {
   "display_name": "Apache Toree - Scala",
   "language": "scala",
   "name": "apache_toree_scala"
  },
  "language_info": {
   "codemirror_mode": "text/x-scala",
   "file_extension": ".scala",
   "mimetype": "text/x-scala",
   "name": "scala",
   "pygments_lexer": "scala",
   "version": "2.12.15"
  }
 },
 "nbformat": 4,
 "nbformat_minor": 5
}
