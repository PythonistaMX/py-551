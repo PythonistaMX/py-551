{
 "cells": [
  {
   "cell_type": "markdown",
   "id": "79d2fedd-ec22-4365-9e61-3ce3db715031",
   "metadata": {},
   "source": [
    "[![img/pythonista.png](img/pythonista.png)](https://www.pythonista.io)"
   ]
  },
  {
   "cell_type": "markdown",
   "id": "0af4d32d-3cf4-46cd-ab87-9908b104fa35",
   "metadata": {},
   "source": [
    "# Introducción a Scala"
   ]
  },
  {
   "cell_type": "markdown",
   "id": "36a46e3a-46f4-418a-b14a-a3cfc1b774f8",
   "metadata": {},
   "source": [
    "Scala es un lenguaje de programación de propósito general que combina características de programación orientada a objetos y funcional en un solo lenguaje. Fue creado por Martin Odersky y lanzado en 2003. Desde entonces, ha ganado popularidad en la comunidad de desarrollo de software debido a su versatilidad y capacidad para abordar una amplia variedad de problemas de programación. En este artículo, exploraremos las características clave de Scala y por qué se ha convertido en una opción atractiva para muchos desarrolladores.\n",
    "\n",
    "**1. Orientación a Objetos y Funcional**\n",
    "\n",
    "Una de las características más distintivas de Scala es su capacidad para combinar programación orientada a objetos y programación funcional de manera fluida. En Scala, todo es un objeto, incluso los números y las funciones. Esto significa que puede crear clases y objetos como lo haría en un lenguaje orientado a objetos tradicional. Por otro lado, también puede utilizar funciones de manera funcional, lo que permite un estilo de programación más conciso y expresivo.\n",
    "\n",
    "**2. Tipado Estático y Tipado Fuerte**\n",
    "\n",
    "Scala es un lenguaje de tipado estático y fuerte. Esto significa que el tipo de cada variable se verifica en tiempo de compilación y no se permite la conversión implícita de tipos, lo que ayuda a evitar errores comunes durante la ejecución del programa. El sistema de tipos de Scala es altamente expresivo y admite inferencia de tipos, lo que significa que a menudo no es necesario especificar el tipo de una variable explícitamente.\n",
    "\n",
    "**3. Concurrencia y Paralelismo**\n",
    "\n",
    "Scala ofrece herramientas poderosas para la programación concurrente y el paralelismo a través de su biblioteca estándar y el modelo de actores. El sistema de actores de Scala permite crear sistemas altamente concurrentes de manera elegante y segura. Además, Scala se integra bien con la máquina virtual de Java (JVM), lo que facilita la interoperabilidad con bibliotecas y herramientas de Java.\n",
    "\n",
    "**4. Biblioteca Rica y Ecosistema Activo**\n",
    "\n",
    "Scala cuenta con una amplia biblioteca estándar que abarca desde operaciones básicas de entrada/salida hasta manipulación de colecciones y programación funcional avanzada. Además, el ecosistema de Scala se beneficia de numerosas bibliotecas de terceros y marcos de desarrollo, como Akka (para sistemas distribuidos), Play Framework (para aplicaciones web) y Spark (para procesamiento de datos a gran escala).\n",
    "\n",
    "**5. Compatibilidad con Java**\n",
    "\n",
    "Dado que Scala se ejecuta en la JVM, tiene una excelente compatibilidad con Java. Los desarrolladores pueden utilizar bibliotecas de Java directamente en sus proyectos Scala y viceversa. Esto hace que Scala sea una excelente opción para aquellos que desean aprovechar las ventajas de la JVM sin renunciar a las características avanzadas del lenguaje.\n",
    "\n",
    "**6. Comunidad Activa y Recursos Educativos**\n",
    "\n",
    "Scala cuenta con una comunidad activa de desarrolladores y una gran cantidad de recursos educativos en línea. Hay tutoriales, cursos en línea, libros y foros de discusión dedicados a Scala que pueden ayudar a los programadores a aprender y mejorar sus habilidades en el lenguaje.\n",
    "\n",
    "**Conclusión**\n",
    "\n",
    "Scala es un lenguaje de programación versátil que combina las mejores características de la programación orientada a objetos y funcional. Su tipado estático, capacidad para la programación concurrente y compatibilidad con Java lo convierten en una opción poderosa para una amplia gama de aplicaciones. Si estás buscando un lenguaje de programación que te permita escribir código conciso y seguro mientras aprovechas la potencia de la JVM, Scala es definitivamente una opción que vale la pena considerar. Con su comunidad activa y recursos educativos disponibles, es accesible para desarrolladores de todos los niveles de experiencia."
   ]
  },
  {
   "cell_type": "markdown",
   "id": "fce6113b-0d98-4c41-873a-044d4a29e694",
   "metadata": {},
   "source": [
    "## Ejecución y compilación."
   ]
  },
  {
   "cell_type": "markdown",
   "id": "f79ac0dd-4503-4c86-94ac-321c6c8b4f24",
   "metadata": {},
   "source": [
    " Para aprovechar al máximo Scala, es esencial comprender las diversas maneras de compilar y ejecutar programas escritos en este lenguaje.\n",
    "\n",
    "**1. Interprete de Scala: La Rápida Vía para la Ejecución**\n",
    "\n",
    "Una de las maneras más sencillas de ejecutar código Scala es utilizando el intérprete de Scala, que se instala junto con el entorno de desarrollo. Simplemente abre una terminal y ejecuta el comando `scala`. Esto te llevará a un entorno interactivo donde puedes escribir y ejecutar código Scala directamente.\n",
    "\n",
    "Esta opción es útil para la experimentación rápida y la evaluación de expresiones. Puedes probar conceptos, realizar cálculos y experimentar con la sintaxis de Scala de manera inmediata. Sin embargo, esta forma de ejecución no es adecuada para proyectos más grandes, ya que no permite la compilación y organización estructurada del código.\n",
    "\n",
    "**2. Compilación Manual con scalac: Control Total**\n",
    "\n",
    "Para proyectos más grandes y estructurados, es necesario compilar el código Scala antes de ejecutarlo. El compilador de Scala, conocido como `scalac`, es la herramienta que se utiliza para esta tarea. Para compilar un archivo de código fuente Scala, simplemente ejecutas el siguiente comando en tu terminal:\n",
    "\n",
    "```shell\n",
    "scalac MiArchivo.scala\n",
    "```\n",
    "\n",
    "Esto generará un archivo `.class` que puede ser ejecutado directamente con el comando `scala`, seguido del nombre de la clase principal:\n",
    "\n",
    "```shell\n",
    "scala MiClasePrincipal\n",
    "```\n",
    "\n",
    "El enfoque manual de compilación ofrece un control total sobre el proceso de compilación y ejecución. También permite la creación de proyectos más grandes y complejos con múltiples archivos fuente. Sin embargo, gestionar dependencias y automatizar tareas de compilación más avanzadas puede volverse complicado sin el uso de herramientas adicionales."
   ]
  },
  {
   "cell_type": "markdown",
   "id": "7b589fcd-a689-4a5f-ba64-7e86b3e30ae6",
   "metadata": {},
   "source": [
    "## Hola, Mundo desde una Notebook."
   ]
  },
  {
   "cell_type": "code",
   "execution_count": null,
   "id": "f98d70ea-1744-4520-af7e-893d8e2f8013",
   "metadata": {},
   "outputs": [],
   "source": [
    "print(\"Hola, Mundo\")"
   ]
  },
  {
   "cell_type": "markdown",
   "id": "5c3391af-df1b-4ba3-8588-63fcceca333c",
   "metadata": {},
   "source": [
    "## Comparación entre Java y Scala."
   ]
  },
  {
   "cell_type": "markdown",
   "id": "fd3ae320-1462-4ee2-9bd6-607aa5738602",
   "metadata": {},
   "source": [
    "Scala y Java son dos lenguajes de programación que se ejecutan en la plataforma Java Virtual Machine (JVM), lo que significa que comparten muchas similitudes debido a su intercompatibilidad. Sin embargo, también tienen diferencias significativas en términos de sintaxis y características. Aquí hay una comparación de Scala y Java junto con ejemplos de código para ilustrar algunas de sus diferencias clave:\n",
    "\n",
    "**1. Sintaxis Concisa de Scala vs. Java:**\n",
    "\n",
    "Scala se destaca por su sintaxis concisa y expresiva en comparación con Java. Veamos un ejemplo simple que muestra la diferencia en la forma en que ambos lenguajes manejan la impresión de \"Hola, Mundo\":\n",
    "\n",
    "**Scala:**\n",
    "```scala\n",
    "object HolaMundo {\n",
    "  def main(args: Array[String]): Unit = {\n",
    "    println(\"Hola, Mundo\")\n",
    "  }\n",
    "}\n",
    "```\n",
    "\n",
    "**Java:**\n",
    "```java\n",
    "public class HolaMundo {\n",
    "  public static void main(String[] args) {\n",
    "    System.out.println(\"Hola, Mundo\");\n",
    "  }\n",
    "}\n",
    "```\n",
    "\n",
    "En el ejemplo de Scala, notarás que hay menos ruido sintáctico y que Scala infiere el tipo de retorno de `main` automáticamente.\n",
    "\n",
    "**2. Programación Funcional en Scala:**\n",
    "\n",
    "Scala es conocido por su fuerte soporte para la programación funcional, lo que significa que puedes tratar las funciones como ciudadanos de primera clase. A continuación, un ejemplo simple de cómo definir una función en Scala que suma dos números:\n",
    "\n",
    "```scala\n",
    "def suma(a: Int, b: Int): Int = {\n",
    "  a + b\n",
    "}\n",
    "```\n",
    "\n",
    "En Java, también puedes definir funciones (métodos), pero la sintaxis es más verbosa en comparación con Scala:\n",
    "\n",
    "```java\n",
    "public static int suma(int a, int b) {\n",
    "  return a + b;\n",
    "}\n",
    "```\n",
    "\n",
    "**3. Mutabilidad y Colecciones Inmutables:**\n",
    "\n",
    "Scala fomenta el uso de colecciones inmutables, lo que significa que una vez que se crea una colección, no se puede modificar. En Java, las colecciones son generalmente mutables por defecto. Aquí tienes un ejemplo de cómo crear una lista inmutable en Scala y agregar un elemento:\n",
    "\n",
    "```scala\n",
    "val lista = List(1, 2, 3)\n",
    "val nuevaLista = lista :+ 4\n",
    "```\n",
    "\n",
    "En Java, crear una lista inmutable requiere más código utilizando bibliotecas externas como Guava:\n",
    "\n",
    "```java\n",
    "import com.google.common.collect.ImmutableList;\n",
    "\n",
    "ImmutableList<Integer> lista = ImmutableList.of(1, 2, 3);\n",
    "ImmutableList<Integer> nuevaLista = ImmutableList.<Integer>builder()\n",
    "  .addAll(lista)\n",
    "  .add(4)\n",
    "  .build();\n",
    "```\n",
    "\n",
    "**4. Inferencia de Tipos en Scala:**\n",
    "\n",
    "Scala ofrece una fuerte inferencia de tipos, lo que significa que en muchos casos el tipo de una variable o expresión puede ser deducido automáticamente por el compilador. Por ejemplo:\n",
    "\n",
    "```scala\n",
    "val numero = 42  // El tipo Int se infiere automáticamente\n",
    "```\n",
    "\n",
    "En Java, necesitas declarar explícitamente el tipo:\n",
    "\n",
    "```java\n",
    "int numero = 42;\n",
    "```\n",
    "\n",
    "\n",
    "Aunque Scala es un lenguaje poderoso, Java sigue siendo más ampliamente adoptado en la industria y tiene una base de código considerable. Esto significa que en muchos entornos, es más probable que encuentres oportunidades de trabajo relacionadas con Java.\n",
    "\n"
   ]
  },
  {
   "cell_type": "markdown",
   "id": "244f79ce-4e39-444b-a218-dbc083ef222b",
   "metadata": {},
   "source": [
    "## Scala como lenguaje de programacion funcional."
   ]
  },
  {
   "cell_type": "markdown",
   "id": "d86eae93-52ac-49ed-a36e-aedec272f8fc",
   "metadata": {},
   "source": [
    "**1. Inmutabilidad y Referencial Transparencia:**\n",
    "\n",
    "Uno de los pilares fundamentales de la programación funcional es la inmutabilidad de los datos. En Scala, las colecciones y objetos inmutables son la norma, lo que significa que una vez que se crea un objeto, no se puede cambiar. Esta característica garantiza la referencial transparencia, lo que significa que una función siempre producirá el mismo resultado dado el mismo conjunto de entradas, sin efectos secundarios. Esto hace que el código sea más predecible, fácil de razonar y menos propenso a errores.\n",
    "\n",
    "**Ejemplo:**"
   ]
  },
  {
   "cell_type": "code",
   "execution_count": null,
   "id": "c1886e46-9743-433c-a477-e94ba412d54c",
   "metadata": {},
   "outputs": [],
   "source": [
    "val listaOriginal = List(1, 2, 3)\n",
    "val listaNueva = listaOriginal :+ 4  // Creación de una nueva lista en lugar de modificar la original"
   ]
  },
  {
   "cell_type": "markdown",
   "id": "444affa5-e580-486a-a770-1cd2dbec5173",
   "metadata": {},
   "source": [
    "**2. Funciones de Primera Clase:**\n",
    "\n",
    "Scala trata las funciones como ciudadanos de primera clase, lo que significa que puedes pasar funciones como argumentos, devolver funciones desde otras funciones y asignar funciones a variables. Esto permite un alto nivel de abstracción y expresividad en la escritura de código.\n",
    "\n",
    "**Ejemplo:**"
   ]
  },
  {
   "cell_type": "code",
   "execution_count": null,
   "id": "d27f8631-a754-421f-8e82-3e058497ee11",
   "metadata": {},
   "outputs": [],
   "source": [
    "val suma = (a: Int, b: Int) => a + b\n",
    "val resultado = suma(3, 4)"
   ]
  },
  {
   "cell_type": "markdown",
   "id": "617a3eeb-fa08-4763-bb1c-f6ee1873b89d",
   "metadata": {},
   "source": [
    "**3. Funciones de Orden Superior:**\n",
    "\n",
    "Scala admite funciones de orden superior, que son funciones que toman una o más funciones como argumentos o devuelven una función como resultado. Esto permite patrones de diseño funcionales como el mapeo, el filtrado y la reducción de colecciones de manera concisa y legible.\n",
    "\n",
    "**Ejemplo:**"
   ]
  },
  {
   "cell_type": "code",
   "execution_count": null,
   "id": "032afb52-1863-4aad-a674-debc28e68f26",
   "metadata": {
    "scrolled": true
   },
   "outputs": [],
   "source": [
    "val numeros = List(1, 2, 3, 4, 5)\n",
    "val cuadrados = numeros.map(numero => numero * numero)"
   ]
  },
  {
   "cell_type": "markdown",
   "id": "bacb3920-8d4f-44c4-bec4-1fb77e5ae3d8",
   "metadata": {},
   "source": [
    "**4. Composición de Funciones:**\n",
    "\n",
    "La composición de funciones es una técnica común en la programación funcional. Scala proporciona operadores y métodos que facilitan la composición de funciones de manera eficiente.\n",
    "\n",
    "**Ejemplo:**"
   ]
  },
  {
   "cell_type": "code",
   "execution_count": null,
   "id": "01a2cf97-106e-4254-bd53-f9339803d0ee",
   "metadata": {
    "scrolled": true
   },
   "outputs": [],
   "source": [
    "val duplicar = (x: Int) => x * 2\n",
    "val sumarUno = (x: Int) => x + 1\n",
    "\n",
    "val duplicarYSumarUno = duplicar andThen sumarUno\n",
    "val resultado = duplicarYSumarUno(3)  // Resultado: 7"
   ]
  },
  {
   "cell_type": "markdown",
   "id": "666332c8-12e6-4baa-b862-55e648db557d",
   "metadata": {},
   "source": [
    "**5. Tipos de Datos Inmutables y Patrones de Coincidencia:**\n",
    "\n",
    "Scala permite la definición de tipos de datos inmutables, lo que facilita la creación de estructuras de datos complejas y seguras. Además, Scala ofrece un poderoso mecanismo de patrones de coincidencia que simplifica el manejo de datos enriquecidos y estructuras complejas.\n",
    "\n",
    "**Ejemplo:**"
   ]
  },
  {
   "cell_type": "code",
   "execution_count": null,
   "id": "5390fc39-339e-4d5c-965d-2ecec7c3bb20",
   "metadata": {},
   "outputs": [],
   "source": [
    "sealed trait Forma\n",
    "case class Circulo(radio: Double) extends Forma\n",
    "case class Rectangulo(ancho: Double, alto: Double) extends Forma\n",
    "\n",
    "def area(forma: Forma): Double = forma match {\n",
    "  case Circulo(radio) => 3.1416 * radio * radio\n",
    "  case Rectangulo(ancho, alto) => ancho * alto\n",
    "}"
   ]
  },
  {
   "cell_type": "code",
   "execution_count": null,
   "id": "0ebc5153-09e4-469b-8f01-f35f3e784719",
   "metadata": {},
   "outputs": [],
   "source": [
    "val una_rueda = Circulo(12)\n",
    "area(una_rueda)"
   ]
  },
  {
   "cell_type": "code",
   "execution_count": null,
   "id": "18b24801-8abb-4255-a755-fa49dee31358",
   "metadata": {},
   "outputs": [],
   "source": [
    "val un_cuadro: Rectangulo = Rectangulo(2, 2)\n",
    "area(un_cuadro)"
   ]
  },
  {
   "cell_type": "markdown",
   "id": "d26baaf8-383f-4f3c-9c7b-791cb79a3fff",
   "metadata": {},
   "source": [
    "<p style=\"text-align: center\"><a rel=\"license\" href=\"http://creativecommons.org/licenses/by/4.0/\"><img alt=\"Licencia Creative Commons\" style=\"border-width:0\" src=\"https://i.creativecommons.org/l/by/4.0/80x15.png\" /></a><br />Esta obra está bajo una <a rel=\"license\" href=\"http://creativecommons.org/licenses/by/4.0/\">Licencia Creative Commons Atribución 4.0 Internacional</a>.</p>\n",
    "<p style=\"text-align: center\">&copy; José Luis Chiquete Valdivieso. 2024.</p>"
   ]
  }
 ],
 "metadata": {
  "kernelspec": {
   "display_name": "Apache Toree - Scala",
   "language": "scala",
   "name": "apache_toree_scala"
  },
  "language_info": {
   "codemirror_mode": "text/x-scala",
   "file_extension": ".scala",
   "mimetype": "text/x-scala",
   "name": "scala",
   "pygments_lexer": "scala",
   "version": "2.12.15"
  }
 },
 "nbformat": 4,
 "nbformat_minor": 5
}
