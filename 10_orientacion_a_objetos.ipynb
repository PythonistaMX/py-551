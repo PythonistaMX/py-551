{
 "cells": [
  {
   "cell_type": "markdown",
   "id": "79d2fedd-ec22-4365-9e61-3ce3db715031",
   "metadata": {},
   "source": [
    "[![img/pythonista.png](img/pythonista.png)](https://www.pythonista.io)"
   ]
  },
  {
   "cell_type": "markdown",
   "id": "0af4d32d-3cf4-46cd-ab87-9908b104fa35",
   "metadata": {},
   "source": [
    "# Programación Orientada a Objetos."
   ]
  },
  {
   "cell_type": "markdown",
   "id": "ced9bbf3-11e2-49f7-bb02-29fa76c54676",
   "metadata": {},
   "source": [
    "La programación orientada a objetos (OOP) es un paradigma fundamental en el desarrollo de software, y Scala es un lenguaje que combina la concisión de la programación funcional con la flexibilidad de la OOP."
   ]
  },
  {
   "cell_type": "markdown",
   "id": "1bb56b50-ab83-42eb-b6fd-e736f8f991c7",
   "metadata": {},
   "source": [
    "## Clases."
   ]
  },
  {
   "cell_type": "markdown",
   "id": "d2167c31-590a-4d74-9e1d-87392e9b37c0",
   "metadata": {},
   "source": [
    "Una clase es una plantilla o un plano para crear objetos. Define un conjunto de atributos (campos) y métodos que caracterizan a los objetos que se pueden crear a partir de esa clase. Las clases en Scala siguen los principios de la programación orientada a objetos (OOP) y proporcionan un mecanismo para la abstracción, encapsulación, herencia y polimorfismo.\n",
    "\n",
    "```\n",
    "class <Nombre>(<param 1>, <param 2> ... <param n>){\n",
    "...\n",
    "...\n",
    "}\n",
    "```"
   ]
  },
  {
   "cell_type": "markdown",
   "id": "95f6fc57-bcf2-471f-bc4e-b60cbdafe7f9",
   "metadata": {},
   "source": [
    "**Ejemplo:**"
   ]
  },
  {
   "cell_type": "markdown",
   "id": "04de620f-ae91-4619-b533-4db3f5970745",
   "metadata": {},
   "source": [
    "* La clase `Persona` tiene dos atributos (`nombrePersona` y `edadPersona`) y un método (`saludar`)."
   ]
  },
  {
   "cell_type": "code",
   "execution_count": null,
   "id": "62977d35-b376-44b1-a4d0-2edcd77c55f7",
   "metadata": {},
   "outputs": [
    {
     "data": {
      "text/plain": [
       "Intitializing Scala interpreter ..."
      ]
     },
     "metadata": {},
     "output_type": "display_data"
    }
   ],
   "source": [
    "class Persona(nombre: String, edad: Int) {\n",
    "  // Atributos\n",
    "  val nombrePersona: String = nombre\n",
    "  val edadPersona: Int = edad\n",
    "\n",
    "  // Método en la clase\n",
    "  def saludar(): Unit = {\n",
    "    println(s\"Hola, mi nombre es $nombrePersona y tengo $edadPersona años.\")\n",
    "  }\n",
    "}"
   ]
  },
  {
   "cell_type": "markdown",
   "id": "139b13c1-1f04-443f-98e8-763dce3253ba",
   "metadata": {},
   "source": [
    "## Intancias de una clase."
   ]
  },
  {
   "cell_type": "markdown",
   "id": "5551440a-6704-4ca5-9e07-ec7a1f3c8612",
   "metadata": {},
   "source": [
    "\"Instanciar\" es el proceso de crear un objeto a partir de una clase. Una clase sirve como una plantilla o un plano para definir la estructura y el comportamiento de los objetos, mientras que la instanciación es el acto de crear una instancia específica de esa clase, es decir, un objeto concreto.\n",
    "\n",
    "En términos más simples, instanciar una clase significa crear un objeto basado en esa clase, asignando valores específicos a sus atributos y llamando a sus métodos. La instancia resultante es única y representa una ocurrencia individual de la clase.\n",
    "\n",
    "```\n",
    "new <Clase>(<arg 1>, <arg 2>, ..., <arg n>)\n",
    "```"
   ]
  },
  {
   "cell_type": "markdown",
   "id": "2b7c50f5-1d81-470c-a718-5721eb5b52d6",
   "metadata": {},
   "source": [
    "**Ejemplo:**"
   ]
  },
  {
   "cell_type": "markdown",
   "id": "f7b325d3-8a0c-45bc-a588-06c9bdd858ab",
   "metadata": {},
   "source": [
    "* La siguiente celda creará al objeto `persona1`, el cual es una instancia de la clase `Persona`."
   ]
  },
  {
   "cell_type": "code",
   "execution_count": null,
   "id": "995cdde8-ca51-4a8a-a536-814a22df22c5",
   "metadata": {},
   "outputs": [],
   "source": [
    "val persona1 = new Persona(\"Juan\", 30)"
   ]
  },
  {
   "cell_type": "code",
   "execution_count": null,
   "id": "5ad8d146-959e-4fca-a3b0-cddbb93bfd73",
   "metadata": {},
   "outputs": [],
   "source": [
    "persona1.saludar()"
   ]
  },
  {
   "cell_type": "markdown",
   "id": "07e655b1-68eb-4f3d-871b-a7601d75a0ca",
   "metadata": {},
   "source": [
    "## Atributos en Scala."
   ]
  },
  {
   "cell_type": "markdown",
   "id": "efab0485-4b16-4be1-86da-5d79ef79b177",
   "metadata": {},
   "source": [
    "Los atributos en Scala son una parte esencial del diseño orientado a objetos y funcional."
   ]
  },
  {
   "cell_type": "markdown",
   "id": "7de408a8-f95d-409d-8dbd-f8f2be3f683a",
   "metadata": {},
   "source": [
    "### Declaración de Atributos.\n",
    "\n",
    "- En Scala, la declaración de atributos se realiza dentro de la clase y puede llevar varios modificadores de acceso, como `private`, `protected`, o simplemente no tener un modificador, lo que lo hace público por defecto.\n",
    "- Scala fomenta el uso de atributos inmutables siempre que sea posible. La inmutabilidad mejora la seguridad y la legibilidad del código, ya que evita cambios inesperados en el estado del objeto.\n",
    "- Scala genera automáticamente métodos accesores (`getters`) y modificadores (`setters`) para los atributos declarados como `var`."
   ]
  },
  {
   "cell_type": "markdown",
   "id": "d345ef4f-00b8-4c5f-b613-f0071b69c260",
   "metadata": {},
   "source": [
    "**Ejemplo:**"
   ]
  },
  {
   "cell_type": "code",
   "execution_count": null,
   "id": "c958a68d-debb-4e3e-8c07-d66cdf08a3e7",
   "metadata": {},
   "outputs": [],
   "source": [
    "class PersonaAtributos(var nombre: String, val edad: Int) {\n",
    "// Atributos: 'nombre' es mutable, 'edad' es inmutable\n",
    "    }"
   ]
  },
  {
   "cell_type": "code",
   "execution_count": null,
   "id": "b476e988-ee11-44cf-8d31-f2a2b56e2f7e",
   "metadata": {},
   "outputs": [],
   "source": [
    "val persona2 = new PersonaAtributos(\"Juan\", 25)\n",
    "    println(persona2.nombre) // Acceso al método accesor generado\n",
    "    persona2.nombre = \"Carlos\" // Acceso al método modificador generado"
   ]
  },
  {
   "cell_type": "markdown",
   "id": "316ab0c6-ab06-47e8-bb80-55c33053fb8f",
   "metadata": {},
   "source": [
    "### Modificadores de acceso.\n",
    "\n",
    "En Scala es posible utilizar modificadores de acceso como `private`, `public` y `protected` para controlar la visibilidad de los miembros de una clase.\n",
    "\n",
    "#### `private`\n",
    "\n",
    "   - Un miembro marcado como `private` solo es accesible dentro de la propia clase donde se define. No puede ser accedido desde clases externas ni desde subclases.\n",
    "\n",
    "    ```scala\n",
    "    class Ejemplo {\n",
    "      private val atributoPrivado: String = \"Soy privado\"\n",
    "\n",
    "      def metodoPublico(): Unit = {\n",
    "        // Se puede acceder al atributo privado dentro de la propia clase\n",
    "        println(atributoPrivado)\n",
    "      }\n",
    "    }\n",
    "    ```\n",
    "\n",
    "#### `protected`\n",
    "\n",
    "   - Un miembro marcado como `protected` es accesible dentro de la propia clase y también dentro de sus subclases. No es accesible desde clases externas.\n",
    "\n",
    "    ```scala\n",
    "    class Padre {\n",
    "      protected val atributoProtegido: String = \"Soy protegido\"\n",
    "    }\n",
    "\n",
    "    class Hijo extends Padre {\n",
    "      def metodoHijo(): Unit = {\n",
    "        // Se puede acceder al atributo protegido en una subclase\n",
    "        println(atributoProtegido)\n",
    "      }\n",
    "    }\n",
    "    ```\n",
    "### Sin Modificador (Acceso Público por Defecto).\n",
    "\n",
    "   - Si no se proporciona un modificador de acceso, el miembro se considera público por defecto. Puede ser accedido desde cualquier lugar.\n",
    "\n",
    "    ```scala\n",
    "    class ClasePublica {\n",
    "      val atributoPublico: String = \"Soy público\"\n",
    "    }\n",
    "    ```\n",
    "\n",
    "Es importante tener en cuenta que en Scala, la visibilidad por defecto es `public`. Además, Scala ofrece un modificador de acceso más restrictivo llamado `private[this]`, que restringe la visibilidad incluso a instancias diferentes de la misma clase."
   ]
  },
  {
   "cell_type": "markdown",
   "id": "9a8350a1-410d-48a9-b81d-bce746437c4f",
   "metadata": {},
   "source": [
    "## Constructores."
   ]
  },
  {
   "cell_type": "markdown",
   "id": "2a1271cb-c0f9-4d57-8061-425fb259b5d6",
   "metadata": {},
   "source": [
    "En Scala, los constructores son utilizados para inicializar objetos de una clase. Scala proporciona flexibilidad en la definición de constructores, permitiendo la creación de múltiples constructores y la composición de constructores."
   ]
  },
  {
   "cell_type": "markdown",
   "id": "9884d37c-fb08-45e8-9ebd-96de51e1281a",
   "metadata": {},
   "source": [
    "### Constructor Primario:\n",
    "\n",
    "El constructor primario es parte de la declaración de la clase y se define directamente en la firma de la clase. Puede tener parámetros y declaraciones.\n",
    "\n",
    "```\n",
    "class <Nombre>(<param 1>, <param 2> ... <param n>){\n",
    "...\n",
    "...\n",
    "}\n",
    "```"
   ]
  },
  {
   "cell_type": "markdown",
   "id": "78be92d7-fb16-4239-9646-002e9f9ee6c4",
   "metadata": {},
   "source": [
    "### Constructores Secundarios:\n",
    "\n",
    "Scala permite la definición de constructores secundarios adicionales dentro de la clase. Estos constructores deben llamar al constructor primario u a otro constructor secundario mediante la definición del método `this`."
   ]
  },
  {
   "cell_type": "markdown",
   "id": "fe10af73-2e07-42d8-96c5-5c16c515ab18",
   "metadata": {},
   "source": [
    "**Ejemplo:**"
   ]
  },
  {
   "cell_type": "markdown",
   "id": "f7f84ab2-0f8a-4521-a6c5-1d706a86b6dc",
   "metadata": {},
   "source": [
    "* La clase `PersonaSecundaria` define, además del constructor primario, un constructor secundario usando `this`, definiendo un valor por defecto para `edad`."
   ]
  },
  {
   "cell_type": "code",
   "execution_count": null,
   "id": "efa86d47-901c-4fbd-9faf-52ce303b7db3",
   "metadata": {},
   "outputs": [],
   "source": [
    "class PersonaSecundaria(nombre: String, edad: Int) {\n",
    "  // Atributos\n",
    "  val nombrePersona: String = nombre\n",
    "  val edadPersona: Int = edad\n",
    "\n",
    "  // Constructor secundario\n",
    "  def this(nombre: String) {\n",
    "    // Llamada al constructor primario con un valor predeterminado para la edad\n",
    "    this(nombre, 0)\n",
    "  }\n",
    "\n",
    "  // Método en la clase\n",
    "  def saludar(): Unit = {\n",
    "    println(s\"Hola, mi nombre es $nombrePersona y tengo $edadPersona años.\")\n",
    "  }\n",
    "}"
   ]
  },
  {
   "cell_type": "code",
   "execution_count": null,
   "id": "669faa3f-b563-4cb6-bd4d-daf81f67a9b2",
   "metadata": {},
   "outputs": [],
   "source": [
    "val persona3 = new PersonaSecundaria(\"Ana\")"
   ]
  },
  {
   "cell_type": "code",
   "execution_count": null,
   "id": "e86e8a62-08b2-42ec-8134-39d9b6a4b0fd",
   "metadata": {
    "scrolled": true
   },
   "outputs": [],
   "source": [
    "persona3.saludar()"
   ]
  },
  {
   "cell_type": "markdown",
   "id": "17e46a96-8e3c-4e4b-9a6d-24e3d59337c4",
   "metadata": {},
   "source": [
    "## Herencia."
   ]
  },
  {
   "cell_type": "markdown",
   "id": "454722e1-1312-4518-8ed1-219fcfdd02ec",
   "metadata": {},
   "source": [
    "La herencia es un componente base de la programación orientada a objetos. En el caso de Scala, se utiliza la dclaración `extends` para indicar que una clase es sublcase de otra.\n",
    "\n",
    "```\n",
    "class <SubClase> extends <SuperClase>(<args>){\n",
    "} \n",
    "```\n",
    "\n",
    "**Nota:** Scala permite la herencia múltiple mediante traits."
   ]
  },
  {
   "cell_type": "markdown",
   "id": "d859acb4-55f8-47fb-90bf-62b0c5fd7680",
   "metadata": {},
   "source": [
    "### Sobreescritura de métodos.\n",
    "Scala permite sobreescribir métodos usando `override`.\n",
    "\n",
    "```\n",
    "class <SubClase> extends <SuperClase>(<args>){\n",
    "...\n",
    "...\n",
    "override def <metodo>()\n",
    "\n",
    "} \n",
    "```\n"
   ]
  },
  {
   "cell_type": "markdown",
   "id": "debdc475-633f-4a4d-b622-42a12bd6288e",
   "metadata": {},
   "source": [
    "**Ejemplo:**"
   ]
  },
  {
   "cell_type": "markdown",
   "id": "7247231f-931d-4285-af6d-698adaeb0bc8",
   "metadata": {},
   "source": [
    "* La clase `Animal` define el método `sonido`."
   ]
  },
  {
   "cell_type": "code",
   "execution_count": null,
   "id": "1bc414e7-1bf2-4758-85e2-bb5f59ef76ab",
   "metadata": {},
   "outputs": [],
   "source": [
    "class Animal(nombre: String) {\n",
    "  def sonido(): String = \"Hace algún sonido\"\n",
    "}"
   ]
  },
  {
   "cell_type": "code",
   "execution_count": null,
   "id": "fd555903-7382-4da7-899a-8a6bcff10034",
   "metadata": {},
   "outputs": [],
   "source": [
    "val animalito = new Animal(\"Woodstock\")"
   ]
  },
  {
   "cell_type": "code",
   "execution_count": null,
   "id": "4a1c952c-715f-4d26-a952-512e91b369ea",
   "metadata": {},
   "outputs": [],
   "source": [
    "animalito.sonido"
   ]
  },
  {
   "cell_type": "markdown",
   "id": "9bb30d3b-45de-47c5-b2b3-d319cbfee286",
   "metadata": {},
   "source": [
    "* La clase `Perro` hereda a `Animal` y sobreescribe al método `sonido`."
   ]
  },
  {
   "cell_type": "code",
   "execution_count": null,
   "id": "21b60f80-af49-4338-82b3-2a26ad54b3fa",
   "metadata": {},
   "outputs": [],
   "source": [
    "class Perro(nombre: String, raza: String) extends Animal(nombre) {\n",
    "  // Override del método sonido\n",
    "  override def sonido(): String = \"Guau, guau\"\n",
    "}"
   ]
  },
  {
   "cell_type": "code",
   "execution_count": null,
   "id": "e3ceaaba-189a-4c69-abbc-582c9193eedc",
   "metadata": {},
   "outputs": [],
   "source": [
    "val perrito = new Perro(\"Snoopy\", \"beagle\")"
   ]
  },
  {
   "cell_type": "code",
   "execution_count": null,
   "id": "094a7927-6f12-43ef-9b65-d3ce39a25587",
   "metadata": {},
   "outputs": [],
   "source": [
    "perrito.sonido"
   ]
  },
  {
   "cell_type": "markdown",
   "id": "7f237224-5722-4831-8bbf-868f209c1264",
   "metadata": {},
   "source": [
    "## Traits."
   ]
  },
  {
   "cell_type": "markdown",
   "id": "2a04d083-807f-4dff-a3c0-699ddca2a935",
   "metadata": {},
   "source": [
    "Un trait en Scala es una unidad de composición que encapsula métodos y campos. Puede contener implementaciones de métodos y también puede ser mezclado en clases. Los traits permiten la composición de comportamientos de manera flexible.\n",
    "\n",
    "- Los traits pueden tener constructores, lo que permite la inicialización de campos y la ejecución de código al mezclar el trait en una clase.\n",
    "- Los traits pueden ser mezclados (o aplicados) en una clase, proporcionando la capacidad de heredar comportamientos sin necesidad de herencia múltiple de clases.\n",
    "\n",
    "```\n",
    "trait <Nombre>{\n",
    "...\n",
    "...\n",
    "}\n",
    "```\n",
    "\n",
    "Para crear una clase a partir de un trait se usa `extends`.\n",
    "\n",
    "```\n",
    "class <Clase> extends <Trait>{\n",
    "...\n",
    "...\n",
    "}\n",
    "```"
   ]
  },
  {
   "cell_type": "markdown",
   "id": "77902442-b253-44d0-8df3-7688630760b5",
   "metadata": {},
   "source": [
    "**Ejemplo:**"
   ]
  },
  {
   "cell_type": "code",
   "execution_count": null,
   "id": "1a2f3969-5810-402b-a008-f80a2c0793be",
   "metadata": {},
   "outputs": [],
   "source": [
    "trait Hablador {\n",
    "  def hablar(): Unit = println(\"Hablando...\")\n",
    "}"
   ]
  },
  {
   "cell_type": "code",
   "execution_count": null,
   "id": "84b49af1-508c-4e4e-8709-018861b7cc3e",
   "metadata": {},
   "outputs": [],
   "source": [
    "class PersonaParlante extends Hablador {\n",
    "  var nombre: String = _\n",
    "\n",
    "  def this(nuevoNombre: String) {\n",
    "    this()\n",
    "    this.nombre = nuevoNombre\n",
    "  }\n",
    "\n",
    "  def saluda(): Unit = {\n",
    "    println(s\"Hola. Mi nombre es $nombre\")\n",
    "  }\n",
    "}"
   ]
  },
  {
   "cell_type": "code",
   "execution_count": null,
   "id": "6230fc6f-220c-4ed2-896c-8248aafc0b53",
   "metadata": {},
   "outputs": [],
   "source": [
    "val persona4 = new PersonaParlante(\"Juan\")"
   ]
  },
  {
   "cell_type": "code",
   "execution_count": null,
   "id": "22a253f5-256b-4ba3-a59e-f201d8e897c1",
   "metadata": {},
   "outputs": [],
   "source": [
    "persona4.hablar"
   ]
  },
  {
   "cell_type": "code",
   "execution_count": null,
   "id": "c965c485-7435-402a-9985-aa412b4bf356",
   "metadata": {},
   "outputs": [],
   "source": [
    "persona4.saluda"
   ]
  },
  {
   "cell_type": "markdown",
   "id": "00aeefc4-386d-4f9e-9e5e-4e98dc621e9d",
   "metadata": {},
   "source": [
    "### Herencia múltiple.\n",
    "\n",
    "En Scala, la herencia múltiple tradicional no está permitida, ya que podría dar lugar a problemas conocidos como el \"problema del diamante\". Sin embargo, Scala ofrece una alternativa a través del uso de `traits`, que es una forma de composición que puede proporcionar funcionalidades similares a la herencia múltiple."
   ]
  },
  {
   "cell_type": "markdown",
   "id": "066fb5e2-3544-475e-92f1-d2a9c31880f4",
   "metadata": {
    "scrolled": true
   },
   "source": [
    "**Ejemplo:**"
   ]
  },
  {
   "cell_type": "markdown",
   "id": "4565a917-a30c-47f8-829a-0596c25a6269",
   "metadata": {},
   "source": [
    "- `trait A` define un método `mensajeA`.\n",
    "- `trait B` extiende `A` y define un método adicional `mensajeB`.\n",
    "- `trait C` también extiende `A` y define un método adicional `mensajeC`.\n",
    "- La clase `MiClase` mezcla los traits `B` y `C`, heredando así los métodos de `A`, `B` y `C`."
   ]
  },
  {
   "cell_type": "code",
   "execution_count": null,
   "id": "b93b15de-cadb-41ed-bb66-d944a0d134d1",
   "metadata": {},
   "outputs": [],
   "source": [
    "// Definición de un trait A\n",
    "trait A {\n",
    "  def mensajeA: String = \"Hola desde A\"\n",
    "}\n",
    "\n",
    "// Definición de un trait B que extiende A\n",
    "trait B extends A {\n",
    "  def mensajeB: String = \"Hola desde B\"\n",
    "}\n",
    "\n",
    "// Definición de un trait C que extiende A\n",
    "trait C extends A {\n",
    "  def mensajeC: String = \"Hola desde C\"\n",
    "}\n",
    "\n",
    "// Clase que mezcla los traits B y C\n",
    "class MiClase extends B with C {\n",
    "  def imprimirMensajes(): Unit = {\n",
    "    println(mensajeA)  // Heredado de A\n",
    "    println(mensajeB)  // Heredado de B\n",
    "    println(mensajeC)  // Heredado de C\n",
    "  }\n",
    "}"
   ]
  },
  {
   "cell_type": "code",
   "execution_count": null,
   "id": "3b8b21e2-0f89-4a2d-870c-e126cdfee000",
   "metadata": {},
   "outputs": [],
   "source": [
    "// Creación de una instancia de MiClase\n",
    "val instancia = new MiClase()\n",
    "instancia.imprimirMensajes()"
   ]
  },
  {
   "cell_type": "markdown",
   "id": "a1a5c654-2773-4d4b-a111-c3d572ea0ecd",
   "metadata": {},
   "source": [
    "## `Case classes`."
   ]
  },
  {
   "cell_type": "markdown",
   "id": "b9b5ca5e-f25f-4a39-baa3-6416c904dac7",
   "metadata": {},
   "source": [
    "Las case classes en Scala son una característica especial diseñada para simplificar la creación de clases que se utilizan principalmente para almacenar datos inmutables. Estas clases proporcionan de manera automática métodos útiles como constructores, métodos `toString`, `equals`, `hashCode` y otros, facilitando la creación de clases de datos sin la necesidad de escribir una gran cantidad de código \"boilerplate\"."
   ]
  },
  {
   "cell_type": "markdown",
   "id": "ac956d07-1c42-4b79-bf66-ccce1023a3fb",
   "metadata": {},
   "source": [
    "### Funcionamiento de Case Classes:\n",
    "- **Constructores Automáticos:**\n",
    "   - Las case classes generan automáticamente un constructor primario que toma como parámetros los atributos definidos en la clase.\n",
    "-  **Métodos Predeterminados:**\n",
    "   - Se generan automáticamente métodos `toString`, `equals`, y `hashCode`, que son útiles para imprimir, comparar y usar instancias de la clase en estructuras de datos como conjuntos o mapas.\n",
    "-  **Descomposición de Patrones (Pattern Matching):**\n",
    "   - Las case classes son especialmente útiles con el patrón de descomposición, permitiendo extraer y comparar valores de manera concisa."
   ]
  },
  {
   "cell_type": "markdown",
   "id": "3f414dea-f9bb-4e9e-96ad-87b6ecbd3e21",
   "metadata": {},
   "source": [
    "**Ejemplo:**"
   ]
  },
  {
   "cell_type": "markdown",
   "id": "e455ff99-e1ec-49cc-ae5c-989da69abe87",
   "metadata": {},
   "source": [
    "* Se creará la clase PersonaCase"
   ]
  },
  {
   "cell_type": "code",
   "execution_count": null,
   "id": "b7058148-bfd2-4fb5-a00b-d7cbf0b332ec",
   "metadata": {
    "scrolled": true
   },
   "outputs": [],
   "source": [
    "case class PersonaCase(nombre: String, edad: Int)"
   ]
  },
  {
   "cell_type": "markdown",
   "id": "2da16749-5045-4ae0-9bed-4ce43f19e686",
   "metadata": {},
   "source": [
    "* Se instanciarán `personacase1` y `personacase2`."
   ]
  },
  {
   "cell_type": "code",
   "execution_count": null,
   "id": "709c2aa1-d999-4195-864c-6a4959897eed",
   "metadata": {},
   "outputs": [],
   "source": [
    "val personacase1 = PersonaCase(\"Juan\", 25)\n",
    "val personacase2 = PersonaCase(\"Ana\", 30)"
   ]
  },
  {
   "cell_type": "markdown",
   "id": "1a77f7ba-2059-47fa-89ee-a8b700490330",
   "metadata": {},
   "source": [
    "* Se utilizarán los métodos `toString` y `equals`."
   ]
  },
  {
   "cell_type": "code",
   "execution_count": null,
   "id": "4c512795-ade2-4880-b547-b3d2982cc6c4",
   "metadata": {},
   "outputs": [],
   "source": [
    "personacase1.toString"
   ]
  },
  {
   "cell_type": "code",
   "execution_count": null,
   "id": "efa4b39c-4b1d-4357-aa88-d1ca883e912e",
   "metadata": {
    "scrolled": true
   },
   "outputs": [],
   "source": [
    "personacase1 == personacase2"
   ]
  },
  {
   "cell_type": "markdown",
   "id": "718fc5e0-e9b0-457f-b6b2-ca6923f09c3f",
   "metadata": {},
   "source": [
    "### Descomposición de Patrones.\n",
    "\n",
    "Los case classes permiten definir patrones a los que se puede aplicar `match` y `case`."
   ]
  },
  {
   "cell_type": "code",
   "execution_count": null,
   "id": "b1e7fff1-1015-4046-a303-822ea0c079b8",
   "metadata": {},
   "outputs": [],
   "source": [
    "def saludar(persona: PersonaCase): String = persona match {\n",
    "  case PersonaCase(\"Juan\", _) => \"Hola Juan\"\n",
    "  case PersonaCase(\"Ana\", edad) if edad >= 18 => \"Hola Ana, eres mayor de edad\"\n",
    "  case _ => \"Hola\"\n",
    "}"
   ]
  },
  {
   "cell_type": "code",
   "execution_count": null,
   "id": "5752197a-ad7a-43c1-9118-8dd31e52fae5",
   "metadata": {},
   "outputs": [],
   "source": [
    "saludar(personacase1)"
   ]
  },
  {
   "cell_type": "code",
   "execution_count": null,
   "id": "b56dc784-c788-4a3e-a24f-ad9b65d1d6c1",
   "metadata": {},
   "outputs": [],
   "source": [
    "saludar(personacase2)"
   ]
  },
  {
   "cell_type": "code",
   "execution_count": null,
   "id": "81d8c5ba-a6f7-4b55-9a0d-e908c8a7095a",
   "metadata": {},
   "outputs": [],
   "source": [
    "val personacase3 = new PersonaCase(\"Pedro\", 24)"
   ]
  },
  {
   "cell_type": "code",
   "execution_count": null,
   "id": "93d29b00-fef2-4387-8db1-f5470fd7f226",
   "metadata": {},
   "outputs": [],
   "source": [
    "saludar(personacase3)"
   ]
  },
  {
   "cell_type": "markdown",
   "id": "2cb535cb-3a98-4f56-9f72-e650e5020b87",
   "metadata": {},
   "source": [
    "### Modificación Inmutable.\n",
    "\n",
    "El método `copy` de las case class crean una nueva instancia con la misma estructura, pero con un valor modificado. Esto garantiza la inmutabilidad de la case class."
   ]
  },
  {
   "cell_type": "code",
   "execution_count": null,
   "id": "6ba8b929-4d14-4048-894d-492c0ceb6948",
   "metadata": {},
   "outputs": [],
   "source": [
    "val personacase4 = personacase1.copy(edad = 26)\n",
    "println(personacase4)"
   ]
  },
  {
   "cell_type": "markdown",
   "id": "27a36901-cd6d-4f67-a7db-8e80f33dc694",
   "metadata": {},
   "source": [
    "\n",
    "<p style=\"text-align: center\"><a rel=\"license\" href=\"http://creativecommons.org/licenses/by/4.0/\"><img alt=\"Licencia Creative Commons\" style=\"border-width:0\" src=\"https://i.creativecommons.org/l/by/4.0/80x15.png\" /></a><br />Esta obra está bajo una <a rel=\"license\" href=\"http://creativecommons.org/licenses/by/4.0/\">Licencia Creative Commons Atribución 4.0 Internacional</a>.</p>\n",
    "<p style=\"text-align: center\">&copy; José Luis Chiquete Valdivieso. 2024.</p>"
   ]
  }
 ],
 "metadata": {
  "kernelspec": {
   "display_name": "spylon-kernel",
   "language": "scala",
   "name": "spylon-kernel"
  },
  "language_info": {
   "codemirror_mode": "text/x-scala",
   "file_extension": ".scala",
   "help_links": [
    {
     "text": "MetaKernel Magics",
     "url": "https://metakernel.readthedocs.io/en/latest/source/README.html"
    }
   ],
   "mimetype": "text/x-scala",
   "name": "scala",
   "pygments_lexer": "scala",
   "version": "0.4.1"
  }
 },
 "nbformat": 4,
 "nbformat_minor": 5
}
