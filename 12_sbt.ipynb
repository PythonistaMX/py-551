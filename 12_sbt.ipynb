{
 "cells": [
  {
   "cell_type": "markdown",
   "id": "79d2fedd-ec22-4365-9e61-3ce3db715031",
   "metadata": {},
   "source": [
    "[![img/pythonista.png](img/pythonista.png)](https://www.pythonista.io)"
   ]
  },
  {
   "cell_type": "markdown",
   "id": "0af4d32d-3cf4-46cd-ab87-9908b104fa35",
   "metadata": {},
   "source": [
    "# SBT."
   ]
  },
  {
   "cell_type": "markdown",
   "id": "0cc1d6d1-559f-4619-93ae-b64031468109",
   "metadata": {},
   "source": [
    "## Introducción a SBT\n",
    "\n",
    "SBT, o Simple Build Tool, es una herramienta de construcción y gestión de proyectos diseñada específicamente para proyectos Scala. Es una herramienta potente y ampliamente utilizada que facilita la compilación, el empaquetado, las pruebas y la gestión de dependencias en proyectos Scala.\n",
    "\n",
    "## Instalación de SBT\n",
    "\n",
    "Para empezar, es necesario instalar SBT en el sistema. Se peude descargar la última versión de SBT desde el sitio oficial (https://www.scala-sbt.org/). Además, muchos entornos de desarrollo integrados (IDE) como IntelliJ IDEA y Visual Studio Code ofrecen integración con SBT, lo que facilita su uso en tu flujo de trabajo diario.\n",
    "\n",
    "## Estructura de un Proyecto SBT\n",
    "\n",
    "Un proyecto SBT típico sigue una estructura de directorios estándar que incluye directorios como `src`, `target`, y `project`. Aquí hay una descripción rápida de algunos directorios clave:\n",
    "\n",
    "- **`src`:** Contiene los archivos fuente de tu proyecto, organizados por tipo (por ejemplo, `main` para el código principal y `test` para las pruebas).\n",
    "  \n",
    "- **`target`:** Almacena los archivos generados durante la compilación y construcción del proyecto.\n",
    "\n",
    "- **`project`:** Puede contener archivos de configuración adicionales para SBT.\n",
    "\n",
    "## Archivo `build.sbt`\n",
    "\n",
    "El archivo `build.sbt` es el corazón de tu proyecto SBT y define la configuración del proyecto, las dependencias y las tareas. Aquí hay un ejemplo básico de un archivo `build.sbt`:\n",
    "\n",
    "```scala\n",
    "name := \"MiProyecto\"\n",
    "version := \"1.0\"\n",
    "scalaVersion := \"2.13.8\"\n",
    "```\n",
    "\n",
    "En este ejemplo:\n",
    "\n",
    "- `name` define el nombre del proyecto.\n",
    "- `version` especifica la versión del proyecto.\n",
    "- `scalaVersion` indica la versión de Scala que estás utilizando.\n",
    "\n",
    "## Dependencias en SBT\n",
    "\n",
    "SBT facilita la gestión de dependencias en Scala. Puedes declarar dependencias en el archivo `build.sbt` de la siguiente manera:\n",
    "\n",
    "```scala\n",
    "libraryDependencies += \"org.apache.spark\" %% \"spark-core\" % \"3.2.0\"\n",
    "```\n",
    "\n",
    "En este ejemplo, estamos agregando la dependencia de Apache Spark a nuestro proyecto.\n",
    "\n",
    "## Tareas en SBT\n",
    "\n",
    "SBT proporciona una variedad de tareas para ejecutar acciones específicas. Algunas tareas comunes incluyen:\n",
    "\n",
    "- **`compile`:** Compila el código fuente del proyecto.\n",
    "- **`test`:** Ejecuta las pruebas del proyecto.\n",
    "- **`run`:** Ejecuta la aplicación principal del proyecto.\n",
    "\n",
    "Puedes ejecutar estas tareas desde la línea de comandos de SBT.\n",
    "\n",
    "## Ciclo de Vida de Construcción en SBT\n",
    "\n",
    "SBT sigue un ciclo de vida de construcción que incluye fases como `compile`, `test`, y `package`. Estas fases se ejecutan automáticamente cuando realizas tareas específicas. Por ejemplo, al ejecutar `sbt compile`, SBT compilará tu código fuente.\n",
    "\n",
    "## Ejecución de SBT\n",
    "\n",
    "Para ejecutar SBT, simplemente navega al directorio raíz de tu proyecto y ejecuta el comando `sbt`. Esto abrirá la consola interactiva de SBT donde puedes ejecutar comandos y tareas.\n",
    "\n",
    "## Integración con IDEs\n",
    "\n",
    "SBT se integra fácilmente con varios entornos de desarrollo integrados. Puedes importar proyectos SBT en IntelliJ IDEA, Visual Studio Code y otros IDEs populares. La integración permite una experiencia de desarrollo fluida con capacidades de autocompletado y navegación.\n",
    "\n",
    "## Conclusiones\n",
    "\n",
    "SBT es una herramienta esencial para el desarrollo de proyectos Scala. Su capacidad para gestionar dependencias, ejecutar tareas y seguir un ciclo de vida de construcción coherente lo convierte en una elección popular entre los desarrolladores Scala. Al entender los conceptos básicos y la estructura de un proyecto SBT, puedes aprovechar al máximo esta poderosa herramienta en tus proyectos Scala. ¡Empieza a construir con SBT y lleva tu desarrollo Scala al siguiente nivel!"
   ]
  },
  {
   "cell_type": "markdown",
   "id": "27a36901-cd6d-4f67-a7db-8e80f33dc694",
   "metadata": {},
   "source": [
    "\n",
    "<p style=\"text-align: center\"><a rel=\"license\" href=\"http://creativecommons.org/licenses/by/4.0/\"><img alt=\"Licencia Creative Commons\" style=\"border-width:0\" src=\"https://i.creativecommons.org/l/by/4.0/80x15.png\" /></a><br />Esta obra está bajo una <a rel=\"license\" href=\"http://creativecommons.org/licenses/by/4.0/\">Licencia Creative Commons Atribución 4.0 Internacional</a>.</p>\n",
    "<p style=\"text-align: center\">&copy; José Luis Chiquete Valdivieso. 2024.</p>"
   ]
  }
 ],
 "metadata": {
  "kernelspec": {
   "display_name": "Apache Toree - Scala",
   "language": "scala",
   "name": "apache_toree_scala"
  },
  "language_info": {
   "codemirror_mode": "text/x-scala",
   "file_extension": ".scala",
   "mimetype": "text/x-scala",
   "name": "scala",
   "pygments_lexer": "scala",
   "version": "2.12.15"
  }
 },
 "nbformat": 4,
 "nbformat_minor": 5
}
