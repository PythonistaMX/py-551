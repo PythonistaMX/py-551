{
 "cells": [
  {
   "cell_type": "code",
   "execution_count": 1,
   "id": "5cb26276-f33a-4e4c-965d-c442d38809db",
   "metadata": {},
   "outputs": [
    {
     "name": "stdout",
     "output_type": "stream",
     "text": [
      "no\n"
     ]
    }
   ],
   "source": [
    "x = 12\n",
    "if x < 5:\n",
    "    print('sí')\n",
    "else:\n",
    "    print('no') "
   ]
  },
  {
   "cell_type": "code",
   "execution_count": 2,
   "id": "a5e8b393-2fe4-4b90-a1d7-d5f03b3fd085",
   "metadata": {},
   "outputs": [
    {
     "name": "stdout",
     "output_type": "stream",
     "text": [
      "si\n"
     ]
    }
   ],
   "source": [
    "print('no' if x < 5 else 'si')"
   ]
  },
  {
   "cell_type": "code",
   "execution_count": null,
   "id": "92de8aad-f193-4545-a223-8297122e600d",
   "metadata": {},
   "outputs": [],
   "source": []
  }
 ],
 "metadata": {
  "kernelspec": {
   "display_name": "Python 3 (ipykernel)",
   "language": "python",
   "name": "python3"
  },
  "language_info": {
   "codemirror_mode": {
    "name": "ipython",
    "version": 3
   },
   "file_extension": ".py",
   "mimetype": "text/x-python",
   "name": "python",
   "nbconvert_exporter": "python",
   "pygments_lexer": "ipython3",
   "version": "3.11.6"
  }
 },
 "nbformat": 4,
 "nbformat_minor": 5
}
