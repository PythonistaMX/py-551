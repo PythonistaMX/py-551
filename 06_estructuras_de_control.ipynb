{
 "cells": [
  {
   "cell_type": "markdown",
   "id": "79d2fedd-ec22-4365-9e61-3ce3db715031",
   "metadata": {},
   "source": [
    "[![img/pythonista.png](img/pythonista.png)](https://www.pythonista.io)"
   ]
  },
  {
   "cell_type": "markdown",
   "id": "0af4d32d-3cf4-46cd-ab87-9908b104fa35",
   "metadata": {},
   "source": [
    "## Estructuras de control."
   ]
  },
  {
   "cell_type": "markdown",
   "id": "84fe9abb-91af-47eb-84c7-2a29c745aa58",
   "metadata": {},
   "source": [
    "Scala, un lenguaje de programación que combina elementos de programación funcional y orientada a objetos, proporciona estructuras de control de flujo que son esenciales en casi todos los lenguajes de programación."
   ]
  },
  {
   "cell_type": "markdown",
   "id": "efe39823-6044-4338-9401-df412e1a3714",
   "metadata": {},
   "source": [
    "## Estructura `if`/`else`."
   ]
  },
  {
   "cell_type": "markdown",
   "id": "9795796a-bc37-4ff7-8c43-f9be360ba6ba",
   "metadata": {},
   "source": [
    "Al igual que en muchos otros lenguajes de programación, if y else en Scala se utilizan para ejecutar bloques de código basados en condiciones booleanas."
   ]
  },
  {
   "cell_type": "markdown",
   "id": "9562403c-3deb-4ef7-8214-ac1c1e5a79dd",
   "metadata": {},
   "source": [
    "``` scala\n",
    "if (condición) {\n",
    "    // Código si la condición es verdadera\n",
    "} else {\n",
    "    // Código si la condición es falsa\n",
    "}\n",
    "```"
   ]
  },
  {
   "cell_type": "markdown",
   "id": "891806bb-b683-4a39-8ad4-4bd8202126f6",
   "metadata": {},
   "source": [
    "### `if` / `else` como expresion.\n",
    "Esta estructura básica permite a los programas tomar decisiones y bifurcar el flujo de ejecución dependiendo de si una condición específica es verdadera o falsa."
   ]
  },
  {
   "cell_type": "markdown",
   "id": "1b0839f3-e390-4a5b-ada9-f6bd30f0cd98",
   "metadata": {},
   "source": [
    "\n",
    "A diferencia de muchos lenguajes imperativos, en Scala, casi todo es una expresión, incluyendo if/else. Esto significa que if/else no solo controla el flujo, sino que también devuelve un valor."
   ]
  },
  {
   "cell_type": "markdown",
   "id": "4b277548-28cd-4912-826c-f0fe2d957337",
   "metadata": {},
   "source": [
    "```scala\n",
    "val result = if (<condición>) \"Verdadero\" else \"Falso\"\n",
    "```"
   ]
  },
  {
   "cell_type": "code",
   "execution_count": 2,
   "id": "f0c34577-ebb2-484e-8865-6cf92f876b02",
   "metadata": {},
   "outputs": [
    {
     "data": {
      "text/plain": [
       "numero = 12\n"
      ]
     },
     "metadata": {},
     "output_type": "display_data",
     "source": "user"
    },
    {
     "data": {
      "text/plain": [
       "12"
      ]
     },
     "execution_count": 2,
     "metadata": {},
     "output_type": "execute_result"
    }
   ],
   "source": [
    "val numero  = 12"
   ]
  },
  {
   "cell_type": "code",
   "execution_count": 3,
   "id": "c5a1a739-f742-4d94-86b3-024ced94bd83",
   "metadata": {},
   "outputs": [
    {
     "data": {
      "text/plain": [
       "es_mayor_a_cinco = sí\n"
      ]
     },
     "metadata": {},
     "output_type": "display_data",
     "source": "user"
    },
    {
     "data": {
      "text/plain": [
       "sí"
      ]
     },
     "execution_count": 3,
     "metadata": {},
     "output_type": "execute_result"
    }
   ],
   "source": [
    "val es_mayor_a_cinco = if (numero > 5) \"sí\" else \"no\""
   ]
  },
  {
   "cell_type": "markdown",
   "id": "a683a779-af6b-4a05-9b94-5ee4101ac9fd",
   "metadata": {},
   "source": [
    "### `if`/ `else` anidado.\n",
    "\n",
    "Scala también soporta `if` anidados y estructuras de tipo escalera `if`-`else`-`if`, que son útiles para verificar múltiples condiciones.\n",
    "\n",
    "```\n",
    "if (<condición1>) {\n",
    "    // Código para condición1\n",
    "} else if (<condición2>) {\n",
    "    // Código para condición2\n",
    "...\n",
    "...\n",
    "} else {\n",
    "    // Código si ninguna condición anterior es verdadera\n",
    "}\n",
    "\n",
    "``` "
   ]
  },
  {
   "cell_type": "markdown",
   "id": "badbcefa-b622-4402-ba77-ab9622a56f74",
   "metadata": {},
   "source": [
    "Dada la naturaleza expresiva de `if`/`else` en Scala, se integra perfectamente en el estilo de programación funcional. Por ejemplo, se puede utilizar en combinación con funciones de orden superior, pasando funciones como parámetros o retornando funciones de un bloque `if`/`else`."
   ]
  },
  {
   "cell_type": "markdown",
   "id": "a81b3be3-0d59-4d7c-915d-cdef1191951d",
   "metadata": {},
   "source": [
    "## Identificación de patrones con `match`,"
   ]
  },
  {
   "cell_type": "markdown",
   "id": "6d5a6fc3-fd51-4e24-8d7f-c3de59a72bb7",
   "metadata": {},
   "source": [
    "Scala ofrece una alternativa a if/else mediante la expresión `match`, que es similar a `switch`-`case` en otros lenguajes pero mucho más poderosa. Para decisiones complejas basadas en el tipo o contenido de una variable, match puede ser una mejor elección debido a su legibilidad y funcionalidad.\n",
    "```\n",
    "<variable> match {\n",
    "  case <patrón 1> => <valor 1>\n",
    "  case <patrón 2> => <valor 2>\n",
    "  ...\n",
    "  ...\n",
    "  case <patrón n> => <valor 3>\n",
    "  case _ => <valor para otras  coincidencias>\n",
    "```\n"
   ]
  },
  {
   "cell_type": "markdown",
   "id": "c879909f-1211-4bb6-ab51-8d9611ec6d04",
   "metadata": {},
   "source": [
    "**Ejemplo:**"
   ]
  },
  {
   "cell_type": "code",
   "execution_count": 6,
   "id": "7fc9ba80-ea00-4ba4-8bf9-f5a5120c0e5a",
   "metadata": {},
   "outputs": [
    {
     "data": {
      "text/plain": [
       "number = 3\n"
      ]
     },
     "metadata": {},
     "output_type": "display_data",
     "source": "user"
    },
    {
     "data": {
      "text/plain": [
       "Tres"
      ]
     },
     "execution_count": 6,
     "metadata": {},
     "output_type": "execute_result"
    }
   ],
   "source": [
    "val number = 3\n",
    "\n",
    "number match {\n",
    "  case 1 => \"Uno\"\n",
    "  case 2 => \"Dos\"\n",
    "  case 3 => \"Tres\"\n",
    "  case _ => \"Otro número\"\n",
    "}"
   ]
  },
  {
   "cell_type": "markdown",
   "id": "58290507-5549-4d75-98e0-90d886d3ade7",
   "metadata": {},
   "source": [
    "### `case` con patrones."
   ]
  },
  {
   "cell_type": "code",
   "execution_count": 10,
   "id": "6e4c5520-90e4-4ccd-acfe-d2714fcf6237",
   "metadata": {},
   "outputs": [
    {
     "data": {
      "text/plain": [
       "describeType: (x: Any)String\n"
      ]
     },
     "metadata": {},
     "output_type": "display_data",
     "source": "user"
    }
   ],
   "source": [
    "def describeType(x: Any): String = x match {\n",
    "  case i: Int => \"Es un entero\"\n",
    "  case s: String => \"Es una cadena de texto\"\n",
    "  case _ => \"Otro tipo\"\n",
    "}"
   ]
  },
  {
   "cell_type": "code",
   "execution_count": 11,
   "id": "5ac076fa-c76b-4d3b-a64c-91fd0259a017",
   "metadata": {},
   "outputs": [
    {
     "data": {
      "text/plain": [
       "Es un entero"
      ]
     },
     "execution_count": 11,
     "metadata": {},
     "output_type": "execute_result"
    }
   ],
   "source": [
    "describeType(1)"
   ]
  },
  {
   "cell_type": "code",
   "execution_count": 12,
   "id": "2c37fb62-2d37-4af2-bfd8-b29a257888a5",
   "metadata": {},
   "outputs": [
    {
     "data": {
      "text/plain": [
       "Es una cadena de texto"
      ]
     },
     "execution_count": 12,
     "metadata": {},
     "output_type": "execute_result"
    }
   ],
   "source": [
    "describeType(\"Hola\")"
   ]
  },
  {
   "cell_type": "code",
   "execution_count": 13,
   "id": "b9bcb641-feee-4a75-88e6-13c5edb1ec5c",
   "metadata": {},
   "outputs": [
    {
     "data": {
      "text/plain": [
       "Otro tipo"
      ]
     },
     "execution_count": 13,
     "metadata": {},
     "output_type": "execute_result"
    }
   ],
   "source": [
    "describeType(false)"
   ]
  },
  {
   "cell_type": "markdown",
   "id": "53bf912e-db63-44f4-8952-d90ae6d14cad",
   "metadata": {},
   "source": [
    "### Uso de `case` con guardas.\n",
    "\n",
    "Scala permite agregar condiciones adicionales a los casos mediante guardas. Esto se hace usando `if` dentro de un caso para proporcionar una condición extra.\n",
    "\n",
    "```\n",
    "<variable> match {\n",
    "  case <intermedia> if <expresión 1> => <valor 1>\n",
    "  case <intermedia> if <expresión2> => <valor 2>\n",
    "   ...\n",
    "   ...\n",
    "  case <intermedia> if <expresión n> => <valor n>\n",
    "}  case _ => <valor por defecto>\n",
    "```\n"
   ]
  },
  {
   "cell_type": "code",
   "execution_count": 16,
   "id": "bda703ce-c00c-4b5b-aa71-40f04b6d40c6",
   "metadata": {},
   "outputs": [
    {
     "data": {
      "text/plain": [
       "number = -3\n"
      ]
     },
     "metadata": {},
     "output_type": "display_data",
     "source": "user"
    },
    {
     "data": {
      "text/plain": [
       "Negativo"
      ]
     },
     "execution_count": 16,
     "metadata": {},
     "output_type": "execute_result"
    }
   ],
   "source": [
    "val number = - 3\n",
    "number match {\n",
    "  case a if a > 0 => \"Positivo\"\n",
    "  case a if a < 0 => \"Negativo\"\n",
    "  case _ => \"Cero\"\n",
    "}"
   ]
  },
  {
   "cell_type": "markdown",
   "id": "bcbd92c4-6d6b-4717-b618-eb22ad38b054",
   "metadata": {},
   "source": [
    "## Iteraciones con `for`"
   ]
  },
  {
   "cell_type": "markdown",
   "id": "9722f11e-e285-440d-a70c-18b517ca7493",
   "metadata": {},
   "source": [
    "Scala, como lenguaje de programación moderno que incorpora tanto la programación funcional como la orientada a objetos, ofrece una estructura de control `for` que es notablemente poderosa y flexible. A diferencia de los bucles for tradicionales en muchos otros lenguajes, el `for` en Scala puede hacer mucho más que simplemente iterar sobre rangos o colecciones**\n",
    "**1. For Básico**: Iterando sobre Colecciones\n",
    "\n",
    "El uso más común del bucle for es iterar sobre una colección de elementos, como una lista o un arreglo.\n",
    "\n",
    "**Ejemplo Básico:**"
   ]
  },
  {
   "cell_type": "code",
   "execution_count": 17,
   "id": "c0ade0b5-b7da-4bea-ac70-a84d9f6c4292",
   "metadata": {},
   "outputs": [
    {
     "name": "stdout",
     "output_type": "stream",
     "text": [
      "1\n",
      "2\n",
      "3\n",
      "4\n",
      "5\n"
     ]
    }
   ],
   "source": [
    "for (i <- 1 to 5) {\n",
    "  println(i)\n",
    "}"
   ]
  },
  {
   "cell_type": "markdown",
   "id": "2f5494cf-887c-4edf-bf21-4d91f5ca0c6d",
   "metadata": {},
   "source": [
    "**2. For con Colecciones Complejas**\n",
    "\n",
    "Scala permite iterar sobre colecciones más complejas, como listas de objetos o estructuras anidadas.\n",
    "\n",
    "Ejemplo con Lista de Objetos:"
   ]
  },
  {
   "cell_type": "code",
   "execution_count": null,
   "id": "8ff5b9b7-9783-4179-a513-6a7cca1de7fd",
   "metadata": {},
   "outputs": [],
   "source": [
    "case class Persona(nombre: String, edad: Int)"
   ]
  },
  {
   "cell_type": "code",
   "execution_count": null,
   "id": "f79bae76-1251-47ef-90b7-49a9a845c7bf",
   "metadata": {},
   "outputs": [],
   "source": [
    "val personas = List(Persona(\"Alice\", 30), Persona(\"Bob\", 25))"
   ]
  },
  {
   "cell_type": "code",
   "execution_count": 18,
   "id": "4ceb9c82-7cbe-4568-a8d3-788f3755a599",
   "metadata": {},
   "outputs": [
    {
     "name": "stdout",
     "output_type": "stream",
     "text": [
      "Alice tiene 30 años\n",
      "Bob tiene 25 años\n"
     ]
    },
    {
     "data": {
      "text/plain": [
       "defined class Persona\n",
       "personas = List(Persona(Alice,30), Persona(Bob,25))\n"
      ]
     },
     "metadata": {},
     "output_type": "display_data",
     "source": "user"
    },
    {
     "data": {
      "text/plain": [
       "List(Persona(Alice,30), Persona(Bob,25))"
      ]
     },
     "execution_count": 18,
     "metadata": {},
     "output_type": "execute_result"
    }
   ],
   "source": [
    "for (persona <- personas) {\n",
    "  println(s\"${persona.nombre} tiene ${persona.edad} años\")\n",
    "}"
   ]
  },
  {
   "cell_type": "markdown",
   "id": "d15ff5b7-ce70-44e9-91f6-c9c155ebd000",
   "metadata": {},
   "source": [
    "**3. For con Filtros (Guardas)**\n",
    "\n",
    "Scala permite agregar filtros o guardas dentro de un bucle for para seleccionar elementos específicos de la colección."
   ]
  },
  {
   "cell_type": "code",
   "execution_count": 19,
   "id": "f147df25-7f61-4c85-91e2-511ec9cab648",
   "metadata": {},
   "outputs": [
    {
     "name": "stdout",
     "output_type": "stream",
     "text": [
      "Alice\n"
     ]
    }
   ],
   "source": [
    "for (persona <- personas if persona.edad > 25) {\n",
    "  println(persona.nombre)\n",
    "}"
   ]
  },
  {
   "cell_type": "markdown",
   "id": "27aeabde-51a7-4cae-8587-e02785ce471f",
   "metadata": {},
   "source": [
    "**4. Ciclos anidados**"
   ]
  },
  {
   "cell_type": "code",
   "execution_count": 20,
   "id": "28a5f52a-630e-491a-aa49-ea59e64a3db2",
   "metadata": {},
   "outputs": [
    {
     "name": "stdout",
     "output_type": "stream",
     "text": [
      "(1, 1)\n",
      "(1, 2)\n",
      "(1, 3)\n",
      "(2, 1)\n",
      "(2, 2)\n",
      "(2, 3)\n",
      "(3, 1)\n",
      "(3, 2)\n",
      "(3, 3)\n"
     ]
    }
   ],
   "source": [
    "for {\n",
    "  x <- 1 to 3\n",
    "  y <- 1 to 3\n",
    "} println(s\"($x, $y)\")"
   ]
  },
  {
   "cell_type": "markdown",
   "id": "7794451f-1c8e-4790-b883-a00bfb5476e7",
   "metadata": {
    "jp-MarkdownHeadingCollapsed": true
   },
   "source": [
    "**4 For Comprehensions: Combinando Iteración y Transformación**\n",
    "\n",
    "Una de las características más poderosas de for en Scala son las for comprehensions, que permiten no solo iterar sobre colecciones, sino también transformarlas y combinarlas de maneras complejas."
   ]
  },
  {
   "cell_type": "code",
   "execution_count": 21,
   "id": "da7dbba9-8aff-4aa9-a1fa-ec5b68a0609e",
   "metadata": {},
   "outputs": [
    {
     "data": {
      "text/plain": [
       "nombres = List(Alice, Bob)\n"
      ]
     },
     "metadata": {},
     "output_type": "display_data",
     "source": "user"
    },
    {
     "data": {
      "text/plain": [
       "List(Alice, Bob)"
      ]
     },
     "execution_count": 21,
     "metadata": {},
     "output_type": "execute_result"
    }
   ],
   "source": [
    "val nombres = for (persona <- personas) yield persona.nombre"
   ]
  },
  {
   "cell_type": "code",
   "execution_count": 23,
   "id": "96829cf7-0af2-40fb-98f3-acda648bca24",
   "metadata": {},
   "outputs": [
    {
     "data": {
      "text/plain": [
       "List(Alice, Bob)"
      ]
     },
     "execution_count": 23,
     "metadata": {},
     "output_type": "execute_result"
    }
   ],
   "source": [
    "nombres"
   ]
  },
  {
   "cell_type": "markdown",
   "id": "8a3930ca-1fb0-4e52-ac18-7a7acafdec45",
   "metadata": {},
   "source": [
    "## Ciclos ```while```."
   ]
  },
  {
   "cell_type": "markdown",
   "id": "b2e3f17e-db7e-4c79-a44e-2cf54d0b68c2",
   "metadata": {},
   "source": [
    "Aunque Scala tiende a favorecer enfoques funcionales, el bucle `while` se mantiene como una herramienta útil en ciertos contextos, especialmente aquellos que requieren iteraciones basadas en condiciones que no son conocidas de antemano."
   ]
  },
  {
   "cell_type": "code",
   "execution_count": 24,
   "id": "010756e6-79c4-419b-8749-08c3876a38fa",
   "metadata": {},
   "outputs": [
    {
     "name": "stdout",
     "output_type": "stream",
     "text": [
      "Contando: 0\n",
      "Contando: 1\n",
      "Contando: 2\n",
      "Contando: 3\n",
      "Contando: 4\n"
     ]
    },
    {
     "data": {
      "text/plain": [
       "contador = 5\n"
      ]
     },
     "metadata": {},
     "output_type": "display_data",
     "source": "user"
    },
    {
     "data": {
      "text/plain": [
       "5"
      ]
     },
     "execution_count": 24,
     "metadata": {},
     "output_type": "execute_result"
    }
   ],
   "source": [
    "var contador = 0\n",
    "while (contador < 5) {\n",
    "  println(\"Contando: \" + contador)\n",
    "  contador += 1\n",
    "}"
   ]
  },
  {
   "cell_type": "markdown",
   "id": "a87efb04-d354-4404-af97-690a07b9880c",
   "metadata": {},
   "source": [
    "### `do`/`while`"
   ]
  },
  {
   "cell_type": "code",
   "execution_count": 27,
   "id": "d44d2406-1e83-4b92-9948-3428a49301ca",
   "metadata": {},
   "outputs": [
    {
     "name": "stdout",
     "output_type": "stream",
     "text": [
      "Contando: 0\n",
      "Contando: 1\n",
      "Contando: 2\n",
      "Contando: 3\n",
      "Contando: 4\n"
     ]
    },
    {
     "data": {
      "text/plain": [
       "contador = 5\n"
      ]
     },
     "metadata": {},
     "output_type": "display_data",
     "source": "user"
    },
    {
     "data": {
      "text/plain": [
       "5"
      ]
     },
     "execution_count": 27,
     "metadata": {},
     "output_type": "execute_result"
    }
   ],
   "source": [
    "contador = 0\n",
    "do {\n",
    "  println(\"Contando: \" + contador)\n",
    "  contador += 1\n",
    "} while (contador < 5)"
   ]
  },
  {
   "cell_type": "markdown",
   "id": "1ef1afee-bb02-4644-b291-bfa2dc241fe4",
   "metadata": {},
   "source": [
    "**Alternativas Funcionales a While**\n",
    "\n",
    "Scala fomenta un enfoque más funcional para las iteraciones, utilizando métodos de colecciones como `foreach`, `map`, `flatMap`, `filter`, y especialmente recursividad tail-recursive para reemplazar los bucles while."
   ]
  },
  {
   "cell_type": "code",
   "execution_count": 28,
   "id": "7d430802-417d-4c50-9346-02ca90fb5fbe",
   "metadata": {},
   "outputs": [
    {
     "data": {
      "text/plain": [
       "contarHastaCinco: (contador: Int)Unit\n"
      ]
     },
     "metadata": {},
     "output_type": "display_data",
     "source": "user"
    },
    {
     "name": "stdout",
     "output_type": "stream",
     "text": [
      "Contando: 0\n",
      "Contando: 1\n",
      "Contando: 2\n",
      "Contando: 3\n",
      "Contando: 4\n"
     ]
    }
   ],
   "source": [
    "def contarHastaCinco(contador: Int): Unit = {\n",
    "  if (contador < 5) {\n",
    "    println(\"Contando: \" + contador)\n",
    "    contarHastaCinco(contador + 1) // llamada recursiva\n",
    "  }\n",
    "}\n",
    "contarHastaCinco(0)"
   ]
  },
  {
   "cell_type": "code",
   "execution_count": null,
   "id": "ed9a54ba-e78c-42ed-bd0e-2740f56fbed6",
   "metadata": {},
   "outputs": [],
   "source": []
  },
  {
   "cell_type": "code",
   "execution_count": null,
   "id": "0d689f9a-5b08-4004-989e-cc5b041a38e4",
   "metadata": {},
   "outputs": [],
   "source": [
    "\n",
    "<p style=\"text-align: center\"><a rel=\"license\" href=\"http://creativecommons.org/licenses/by/4.0/\"><img alt=\"Licencia Creative Commons\" style=\"border-width:0\" src=\"https://i.creativecommons.org/l/by/4.0/80x15.png\" /></a><br />Esta obra está bajo una <a rel=\"license\" href=\"http://creativecommons.org/licenses/by/4.0/\">Licencia Creative Commons Atribución 4.0 Internacional</a>.</p>\n",
    "<p style=\"text-align: center\">&copy; José Luis Chiquete Valdivieso. 2024.</p>"
   ]
  }
 ],
 "metadata": {
  "kernelspec": {
   "display_name": "Apache Toree - Scala",
   "language": "scala",
   "name": "apache_toree_scala"
  },
  "language_info": {
   "codemirror_mode": "text/x-scala",
   "file_extension": ".scala",
   "mimetype": "text/x-scala",
   "name": "scala",
   "pygments_lexer": "scala",
   "version": "2.12.15"
  }
 },
 "nbformat": 4,
 "nbformat_minor": 5
}
