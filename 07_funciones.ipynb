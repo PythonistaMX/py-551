{
 "cells": [
  {
   "cell_type": "markdown",
   "id": "79d2fedd-ec22-4365-9e61-3ce3db715031",
   "metadata": {},
   "source": [
    "[![img/pythonista.png](img/pythonista.png)](https://www.pythonista.io)"
   ]
  },
  {
   "cell_type": "markdown",
   "id": "0af4d32d-3cf4-46cd-ab87-9908b104fa35",
   "metadata": {},
   "source": [
    "# Funciones."
   ]
  },
  {
   "cell_type": "markdown",
   "id": "efe20d8f-e28b-4b19-b011-67154d69fd51",
   "metadata": {},
   "source": [
    "Scala es un lenguaje de programación que combina la orientación a objetos y la programación funcional en un solo paradigma. Uno de los pilares fundamentales de la programación funcional es la creación y manipulación de funciones."
   ]
  },
  {
   "cell_type": "markdown",
   "id": "5302b82e-63b0-4691-bb78-dad030b10708",
   "metadata": {},
   "source": [
    "## Definición de una función."
   ]
  },
  {
   "cell_type": "markdown",
   "id": "947b21ee-cf21-46dd-b468-59848944c652",
   "metadata": {},
   "source": [
    "Existen varias formas de  definir una función en Scala.\n",
    "\n",
    "```\n",
    "def <nombre>(<param 1>, <param 2> ... <param n>): <tipo> = {\n",
    "  ...\n",
    "  ...\n",
    "<expresión>\n",
    "}\n",
    "\n",
    "En otros lenguajes de programación, se utiliza  algún comando como `return` para indicar el objeto que regresará una funci;on. En le caso de Scala, la función regresa el  resultado de la última expresión. Si la función no regresa algún objeto, se indica que regresa `Unit`."
   ]
  },
  {
   "cell_type": "markdown",
   "id": "1507be18-3193-464b-a157-efedab5d270e",
   "metadata": {},
   "source": [
    "**Ejemplos:**"
   ]
  },
  {
   "cell_type": "code",
   "execution_count": null,
   "id": "b295b7a5-0120-4b84-b0d9-4f9802ad63d7",
   "metadata": {},
   "outputs": [],
   "source": [
    "def suma(x: Double, y: Double): Double = {\n",
    "    x + y\n",
    "}"
   ]
  },
  {
   "cell_type": "code",
   "execution_count": null,
   "id": "4986a671-801c-40d8-bc72-4d93df35e965",
   "metadata": {},
   "outputs": [],
   "source": [
    "suma(1, 2)"
   ]
  },
  {
   "cell_type": "code",
   "execution_count": null,
   "id": "374aaddc-ed36-4c38-a938-3f4c4534087e",
   "metadata": {},
   "outputs": [],
   "source": [
    "def despliega_suma(x: Double, y: Double): Unit = {\n",
    "    println(x + y)\n",
    "}"
   ]
  },
  {
   "cell_type": "code",
   "execution_count": null,
   "id": "6904731d-b9c2-43d9-9aff-1d3a401b2f63",
   "metadata": {},
   "outputs": [],
   "source": [
    "despliega_suma(2, 2)"
   ]
  },
  {
   "cell_type": "markdown",
   "id": "2c6134c8-411d-43fa-8eaf-fe556302c0a2",
   "metadata": {},
   "source": [
    "### Parámetros con argumentos por defecto.\n",
    "Al definir una función, es posible definir el argumento por defecto de un parámetro.\n",
    "\n",
    "```\n",
    "<parámetro> : <tipo> = valor\n",
    "```\n",
    "Si al llamar a una función, se omite un argumento, la función utilizará el valor del argumento por defecto.\n",
    "\n",
    "La sustitución de argumentos se realiza de izquierda a derecha."
   ]
  },
  {
   "cell_type": "markdown",
   "id": "aee356d1-cc8e-4164-853d-57775416d887",
   "metadata": {},
   "source": [
    "**Ejemplo:**"
   ]
  },
  {
   "cell_type": "markdown",
   "id": "dc085aef-96aa-4775-aacd-a05bba563563",
   "metadata": {},
   "source": [
    "* Se define la función  `sumas()`, la cual define a los parámetros:\n",
    "  *  `x` con valor por defecto igual a `1`.\n",
    "  *  `y` con valor por defecto igual a `2`.\n",
    "  *  `z` con valor por defecto igual a `3`."
   ]
  },
  {
   "cell_type": "code",
   "execution_count": null,
   "id": "11cdfad1-399f-48be-97c1-f3f48486e853",
   "metadata": {},
   "outputs": [],
   "source": [
    "def sumas(x: Double = 1, y: Double = 2, z: Double = 3): Double = {\n",
    "    x + y + z\n",
    "}"
   ]
  },
  {
   "cell_type": "markdown",
   "id": "ee8f15c2-7464-4076-884a-661724a265b6",
   "metadata": {},
   "source": [
    "* La siguiente celda usará los valores de los argumentos asignados por defecto para la función  `sumas()`, dando por resultado: `6`. "
   ]
  },
  {
   "cell_type": "code",
   "execution_count": null,
   "id": "3ec43f8c-db54-45d3-9abf-0fc4624ada55",
   "metadata": {},
   "outputs": [],
   "source": [
    "sumas()"
   ]
  },
  {
   "cell_type": "markdown",
   "id": "57a0312f-f9ea-4867-89a8-3f91ce95602e",
   "metadata": {},
   "source": [
    "* En la siguiente celda se ingresarán un sólo argumento a la función `sumas()` con valor igual a `11` . Dicho argumento se asignará al parámetro `x`, regresando `16`."
   ]
  },
  {
   "cell_type": "code",
   "execution_count": null,
   "id": "7d12c900-a8cb-42c2-aadd-9751d13d1e43",
   "metadata": {},
   "outputs": [],
   "source": [
    "sumas(11)"
   ]
  },
  {
   "cell_type": "markdown",
   "id": "88055ee8-14d1-430a-a0ef-614dfbbca6ba",
   "metadata": {},
   "source": [
    "* En la siguiente celda se ingresarán dos argumentos a la función `sumas()`. Dichos argumento se asignará a los parámetros `x` y 'y', correspondiendo al orden de ingreso, regresando `15`."
   ]
  },
  {
   "cell_type": "code",
   "execution_count": null,
   "id": "acd84de7-8aa4-4207-ab3a-66f6b69f33f4",
   "metadata": {},
   "outputs": [],
   "source": [
    "sumas(5, 7)"
   ]
  },
  {
   "cell_type": "markdown",
   "id": "d4d32280-801b-4500-9e89-ce6d14a50613",
   "metadata": {},
   "source": [
    "* En la siguiente celda se ingresarán todos los argumentos a la funcióm `sumas()`, regresando `24`."
   ]
  },
  {
   "cell_type": "code",
   "execution_count": null,
   "id": "2cfd3e9e-d735-471b-815e-f7d32c7f5fc0",
   "metadata": {
    "scrolled": true
   },
   "outputs": [],
   "source": [
    "sumas(7, 8, 9)"
   ]
  },
  {
   "cell_type": "markdown",
   "id": "bbc388e6-11e3-4694-b04d-d86662d6ed33",
   "metadata": {},
   "source": [
    "* En la siguiente celda se ingresarán más argumentos que los parámetros definidos, lo que generará una exzcepción."
   ]
  },
  {
   "cell_type": "code",
   "execution_count": null,
   "id": "916f5f36-07e2-4851-9761-f2537504fc5c",
   "metadata": {
    "scrolled": true
   },
   "outputs": [],
   "source": [
    "sumas(7, 8, 9, 10)"
   ]
  },
  {
   "cell_type": "markdown",
   "id": "5303c3f2-5eca-44be-8c0d-1f4ee25978cf",
   "metadata": {},
   "source": [
    "### Orden de los parámetros con argumentos por defecto.\n",
    "\n",
    "Si una función es definida con parámetros sin argumentos por defecto, éstos serán enumerados al principio. "
   ]
  },
  {
   "cell_type": "markdown",
   "id": "d7a16e51-9ef9-4b0b-af9e-5407967546b8",
   "metadata": {},
   "source": [
    "**Ejemplos:**"
   ]
  },
  {
   "cell_type": "code",
   "execution_count": null,
   "id": "ff0cef84-8018-4375-9f45-52cff1ad62ee",
   "metadata": {},
   "outputs": [],
   "source": [
    "def sumatoria(x: Int, y: Int = 1): Int = {\n",
    "    x + y\n",
    "}\n",
    "sumatoria(2)"
   ]
  },
  {
   "cell_type": "code",
   "execution_count": null,
   "id": "795d438f-8dea-4a3f-81fe-db522a7708e3",
   "metadata": {},
   "outputs": [],
   "source": [
    "def sumatoria_incorrecta(x: Int = 1, y: Int): Int = {\n",
    "    x + y\n",
    "}\n",
    "sumatoria(2)"
   ]
  },
  {
   "cell_type": "markdown",
   "id": "f354e362-74c5-43d6-9973-9fa7a19ebf1e",
   "metadata": {},
   "source": [
    "### Ingreso de parámetros con argumentos definidos.\n",
    "\n",
    "Scala permite ingresar argumentos que indican el a qué parámetro se le asigna el valor. \n",
    "En caso de combinar parámetros con argumento definido y argumentos posicionales, es obligatorio seguir  el  orden definido."
   ]
  },
  {
   "cell_type": "markdown",
   "id": "01464d4a-35f7-4ddf-8d9e-f50fde04fb92",
   "metadata": {},
   "source": [
    "**Ejemplo:**"
   ]
  },
  {
   "cell_type": "code",
   "execution_count": null,
   "id": "134afd2a-8add-4e49-8803-c71bc222ba24",
   "metadata": {},
   "outputs": [],
   "source": [
    "def suma_triple(x: Double = 1, y: Double = 2, z: Double = 3): Double = {\n",
    "    x + y + z\n",
    "}"
   ]
  },
  {
   "cell_type": "markdown",
   "id": "9562403c-3deb-4ef7-8214-ac1c1e5a79dd",
   "metadata": {},
   "source": [
    "``` scala\n",
    "if (condición) {\n",
    "    // Código si la condición es verdadera\n",
    "} else {\n",
    "    // Código si la condición es falsa\n",
    "}\n",
    "```"
   ]
  },
  {
   "cell_type": "code",
   "execution_count": null,
   "id": "ae6b3cf8-31bc-44b8-8383-3cd53417aae6",
   "metadata": {},
   "outputs": [],
   "source": [
    "suma_triple(x = 3.5)"
   ]
  },
  {
   "cell_type": "code",
   "execution_count": null,
   "id": "50adf12a-6e8d-4443-865d-c7ef6a89b0b9",
   "metadata": {},
   "outputs": [],
   "source": [
    "suma_triple(y = 3.5)"
   ]
  },
  {
   "cell_type": "code",
   "execution_count": null,
   "id": "80b77e11-016f-4647-a651-087552784d66",
   "metadata": {},
   "outputs": [],
   "source": [
    "suma_triple(z = 3.5)"
   ]
  },
  {
   "cell_type": "code",
   "execution_count": null,
   "id": "144bfa6b-37ba-45e6-a2c0-561263d6044e",
   "metadata": {},
   "outputs": [],
   "source": [
    "suma_triple(z = 11, x = 3.5)"
   ]
  },
  {
   "cell_type": "code",
   "execution_count": null,
   "id": "d1b4efaf-0ce0-4f64-93c9-84c3229b5615",
   "metadata": {},
   "outputs": [],
   "source": [
    "suma_triple(1, y = 4, 3)"
   ]
  },
  {
   "cell_type": "code",
   "execution_count": null,
   "id": "118359d3-6b04-46ef-a2c6-0b1efa2810bd",
   "metadata": {},
   "outputs": [],
   "source": [
    "suma_triple(1, 2, y = 4)"
   ]
  },
  {
   "cell_type": "code",
   "execution_count": null,
   "id": "7747b333-ebbf-4160-9e93-4ac5685ac9d6",
   "metadata": {},
   "outputs": [],
   "source": [
    "suma_triple(z = 11, 1, 2)"
   ]
  },
  {
   "cell_type": "code",
   "execution_count": null,
   "id": "c751bbe8-57c0-4a21-8722-cfe31320d773",
   "metadata": {
    "scrolled": true
   },
   "outputs": [],
   "source": [
    "suma_triple(11, 2, x = 3.5)"
   ]
  },
  {
   "cell_type": "markdown",
   "id": "65a6dfd8-d451-4ba9-8a1f-940adf21b992",
   "metadata": {},
   "source": [
    "## Funciones con un número indrterminado de argumentos."
   ]
  },
  {
   "cell_type": "markdown",
   "id": "c172817e-7491-439a-ba42-5b85ca116585",
   "metadata": {},
   "source": [
    "```\n",
    "def <nombre>(<paramétro>*) ...\n",
    "```"
   ]
  },
  {
   "cell_type": "markdown",
   "id": "7bc2dcc0-1e59-46c7-8678-b045b0b5d09d",
   "metadata": {},
   "source": [
    "**Ejemplos:**"
   ]
  },
  {
   "cell_type": "code",
   "execution_count": null,
   "id": "b7d1f13f-e101-4103-a75b-12af41e028d1",
   "metadata": {},
   "outputs": [],
   "source": [
    "def multiplicador( numeros: Int*): Int = {\n",
    "    var resultado = 1\n",
    "    for (i <- numeros) {\n",
    "        resultado = resultado * i\n",
    "    }\n",
    "    resultado\n",
    "}"
   ]
  },
  {
   "cell_type": "code",
   "execution_count": null,
   "id": "49f61201-1922-43a0-be82-e283b3961a75",
   "metadata": {},
   "outputs": [],
   "source": [
    "multiplicador(1, 2, 3, 4, 5)"
   ]
  },
  {
   "cell_type": "code",
   "execution_count": null,
   "id": "66ab147a-1760-4256-93fd-604f363e53ae",
   "metadata": {},
   "outputs": [],
   "source": [
    "def multiplicador_con_titulo(titulo: String, numeros: Int*): (String,  Int) = {\n",
    "    var resultado = 1\n",
    "    for (i <- numeros) {\n",
    "        resultado = resultado * i\n",
    "    }\n",
    "    (titulo, resultado)\n",
    "}"
   ]
  },
  {
   "cell_type": "code",
   "execution_count": null,
   "id": "5025d65c-241a-4ecf-906e-694dd89f32a7",
   "metadata": {},
   "outputs": [],
   "source": [
    "multiplicador_con_titulo(\"Hola\", 1, 2, 3, 4)"
   ]
  },
  {
   "cell_type": "code",
   "execution_count": null,
   "id": "f1c4a70e-aa0d-499b-b705-a3600b681acd",
   "metadata": {},
   "outputs": [],
   "source": [
    "def multiplicador_incorrecto(numeros: Int*, otro_numero:Int): Int = {\n",
    "    var resultado = 1\n",
    "    for (i <- numeros) {\n",
    "        resultado = resultado * i\n",
    "    }\n",
    "    resultado + otro_numero\n",
    "}"
   ]
  },
  {
   "cell_type": "code",
   "execution_count": null,
   "id": "c0745540-b0fe-4eb2-8619-5c94b39d5b4d",
   "metadata": {},
   "outputs": [],
   "source": [
    "def multiplicador_varios(otro_numero: Int, numeros: Int*): Int = {\n",
    "    var resultado = 1\n",
    "    println(numeros)\n",
    "    for (i <- numeros) {\n",
    "        resultado = resultado * i\n",
    "    }\n",
    "    resultado + otro_numero\n",
    "}"
   ]
  },
  {
   "cell_type": "code",
   "execution_count": null,
   "id": "fc32d267-3ab2-44e9-8860-8f682f2515c6",
   "metadata": {},
   "outputs": [],
   "source": [
    "multiplicador_varios(1, 2, 3, 4, 5)"
   ]
  },
  {
   "cell_type": "markdown",
   "id": "ae36237f-6dea-4821-98f3-876cdaf50545",
   "metadata": {},
   "source": [
    "## Funciones lambda."
   ]
  },
  {
   "cell_type": "markdown",
   "id": "2fa81d85-5e77-4e69-a72a-76e2f19b6763",
   "metadata": {},
   "source": [
    "Scala permite definir funciones dentro de una sola expresión.\n",
    "```\n",
    "val <nombre>: (<tipo param 1>, <tipo param 2>) => <tipo salida>  = (<param 1>, <param 2>, ... <param n>) => <expresión> \n",
    "```"
   ]
  },
  {
   "cell_type": "markdown",
   "id": "e82ee7dd-b42e-41eb-bc25-8433640eaba1",
   "metadata": {},
   "source": [
    "**Ejemplo:**"
   ]
  },
  {
   "cell_type": "code",
   "execution_count": null,
   "id": "098c9aad-eddb-4c5d-816c-17cf0a15ac1e",
   "metadata": {},
   "outputs": [],
   "source": [
    "val multiplicacion: (Int, Int) => Int = (x: Int, y: Int) => x + y"
   ]
  },
  {
   "cell_type": "code",
   "execution_count": null,
   "id": "aaed2f8b-272f-401a-9039-a6d8f86285e1",
   "metadata": {},
   "outputs": [],
   "source": [
    "multiplicacion(2, 4)"
   ]
  },
  {
   "cell_type": "markdown",
   "id": "5c619b42-88c9-4850-a5c0-aa03c68e0a1d",
   "metadata": {},
   "source": [
    "## Funciones de orden superior."
   ]
  },
  {
   "cell_type": "markdown",
   "id": "6cf5b209-9a90-46a1-b828-806b0bac9643",
   "metadata": {},
   "source": [
    "Una función de orden superior es una función capaz de recibir una función como argumento y regresar una función."
   ]
  },
  {
   "cell_type": "markdown",
   "id": "e52e4d32-2cbd-4a85-8bbc-25201baa1447",
   "metadata": {},
   "source": [
    "**Ejemplo:**"
   ]
  },
  {
   "cell_type": "code",
   "execution_count": null,
   "id": "79985c1e-42eb-4124-a303-4d3163e18ee8",
   "metadata": {},
   "outputs": [],
   "source": [
    "def multiplica_funcion(multiplicador: Int, funcion: (Int, Int) => Int): Int = {\n",
    "    multiplicador * funcion(2 , 2)\n",
    "}"
   ]
  },
  {
   "cell_type": "code",
   "execution_count": null,
   "id": "724fc04c-f903-45be-be59-4e5e95ed5ac6",
   "metadata": {},
   "outputs": [],
   "source": [
    "val suma_numeros = (x: Int, y: Int) => x + y\n",
    "val multiplica_numeros = (x: Int, y: Int) => x + y"
   ]
  },
  {
   "cell_type": "code",
   "execution_count": null,
   "id": "19ed4c37-fa98-47ea-84e5-14972bf332a1",
   "metadata": {},
   "outputs": [],
   "source": [
    "multiplica_funcion(3, suma_numeros)"
   ]
  },
  {
   "cell_type": "code",
   "execution_count": null,
   "id": "c24cb71d-ef0e-4840-b47c-8166cad5f8ca",
   "metadata": {},
   "outputs": [],
   "source": [
    "multiplica_funcion(3, multiplica_numeros)"
   ]
  },
  {
   "cell_type": "markdown",
   "id": "6786fbca-4f15-4019-a3de-8fe69393bf6b",
   "metadata": {},
   "source": [
    "## Recursividad."
   ]
  },
  {
   "cell_type": "code",
   "execution_count": null,
   "id": "8ddbd30c-185f-4a8f-b8d9-d265e61f11cd",
   "metadata": {},
   "outputs": [],
   "source": [
    "val factorial: (Int => Int) = (numero: Int) => if (numero <= 1) 1 else numero * factorial(numero -1)"
   ]
  },
  {
   "cell_type": "code",
   "execution_count": null,
   "id": "6cd28534-2651-4951-b1da-93a0d34afed4",
   "metadata": {},
   "outputs": [],
   "source": [
    "factorial(5)"
   ]
  },
  {
   "cell_type": "markdown",
   "id": "891806bb-b683-4a39-8ad4-4bd8202126f6",
   "metadata": {},
   "source": [
    "### `if` / `else` como expresion.\n",
    "Esta estructura básica permite a los programas tomar decisiones y bifurcar el flujo de ejecución dependiendo de si una condición específica es verdadera o falsa."
   ]
  },
  {
   "cell_type": "markdown",
   "id": "1b0839f3-e390-4a5b-ada9-f6bd30f0cd98",
   "metadata": {},
   "source": [
    "\n",
    "A diferencia de muchos lenguajes imperativos, en Scala, casi todo es una expresión, incluyendo if/else. Esto significa que if/else no solo controla el flujo, sino que también devuelve un valor."
   ]
  },
  {
   "cell_type": "markdown",
   "id": "4b277548-28cd-4912-826c-f0fe2d957337",
   "metadata": {},
   "source": [
    "```scala\n",
    "val result = if (<condición>) \"Verdadero\" else \"Falso\"\n",
    "```"
   ]
  },
  {
   "cell_type": "code",
   "execution_count": null,
   "id": "f0c34577-ebb2-484e-8865-6cf92f876b02",
   "metadata": {},
   "outputs": [],
   "source": [
    "val numero  = 12"
   ]
  },
  {
   "cell_type": "code",
   "execution_count": null,
   "id": "c5a1a739-f742-4d94-86b3-024ced94bd83",
   "metadata": {},
   "outputs": [],
   "source": [
    "val es_mayor_a_cinco = if (numero > 5) \"sí\" else \"no\""
   ]
  },
  {
   "cell_type": "markdown",
   "id": "a683a779-af6b-4a05-9b94-5ee4101ac9fd",
   "metadata": {},
   "source": [
    "### `if`/ `else` anidado.\n",
    "\n",
    "Scala también soporta `if` anidados y estructuras de tipo escalera `if`-`else`-`if`, que son útiles para verificar múltiples condiciones.\n",
    "\n",
    "```\n",
    "if (<condición1>) {\n",
    "    // Código para condición1\n",
    "} else if (<condición2>) {\n",
    "    // Código para condición2\n",
    "...\n",
    "...\n",
    "} else {\n",
    "    // Código si ninguna condición anterior es verdadera\n",
    "}\n",
    "\n",
    "``` "
   ]
  },
  {
   "cell_type": "markdown",
   "id": "badbcefa-b622-4402-ba77-ab9622a56f74",
   "metadata": {},
   "source": [
    "Dada la naturaleza expresiva de `if`/`else` en Scala, se integra perfectamente en el estilo de programación funcional. Por ejemplo, se puede utilizar en combinación con funciones de orden superior, pasando funciones como parámetros o retornando funciones de un bloque `if`/`else`."
   ]
  },
  {
   "cell_type": "markdown",
   "id": "27a36901-cd6d-4f67-a7db-8e80f33dc694",
   "metadata": {},
   "source": [
    "\n",
    "<p style=\"text-align: center\"><a rel=\"license\" href=\"http://creativecommons.org/licenses/by/4.0/\"><img alt=\"Licencia Creative Commons\" style=\"border-width:0\" src=\"https://i.creativecommons.org/l/by/4.0/80x15.png\" /></a><br />Esta obra está bajo una <a rel=\"license\" href=\"http://creativecommons.org/licenses/by/4.0/\">Licencia Creative Commons Atribución 4.0 Internacional</a>.</p>\n",
    "<p style=\"text-align: center\">&copy; José Luis Chiquete Valdivieso. 2024.</p>"
   ]
  }
 ],
 "metadata": {
  "kernelspec": {
   "display_name": "Scala",
   "language": "scala",
   "name": "scala"
  },
  "language_info": {
   "codemirror_mode": "text/x-scala",
   "file_extension": ".sc",
   "mimetype": "text/x-scala",
   "name": "scala",
   "nbconvert_exporter": "script",
   "version": "2.13.12"
  }
 },
 "nbformat": 4,
 "nbformat_minor": 5
}
