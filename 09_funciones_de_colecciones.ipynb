{
 "cells": [
  {
   "cell_type": "markdown",
   "id": "79d2fedd-ec22-4365-9e61-3ce3db715031",
   "metadata": {},
   "source": [
    "[![img/pythonista.png](img/pythonista.png)](https://www.pythonista.io)"
   ]
  },
  {
   "cell_type": "markdown",
   "id": "0af4d32d-3cf4-46cd-ab87-9908b104fa35",
   "metadata": {},
   "source": [
    "# Funciones para colecciones."
   ]
  },
  {
   "cell_type": "markdown",
   "id": "74698ee4-c3dc-483c-94bc-c32aa70299e6",
   "metadata": {},
   "source": [
    "## Operaciones de Alto Nivel\n",
    "Una de las grandes fortalezas de las colecciones de Scala es su rica API que permite realizar operaciones complejas de manera concisa y expresiva. Las operaciones como `map()`, `filter()`, `reduce()`, y `fold()` permiten transformar, filtrar y combinar colecciones de manera eficiente y elegante, siguiendo los principios de la programación funcional. Estas operaciones son aplicables de manera uniforme a casi todos los tipos de colecciones, lo que proporciona una gran flexibilidad y poder expresivo."
   ]
  },
  {
   "cell_type": "markdown",
   "id": "efd9bcc0-8edc-4f07-a324-04b59a43058e",
   "metadata": {},
   "source": [
    "| Función       | Descripción                                                                                         | Ejemplo                            |\n",
    "|---------------|-----------------------------------------------------------------------------------------------------|------------------------------------|\n",
    "| `map`         | Transforma cada elemento de una colección aplicando una función y devuelve una nueva colección.   | `lista.map(x => x * 2)`           |\n",
    "| `filter`      | Filtra elementos de una colección basados en un criterio y devuelve una nueva colección.          | `lista.filter(x => x % 2 == 0)`   |\n",
    "| `reduce`      | Combina los elementos de una colección en un solo valor aplicando una función de reducción.      | `lista.reduce((x, y) => x + y)`   |\n",
    "| `fold`        | Similar a `reduce`, pero permite especificar un valor inicial para la acumulación.                | `lista.fold(0)((x, y) => x + y)`  |\n",
    "| `flatMap`     | Aplica una función a cada elemento de una colección y aplanar los resultados en una sola colección. | `lista.flatMap(x => List(x, x))`  |\n",
    "| `foreach`     | Aplica una función a cada elemento de una colección sin generar una nueva colección.              | `lista.foreach(x => println(x))`  |\n",
    "| `groupBy`         | Agrupa los elementos de una colección según una clave dada y devuelve un mapa con las claves y las listas de elementos correspondientes. | `lista.groupBy(x => x % 2)`             |\n",
    "| `sorted`          | Ordena los elementos de una colección según un criterio dado y devuelve una nueva colección ordenada.          | `lista.sorted`                         |\n",
    "| `distinct`        | Elimina los elementos duplicados de una colección y devuelve una nueva colección con valores únicos.         | `lista.distinct`                       |\n",
    "| `zip`             | Combina dos colecciones en una nueva colección de pares (tuplas).                                             | `lista1.zip(lista2)`                   |\n",
    "| `partition`       | Divide una colección en dos colecciones separadas según un predicado y devuelve un par de colecciones.       | `lista.partition(x => x % 2 == 0)`     |\n",
    "| `take`            | Devuelve los primeros n elementos de una colección.                                                            | `lista.take(3)`                        |\n",
    "| `drop`            | Elimina los primeros n elementos de una colección y devuelve el resto.                                       | `lista.drop(2)`                        |\n",
    "| `slice`           | Devuelve una subcolección desde un rango específico de índices.                                                | `lista.slice(1, 4)`                    |\n",
    "| `head`            | Devuelve el primer elemento de una colección.                                                                   | `lista.head`                           |\n",
    "| `tail`            | Devuelve todos los elementos excepto el primero de una colección.                                              | `lista.tail`                           |\n",
    "| `last`            | Devuelve el último elemento de una colección.                                                                   | `lista.last`                           |\n",
    "| `init`            | Devuelve todos los elementos excepto el último de una colección.                                               | `lista.init`                           |\n",
    "| `isEmpty`         | Comprueba si una colección está vacía.                                                                          | `lista.isEmpty`                        |\n",
    "| `size`            | Devuelve el número dementos en una colección.                                                               | `lista.size`                            |\n",
    "| `sum`             | Calcula la suma de los elementos de una colección de números.                                                    | `lista.sum`                             |\n",
    "| `product`         | Calcula el producto de los elementos de una colección de números.                                                | `lista.product`                         |\n",
    "| `max`             | Devuelve el valor máximo en una colección.                                                                     | `lista.max`                             |\n",
    "| `min`             | Devuelve el valor mínimo en una colección.                                                                     | `lista.min`                             |\n",
    "| `exists`          | Comprueba si al menos un elemento de una colección satisface un predicado.                                       | `lista.exists(x => x > 10)`             |\n",
    "| `forall`          | Comprueba si todos los elementos de una colección satisfacen un predicado.                                       | `lista.forall(x => x < 100)`            |\n",
    "| `count`           | Cuenta el número de elementos en una colección que satisfacen un predicado.                                     | `lista.count(x => x % 2 == 0)`          |\n",
    "| `find`            | Devuelve el primer elemento que cumple con un predicado, o `None` si ninguno lo hace (trabaja con `Option`). | `lista.find(x => x > 5)`                |\n",
    "| `dropWhile`       | Elimina elementos iniciales de una colección mientras cumplan con un predicado.                                 | `lista.dropWhile(x => x < 3)`           |\n",
    "| `takeWhile`       | Devuelve elementos iniciales de una colección mientras cumplan con un predicado.                                 | `lista.takeWhile(x => x < 3)`           |\n",
    "| `distinctBy`      | Elimina elementos duplicados de una colección según un criterio específico.                                     | `lista.distinctBy(x => x % 2)`          |\n",
    "| `mkString`        | Convierte una colección en una cadena de texto concatenando elementos.                                           | `lista.mkString(\", \")`                  |`                  |"
   ]
  },
  {
   "cell_type": "markdown",
   "id": "3b87875a-c46f-4fcf-9499-8c3c5011e42e",
   "metadata": {},
   "source": [
    "**Ejemplos:**"
   ]
  },
  {
   "cell_type": "code",
   "execution_count": null,
   "id": "25bc279a-c08c-4e48-87a0-57216ea1e746",
   "metadata": {},
   "outputs": [],
   "source": [
    "val lista = List(11, 2, 3, 4, 5, 6, 6, 8)"
   ]
  },
  {
   "cell_type": "code",
   "execution_count": null,
   "id": "7ada0647-e9fa-4580-8b5c-b9050d19ca55",
   "metadata": {},
   "outputs": [],
   "source": [
    "lista.map(x => x * 2)"
   ]
  },
  {
   "cell_type": "code",
   "execution_count": null,
   "id": "9f394388-59fb-49a8-beea-536acc58b44b",
   "metadata": {},
   "outputs": [],
   "source": [
    "lista.filter(x => x % 2 == 0)"
   ]
  },
  {
   "cell_type": "code",
   "execution_count": null,
   "id": "d1c76665-9370-4f78-8cb2-6c44b36558e9",
   "metadata": {},
   "outputs": [],
   "source": [
    "lista.reduce((x, y) => x + y)"
   ]
  },
  {
   "cell_type": "code",
   "execution_count": null,
   "id": "f6630f74-06d5-456a-aad9-1a92471c352d",
   "metadata": {},
   "outputs": [],
   "source": [
    "lista.fold(5)((x, y) => x + y)"
   ]
  },
  {
   "cell_type": "code",
   "execution_count": null,
   "id": "fd76190c-7976-453a-a133-fbc75251300c",
   "metadata": {},
   "outputs": [],
   "source": [
    "lista.map(x => List(x, x))"
   ]
  },
  {
   "cell_type": "code",
   "execution_count": null,
   "id": "f49f583e-6762-4a26-9b50-d0faa73db204",
   "metadata": {},
   "outputs": [],
   "source": [
    " lista.flatMap(x => List(x, x))"
   ]
  },
  {
   "cell_type": "code",
   "execution_count": null,
   "id": "c09e5c34-aae9-4364-826e-e60ce0ff9a33",
   "metadata": {},
   "outputs": [],
   "source": [
    "lista.foreach(x => println(x))"
   ]
  },
  {
   "cell_type": "code",
   "execution_count": null,
   "id": "629b9810-84be-4363-aefd-cc1a1ca545a2",
   "metadata": {},
   "outputs": [],
   "source": [
    "lista.foreach(println)"
   ]
  },
  {
   "cell_type": "code",
   "execution_count": null,
   "id": "033dc500-ad9d-4dae-922c-7ff978022044",
   "metadata": {},
   "outputs": [],
   "source": [
    "val listas_divididas = lista.groupBy(x => x % 2)"
   ]
  },
  {
   "cell_type": "code",
   "execution_count": null,
   "id": "26092231-c144-4679-abc0-fcaefa79d44c",
   "metadata": {},
   "outputs": [],
   "source": [
    "listas_divididas(0)"
   ]
  },
  {
   "cell_type": "code",
   "execution_count": null,
   "id": "55e491a7-b234-4480-835f-a8ab9dc2be68",
   "metadata": {},
   "outputs": [],
   "source": [
    "lista.sorted"
   ]
  },
  {
   "cell_type": "code",
   "execution_count": null,
   "id": "f98b837a-1cc7-4335-a9e1-94b4257aeabb",
   "metadata": {},
   "outputs": [],
   "source": [
    "lista.distinct"
   ]
  },
  {
   "cell_type": "code",
   "execution_count": null,
   "id": "27d41d99-375f-4ce3-8717-eec1fe8a5845",
   "metadata": {},
   "outputs": [],
   "source": [
    "lista.zip(List(\"a\", \"b\", \"c\"))"
   ]
  },
  {
   "cell_type": "code",
   "execution_count": null,
   "id": "c0f82dd2-1c28-4772-8328-b914f3ee7838",
   "metadata": {},
   "outputs": [],
   "source": [
    "lista.zip(List(\"a\", \"b\", \"c\", \"d\", \"e\", \"f\", \"g\", \"h\", \"i\",  \"j\"))"
   ]
  },
  {
   "cell_type": "code",
   "execution_count": null,
   "id": "eaa11fc6-f7b3-4bf2-b910-c8d0d57ac683",
   "metadata": {},
   "outputs": [],
   "source": [
    "val lista_particionada = lista.partition(x => x % 2 == 0)"
   ]
  },
  {
   "cell_type": "code",
   "execution_count": null,
   "id": "650ed93e-9330-45f5-b0ad-7621f96095ef",
   "metadata": {},
   "outputs": [],
   "source": [
    "lista_particionada._1"
   ]
  },
  {
   "cell_type": "code",
   "execution_count": null,
   "id": "ac7e4104-cb81-467d-94c4-8bc51f0619ae",
   "metadata": {},
   "outputs": [],
   "source": [
    "lista.take(3)"
   ]
  },
  {
   "cell_type": "code",
   "execution_count": null,
   "id": "242f9bb3-e899-444f-bb38-14e940ab71e3",
   "metadata": {},
   "outputs": [],
   "source": [
    "lista"
   ]
  },
  {
   "cell_type": "code",
   "execution_count": null,
   "id": "1f2f9a20-d263-4ee8-89cd-be4a0dd6e834",
   "metadata": {},
   "outputs": [],
   "source": [
    "lista.drop(2)"
   ]
  },
  {
   "cell_type": "code",
   "execution_count": null,
   "id": "54e7c8c8-48a4-4868-a09b-b19b2dcd7a45",
   "metadata": {},
   "outputs": [],
   "source": [
    "lista.slice(1, 4)"
   ]
  },
  {
   "cell_type": "code",
   "execution_count": null,
   "id": "0f08225c-f487-4a6b-8bdc-67ab5f107322",
   "metadata": {},
   "outputs": [],
   "source": [
    "lista.head"
   ]
  },
  {
   "cell_type": "code",
   "execution_count": null,
   "id": "82f43760-c64f-4449-b46b-c00e6d867e1c",
   "metadata": {},
   "outputs": [],
   "source": [
    "lista.tail"
   ]
  },
  {
   "cell_type": "code",
   "execution_count": null,
   "id": "54d96d21-1501-4cd1-b160-7ad28050381f",
   "metadata": {},
   "outputs": [],
   "source": [
    "lista.last"
   ]
  },
  {
   "cell_type": "code",
   "execution_count": null,
   "id": "c5c79216-cf27-43fa-86b7-9e0479fc749d",
   "metadata": {},
   "outputs": [],
   "source": [
    "lista.init"
   ]
  },
  {
   "cell_type": "code",
   "execution_count": null,
   "id": "2e5f983c-5b97-4f67-8b30-52ac9fbaaab3",
   "metadata": {},
   "outputs": [],
   "source": [
    "lista.isEmpty"
   ]
  },
  {
   "cell_type": "code",
   "execution_count": null,
   "id": "abbcedac-1abd-46ff-b482-0337ec5bebf5",
   "metadata": {},
   "outputs": [],
   "source": [
    "lista.size"
   ]
  },
  {
   "cell_type": "code",
   "execution_count": null,
   "id": "b7c425dd-0f33-408f-bd0d-dacd380053c4",
   "metadata": {},
   "outputs": [],
   "source": [
    "lista.sum"
   ]
  },
  {
   "cell_type": "code",
   "execution_count": null,
   "id": "2463720d-00dc-4fd7-966d-f53c2036a0f4",
   "metadata": {},
   "outputs": [],
   "source": [
    "lista.product"
   ]
  },
  {
   "cell_type": "code",
   "execution_count": null,
   "id": "6391ed70-c11b-415f-9e27-5ed0633af027",
   "metadata": {},
   "outputs": [],
   "source": [
    "lista.max"
   ]
  },
  {
   "cell_type": "code",
   "execution_count": null,
   "id": "78466a91-ee45-496f-b103-d18b313cbb36",
   "metadata": {},
   "outputs": [],
   "source": [
    "lista.min"
   ]
  },
  {
   "cell_type": "code",
   "execution_count": null,
   "id": "cda1a8e6-9822-46bf-9163-3b7d95106bb2",
   "metadata": {},
   "outputs": [],
   "source": [
    "lista.exists(x => x > 10)"
   ]
  },
  {
   "cell_type": "code",
   "execution_count": null,
   "id": "8d6f32b3-e36a-4448-9f2f-4974160cbbc4",
   "metadata": {},
   "outputs": [],
   "source": [
    "lista.forall(x => x < 100)"
   ]
  },
  {
   "cell_type": "code",
   "execution_count": null,
   "id": "5235f298-19e3-4095-b515-ea7e17c323c4",
   "metadata": {},
   "outputs": [],
   "source": [
    "lista.forall(x => x == 1)"
   ]
  },
  {
   "cell_type": "code",
   "execution_count": null,
   "id": "d0ef583a-f6bf-415e-8ac0-86dab76a37d7",
   "metadata": {},
   "outputs": [],
   "source": [
    "lista.count(x => x % 2 == 0)"
   ]
  },
  {
   "cell_type": "code",
   "execution_count": null,
   "id": "ed1fe75c-0980-4879-bca9-f28928e2e442",
   "metadata": {},
   "outputs": [],
   "source": [
    "lista.find(x => x > 5)"
   ]
  },
  {
   "cell_type": "code",
   "execution_count": null,
   "id": "485c1551-09e5-4d53-b369-09f2cf1a8a29",
   "metadata": {},
   "outputs": [],
   "source": [
    "lista.mkString(\", \")"
   ]
  },
  {
   "cell_type": "code",
   "execution_count": null,
   "id": "7ae6474e-b209-4a65-9321-7399f3b9754e",
   "metadata": {},
   "outputs": [],
   "source": [
    "lista"
   ]
  },
  {
   "cell_type": "code",
   "execution_count": null,
   "id": "41a766d5-2038-47a9-b511-c6ce59c2fae1",
   "metadata": {},
   "outputs": [],
   "source": [
    "lista.takeWhile(x => x > 3)"
   ]
  },
  {
   "cell_type": "code",
   "execution_count": null,
   "id": "6266b36b-cc14-45da-bfcc-b4a8c5ae1e8a",
   "metadata": {
    "scrolled": true
   },
   "outputs": [],
   "source": [
    "lista.dropWhile(x => x > 5)"
   ]
  },
  {
   "cell_type": "code",
   "execution_count": null,
   "id": "8caab76e-eae1-489c-a53b-97218134d7a7",
   "metadata": {},
   "outputs": [],
   "source": [
    "lista"
   ]
  },
  {
   "cell_type": "code",
   "execution_count": null,
   "id": "7345fc1b-74f2-4864-9230-b2d701207013",
   "metadata": {},
   "outputs": [],
   "source": [
    "lista.map(x => x % 2)"
   ]
  },
  {
   "cell_type": "code",
   "execution_count": null,
   "id": "c265abeb-1a3f-45a5-80bd-97872a3fdbd8",
   "metadata": {},
   "outputs": [],
   "source": [
    "lista.distinctBy(x => x % 2)"
   ]
  },
  {
   "cell_type": "markdown",
   "id": "27a36901-cd6d-4f67-a7db-8e80f33dc694",
   "metadata": {},
   "source": [
    "\n",
    "<p style=\"text-align: center\"><a rel=\"license\" href=\"http://creativecommons.org/licenses/by/4.0/\"><img alt=\"Licencia Creative Commons\" style=\"border-width:0\" src=\"https://i.creativecommons.org/l/by/4.0/80x15.png\" /></a><br />Esta obra está bajo una <a rel=\"license\" href=\"http://creativecommons.org/licenses/by/4.0/\">Licencia Creative Commons Atribución 4.0 Internacional</a>.</p>\n",
    "<p style=\"text-align: center\">&copy; José Luis Chiquete Valdivieso. 2024.</p>"
   ]
  }
 ],
 "metadata": {
  "kernelspec": {
   "display_name": "Scala",
   "language": "scala",
   "name": "scala"
  },
  "language_info": {
   "codemirror_mode": "text/x-scala",
   "file_extension": ".sc",
   "mimetype": "text/x-scala",
   "name": "scala",
   "nbconvert_exporter": "script",
   "version": "2.13.12"
  }
 },
 "nbformat": 4,
 "nbformat_minor": 5
}
